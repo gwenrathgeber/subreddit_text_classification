{
 "cells": [
  {
   "cell_type": "markdown",
   "metadata": {},
   "source": [
    "# Modeling and Analysis"
   ]
  },
  {
   "cell_type": "markdown",
   "metadata": {},
   "source": [
    "We will use 10 total models for our classification problem:\n",
    "1. [Logistic Regression](#Logistic-Regression)\n",
    "- [Lasso Logistic Regression](#Lasso-Logistic-Regression)\n",
    "- [Ridge Logistic Regression](#Ridge-Logistic-Regression)\n",
    "- [Naive Bayes](#Naive-Bayes)\n",
    "- [Decision Tree](#Decision-Tree)\n",
    "- [Random Forest](#Random-Forest)\n",
    "- [Gradient Boost](#Gradient-Boost)\n",
    "- [AdaBoost](#AdaBoost)\n",
    "- [Support Vector Classifier](#Support-Vector-Classifier)\n",
    "\n",
    "\n",
    "and finally a [weighted ensemble model](#Voting-Ensemble) of all nine previous models.\n",
    "\n",
    "We have chosen to diversify the application of models and include a weighted-vote ensemble because almost without exception, we see considerable overfitting issues for each base model.\n",
    "\n",
    "Our first step will be hyperparameter selection and individual model evaluation. We will use a very limited subset of the data for hyperparameter selection due to the size of our data. Final results will use a full train/test split of all of our ~70,000 observations, but because of the large number of fits necessary during hyperparameter selection, we will only use 5% of the total data.\n",
    "\n",
    "To further mitigate the computational cost of hyperparameter selection, we will use a random hyperparameter search instead of a grid search, which is [shown in practice](https://towardsdatascience.com/random-search-vs-grid-search-for-hyperparameter-optimization-345e1422899d) to be quicker than equivalently precise gridsearches. For all models, we will test 75 hyperparameter combinations with 5-fold cross validation, or 375 total fits.\n",
    "\n",
    "While this is not optimal and we are likely to have some poor hyperparameters and bad fits as a result, it is a necessary limitation to impose due to time constraints and the high dimensionality of bag-of-words classification.\n",
    "\n",
    "For all models, we will use the TfidVectorizer to prepare our data, with hyperparameters standardized based on preliminary testing for simplicity. When indicated (particularly for the Support Vector and regularized Logistic Regression models), we will use non-centered scaling (to preserve the sparsity of our word matrices) as an additional step in the model pipeline.\n",
    "\n",
    "Selecting a wide range of models also allows us to visualize the most important features for non-black box models, important for communicating our findings.\n",
    "\n",
    "Our objective function is raw classification accuracy. This is because our goal is simply to demonstrate that there are meaningful differences between the content of discussions on each of our three subreddits."
   ]
  },
  {
   "cell_type": "code",
   "execution_count": 1,
   "metadata": {},
   "outputs": [],
   "source": [
    "# Imports\n",
    "\n",
    "import pandas as pd\n",
    "import numpy as np\n",
    "import matplotlib.pyplot as plt\n",
    "import seaborn as sns\n",
    "import re\n",
    "from sklearn.feature_extraction.text import TfidfVectorizer\n",
    "from sklearn.model_selection import train_test_split, cross_val_score, GridSearchCV, RandomizedSearchCV\n",
    "from sklearn.pipeline import Pipeline\n",
    "from sklearn.preprocessing import StandardScaler\n",
    "from sklearn.linear_model import LogisticRegression\n",
    "from sklearn.naive_bayes import MultinomialNB\n",
    "from sklearn.tree import DecisionTreeClassifier, plot_tree\n",
    "from sklearn.ensemble import GradientBoostingClassifier, AdaBoostClassifier, VotingClassifier, RandomForestClassifier\n",
    "from sklearn.svm import SVC\n",
    "from sklearn.metrics import plot_confusion_matrix, plot_roc_curve\n",
    "from scipy.stats import uniform, loguniform\n",
    "import json\n",
    "\n",
    "\n",
    "\n",
    "pd.set_option('display.max_columns', 100)\n",
    "pd.set_option('display.max_rows', 100)"
   ]
  },
  {
   "cell_type": "code",
   "execution_count": 2,
   "metadata": {},
   "outputs": [],
   "source": [
    "# Data reading \n",
    "df = pd.read_csv('../data/preprocessed_subreddit_data.csv')\n",
    "df.dropna(inplace=True)\n",
    "\n",
    "with open('../data/stop_words.json', 'r') as fp:\n",
    "    stop_words = json.load(fp)\n",
    "stop_words = stop_words['words']\n",
    "\n",
    "# Full text field creation\n",
    "df['fulltext'] = df['title'] + ' ' + df['selftext']"
   ]
  },
  {
   "cell_type": "code",
   "execution_count": 3,
   "metadata": {},
   "outputs": [],
   "source": [
    "# Hyperparameter training sample creation\n",
    "sample = df.sample(frac=.05, random_state=42)\n",
    "\n",
    "X = sample['fulltext']\n",
    "y = sample['subreddit']\n",
    "\n",
    "X_train, X_test, y_train, y_test = train_test_split(X,y,stratify=y, random_state=42)\n",
    "\n",
    "core_tfidf = TfidfVectorizer( max_df=.325,\n",
    "    max_features=6500,\n",
    "    min_df=5,\n",
    "    ngram_range=(1, 2),\n",
    "    stop_words=stop_words).fit(X_train)\n",
    "\n",
    "coef_names = core_tfidf.get_feature_names()"
   ]
  },
  {
   "cell_type": "code",
   "execution_count": 4,
   "metadata": {},
   "outputs": [],
   "source": [
    "# Table of Train and Test Accuracy\n",
    "model_accuracy = pd.DataFrame()"
   ]
  },
  {
   "cell_type": "markdown",
   "metadata": {},
   "source": [
    "### Helper Functions"
   ]
  },
  {
   "cell_type": "code",
   "execution_count": 5,
   "metadata": {},
   "outputs": [],
   "source": [
    "def add_accuracy(model,title):\n",
    "    model_accuracy.loc[title,'Train Accuracy'] = model.best_estimator_.score(X_train,y_train)\n",
    "    model_accuracy.loc[title,'Test Accuracy'] = model.best_estimator_.score(X_test,y_test)\n",
    "    model_accuracy.loc[title,'Overfittedness'] = round(model.best_estimator_.score(X_train,y_train) - model.best_estimator_.score(X_test,y_test),4)\n",
    "    model_accuracy.loc[title,'Best Params'] = str(model.best_params_)"
   ]
  },
  {
   "cell_type": "code",
   "execution_count": 6,
   "metadata": {},
   "outputs": [],
   "source": [
    "def confusion_matrix(model,title):\n",
    "    fig, ax = plt.subplots(figsize=(8,8))\n",
    "    plot_confusion_matrix(model,X_test,y_test, values_format='d', cmap='PuOr', ax=ax)\n",
    "    plt.title(f'Confusion Matrix for {title}');"
   ]
  },
  {
   "cell_type": "markdown",
   "metadata": {},
   "source": [
    "### Baseline Model"
   ]
  },
  {
   "cell_type": "code",
   "execution_count": 7,
   "metadata": {},
   "outputs": [],
   "source": [
    "baseline_train_preds = ['asoiaf'] * len(X_train)\n",
    "baseline_test_preds = ['asoiaf'] * len(X_test)"
   ]
  },
  {
   "cell_type": "code",
   "execution_count": 8,
   "metadata": {},
   "outputs": [
    {
     "data": {
      "text/plain": [
       "asoiaf           0.443182\n",
       "freefolk         0.283519\n",
       "gameofthrones    0.273299\n",
       "Name: subreddit, dtype: float64"
      ]
     },
     "execution_count": 8,
     "metadata": {},
     "output_type": "execute_result"
    }
   ],
   "source": [
    "df['subreddit'].value_counts(normalize=True)"
   ]
  },
  {
   "cell_type": "markdown",
   "metadata": {},
   "source": [
    "Our baseline accuracy if we simply guessed the most common class (asoiaf) for every prediction is 44.3%. "
   ]
  },
  {
   "cell_type": "markdown",
   "metadata": {},
   "source": [
    "### Logistic Regression"
   ]
  },
  {
   "cell_type": "markdown",
   "metadata": {},
   "source": [
    "#### Fitting"
   ]
  },
  {
   "cell_type": "code",
   "execution_count": 9,
   "metadata": {},
   "outputs": [
    {
     "data": {
      "text/plain": [
       "Pipeline(memory=None,\n",
       "         steps=[('tfid',\n",
       "                 TfidfVectorizer(analyzer='word', binary=False,\n",
       "                                 decode_error='strict',\n",
       "                                 dtype=<class 'numpy.float64'>,\n",
       "                                 encoding='utf-8', input='content',\n",
       "                                 lowercase=True, max_df=0.325,\n",
       "                                 max_features=6500, min_df=5,\n",
       "                                 ngram_range=(1, 2), norm='l2',\n",
       "                                 preprocessor=None, smooth_idf=True,\n",
       "                                 stop_words=['less', 'series', 'least', 'or',\n",
       "                                             'with', 'sixty', 'battle', 'di...\n",
       "                                 strip_accents=None, sublinear_tf=False,\n",
       "                                 token_pattern='(?u)\\\\b\\\\w\\\\w+\\\\b',\n",
       "                                 tokenizer=None, use_idf=True,\n",
       "                                 vocabulary=None)),\n",
       "                ('logit',\n",
       "                 LogisticRegression(C=1.0, class_weight=None, dual=False,\n",
       "                                    fit_intercept=True, intercept_scaling=1,\n",
       "                                    l1_ratio=None, max_iter=1000,\n",
       "                                    multi_class='auto', n_jobs=None,\n",
       "                                    penalty='none', random_state=None,\n",
       "                                    solver='lbfgs', tol=0.0001, verbose=0,\n",
       "                                    warm_start=False))],\n",
       "         verbose=False)"
      ]
     },
     "execution_count": 9,
     "metadata": {},
     "output_type": "execute_result"
    }
   ],
   "source": [
    "logit_pipe = Pipeline([('tfid', TfidfVectorizer(\n",
    "    max_df=.325,\n",
    "    max_features=6500,\n",
    "    min_df=5,\n",
    "    ngram_range=(1, 2),\n",
    "    stop_words=stop_words)),\n",
    "    ('logit', LogisticRegression(penalty='none',\n",
    "                               solver='lbfgs',\n",
    "                                max_iter=1000,\n",
    "                                 verbose=0\n",
    "                                ))])\n",
    "\n",
    "logit_pipe.fit(X_train,y_train)"
   ]
  },
  {
   "cell_type": "markdown",
   "metadata": {},
   "source": [
    "#### Evaluation"
   ]
  },
  {
   "cell_type": "code",
   "execution_count": 10,
   "metadata": {},
   "outputs": [],
   "source": [
    "model_accuracy.loc['LogisticRegression','Train Accuracy'] = logit_pipe.score(X_train,y_train)\n",
    "\n",
    "model_accuracy.loc['LogisticRegression','Test Accuracy'] = logit_pipe.score(X_test,y_test)\n",
    "\n",
    "model_accuracy.loc['LogisticRegression','Overfittedness'] = round(logit_pipe.score(X_train,y_train) - logit_pipe.score(X_test,y_test),4)"
   ]
  },
  {
   "cell_type": "code",
   "execution_count": 11,
   "metadata": {},
   "outputs": [
    {
     "data": {
      "text/html": [
       "<div>\n",
       "<style scoped>\n",
       "    .dataframe tbody tr th:only-of-type {\n",
       "        vertical-align: middle;\n",
       "    }\n",
       "\n",
       "    .dataframe tbody tr th {\n",
       "        vertical-align: top;\n",
       "    }\n",
       "\n",
       "    .dataframe thead th {\n",
       "        text-align: right;\n",
       "    }\n",
       "</style>\n",
       "<table border=\"1\" class=\"dataframe\">\n",
       "  <thead>\n",
       "    <tr style=\"text-align: right;\">\n",
       "      <th></th>\n",
       "      <th>Train Accuracy</th>\n",
       "      <th>Test Accuracy</th>\n",
       "      <th>Overfittedness</th>\n",
       "    </tr>\n",
       "  </thead>\n",
       "  <tbody>\n",
       "    <tr>\n",
       "      <th>LogisticRegression</th>\n",
       "      <td>1.0</td>\n",
       "      <td>0.574011</td>\n",
       "      <td>0.426</td>\n",
       "    </tr>\n",
       "  </tbody>\n",
       "</table>\n",
       "</div>"
      ],
      "text/plain": [
       "                    Train Accuracy  Test Accuracy  Overfittedness\n",
       "LogisticRegression             1.0       0.574011           0.426"
      ]
     },
     "execution_count": 11,
     "metadata": {},
     "output_type": "execute_result"
    }
   ],
   "source": [
    "model_accuracy"
   ]
  },
  {
   "cell_type": "markdown",
   "metadata": {},
   "source": [
    "We see that unregularized Logistic Regression is highly overfit. Without meaningful hyperparameters to tune, our only recourse here would be to reduce the number of features in our data manually. We will have to explore some more options.\n",
    "\n",
    "This result is expected. Without many meaningful hyperparameters available to tune or any regularization, this dataset is problematic for a basic logistic regression."
   ]
  },
  {
   "cell_type": "code",
   "execution_count": 12,
   "metadata": {},
   "outputs": [
    {
     "data": {
      "image/png": "[encoded data removed]",
      "text/plain": [
       "<Figure size 576x576 with 2 Axes>"
      ]
     },
     "metadata": {
      "needs_background": "light"
     },
     "output_type": "display_data"
    }
   ],
   "source": [
    "fig, ax = plt.subplots(figsize=(8,8))\n",
    "plot_confusion_matrix(logit_pipe,X_test,y_test, values_format='d', cmap='PuOr', ax=ax)\n",
    "plt.title('Confusion Matrix for Logistic Regression');"
   ]
  },
  {
   "cell_type": "markdown",
   "metadata": {},
   "source": [
    "We see that our logistic regression is more likely to confuse r/freefolk and r/gameofthrones with each other than either with r/asoiaf. This is expected given our EDA, which showed a much larger space of words which are particularly common to r/asoiaf, but not to the other two subreddits."
   ]
  },
  {
   "cell_type": "markdown",
   "metadata": {},
   "source": [
    "### Lasso Logistic Regression"
   ]
  },
  {
   "cell_type": "markdown",
   "metadata": {},
   "source": [
    "#### Fitting"
   ]
  },
  {
   "cell_type": "code",
   "execution_count": 13,
   "metadata": {},
   "outputs": [],
   "source": [
    "lasso_pipe = Pipeline([('tfid', TfidfVectorizer(\n",
    "    max_df=.325,\n",
    "    max_features=6500,\n",
    "    min_df=5,\n",
    "    ngram_range=(1, 2),\n",
    "    stop_words=stop_words)),\n",
    "    ('ss', StandardScaler(with_mean=False)),\n",
    "    ('lasso', LogisticRegression(penalty='l1',\n",
    "                                 solver='liblinear'\n",
    "                                 ))])\n",
    "\n",
    "lasso_params = {\n",
    "    'lasso__C': loguniform(1.0000001,20)\n",
    "}"
   ]
  },
  {
   "cell_type": "code",
   "execution_count": 14,
   "metadata": {},
   "outputs": [
    {
     "name": "stdout",
     "output_type": "stream",
     "text": [
      "Fitting 5 folds for each of 75 candidates, totalling 375 fits\n"
     ]
    },
    {
     "name": "stderr",
     "output_type": "stream",
     "text": [
      "[Parallel(n_jobs=-1)]: Using backend LokyBackend with 4 concurrent workers.\n",
      "[Parallel(n_jobs=-1)]: Done  42 tasks      | elapsed:   17.7s\n",
      "[Parallel(n_jobs=-1)]: Done 192 tasks      | elapsed:  1.2min\n",
      "[Parallel(n_jobs=-1)]: Done 375 out of 375 | elapsed:  2.3min finished\n"
     ]
    },
    {
     "data": {
      "text/plain": [
       "RandomizedSearchCV(cv=5, error_score=nan,\n",
       "                   estimator=Pipeline(memory=None,\n",
       "                                      steps=[('tfid',\n",
       "                                              TfidfVectorizer(analyzer='word',\n",
       "                                                              binary=False,\n",
       "                                                              decode_error='strict',\n",
       "                                                              dtype=<class 'numpy.float64'>,\n",
       "                                                              encoding='utf-8',\n",
       "                                                              input='content',\n",
       "                                                              lowercase=True,\n",
       "                                                              max_df=0.325,\n",
       "                                                              max_features=6500,\n",
       "                                                              min_df=5,\n",
       "                                                              ngram_range=(1,\n",
       "                                                                           2),\n",
       "                                                              norm='l2',\n",
       "                                                              preprocessor=None,\n",
       "                                                              smooth_idf=True,\n",
       "                                                              stop_words=['less'...\n",
       "                                                                 penalty='l1',\n",
       "                                                                 random_state=None,\n",
       "                                                                 solver='liblinear',\n",
       "                                                                 tol=0.0001,\n",
       "                                                                 verbose=0,\n",
       "                                                                 warm_start=False))],\n",
       "                                      verbose=False),\n",
       "                   iid='deprecated', n_iter=75, n_jobs=-1,\n",
       "                   param_distributions={'lasso__C': <scipy.stats._distn_infrastructure.rv_frozen object at 0x000002276B1D0408>},\n",
       "                   pre_dispatch='2*n_jobs', random_state=42, refit=True,\n",
       "                   return_train_score=False, scoring=None, verbose=True)"
      ]
     },
     "execution_count": 14,
     "metadata": {},
     "output_type": "execute_result"
    }
   ],
   "source": [
    "lasso_rs = RandomizedSearchCV(lasso_pipe,\n",
    "                             lasso_params,\n",
    "                             n_iter=75,\n",
    "                             cv=5,\n",
    "                             n_jobs=-1,\n",
    "                             verbose=True,\n",
    "                             random_state=42)\n",
    "\n",
    "lasso_rs.fit(X_train,y_train)"
   ]
  },
  {
   "cell_type": "markdown",
   "metadata": {},
   "source": [
    "#### Evaluation"
   ]
  },
  {
   "cell_type": "code",
   "execution_count": 15,
   "metadata": {},
   "outputs": [
    {
     "data": {
      "text/html": [
       "<div>\n",
       "<style scoped>\n",
       "    .dataframe tbody tr th:only-of-type {\n",
       "        vertical-align: middle;\n",
       "    }\n",
       "\n",
       "    .dataframe tbody tr th {\n",
       "        vertical-align: top;\n",
       "    }\n",
       "\n",
       "    .dataframe thead th {\n",
       "        text-align: right;\n",
       "    }\n",
       "</style>\n",
       "<table border=\"1\" class=\"dataframe\">\n",
       "  <thead>\n",
       "    <tr style=\"text-align: right;\">\n",
       "      <th></th>\n",
       "      <th>Train Accuracy</th>\n",
       "      <th>Test Accuracy</th>\n",
       "      <th>Overfittedness</th>\n",
       "      <th>Best Params</th>\n",
       "    </tr>\n",
       "  </thead>\n",
       "  <tbody>\n",
       "    <tr>\n",
       "      <th>LogisticRegression</th>\n",
       "      <td>1.0</td>\n",
       "      <td>0.574011</td>\n",
       "      <td>0.4260</td>\n",
       "      <td>NaN</td>\n",
       "    </tr>\n",
       "    <tr>\n",
       "      <th>LassoLogisticRegression</th>\n",
       "      <td>1.0</td>\n",
       "      <td>0.545763</td>\n",
       "      <td>0.4542</td>\n",
       "      <td>{'lasso__C': 1.0636067554253128}</td>\n",
       "    </tr>\n",
       "  </tbody>\n",
       "</table>\n",
       "</div>"
      ],
      "text/plain": [
       "                         Train Accuracy  Test Accuracy  Overfittedness  \\\n",
       "LogisticRegression                  1.0       0.574011          0.4260   \n",
       "LassoLogisticRegression             1.0       0.545763          0.4542   \n",
       "\n",
       "                                              Best Params  \n",
       "LogisticRegression                                    NaN  \n",
       "LassoLogisticRegression  {'lasso__C': 1.0636067554253128}  "
      ]
     },
     "execution_count": 15,
     "metadata": {},
     "output_type": "execute_result"
    }
   ],
   "source": [
    "add_accuracy(lasso_rs,'LassoLogisticRegression')\n",
    "model_accuracy"
   ]
  },
  {
   "cell_type": "code",
   "execution_count": 16,
   "metadata": {},
   "outputs": [
    {
     "data": {
      "image/png": "[encoded data removed]",
      "text/plain": [
       "<Figure size 576x576 with 2 Axes>"
      ]
     },
     "metadata": {
      "needs_background": "light"
     },
     "output_type": "display_data"
    }
   ],
   "source": [
    "confusion_matrix(lasso_rs.best_estimator_,'Lasso Logistic Regression')"
   ]
  },
  {
   "cell_type": "markdown",
   "metadata": {},
   "source": [
    "Overall, our test accuracy improved with regularization by about 3%, in exchange for about 8% higher bias. Given that we were starting with an unregularized model with 0% bias (100% training accuracy), we are fine with a high ratio of bias loss to variance loss in this context.\n",
    "\n",
    "In the confusion matrix, we can again see a tendency to confuse r/freefolk and r/gameofthrones. The Lasso Logistic Regression was even more accurate in identifying r/asoiaf posts, but had a particular problem with overpredicting r/freefolk posts as r/gameofthrones posts, disproportionately so compared to the unregularized Logistic Regression."
   ]
  },
  {
   "cell_type": "markdown",
   "metadata": {},
   "source": [
    "### Ridge Logistic Regression"
   ]
  },
  {
   "cell_type": "markdown",
   "metadata": {},
   "source": [
    "#### Fitting"
   ]
  },
  {
   "cell_type": "code",
   "execution_count": 17,
   "metadata": {},
   "outputs": [],
   "source": [
    "ridge_pipe = Pipeline([('tfid', TfidfVectorizer(\n",
    "    max_df=.325,\n",
    "    max_features=6500,\n",
    "    min_df=5,\n",
    "    ngram_range=(1, 2),\n",
    "    stop_words=stop_words)),\n",
    "    ('ss', StandardScaler(with_mean=False)),\n",
    "    ('ridge', LogisticRegression(penalty='l2',\n",
    "                                 solver='liblinear'\n",
    "                                 ))])\n",
    "\n",
    "ridge_params = {\n",
    "    'ridge__C': loguniform(1.0000001,20)\n",
    "}"
   ]
  },
  {
   "cell_type": "code",
   "execution_count": 18,
   "metadata": {},
   "outputs": [
    {
     "name": "stdout",
     "output_type": "stream",
     "text": [
      "Fitting 5 folds for each of 75 candidates, totalling 375 fits\n"
     ]
    },
    {
     "name": "stderr",
     "output_type": "stream",
     "text": [
      "[Parallel(n_jobs=-1)]: Using backend LokyBackend with 4 concurrent workers.\n",
      "[Parallel(n_jobs=-1)]: Done  42 tasks      | elapsed:   15.8s\n",
      "[Parallel(n_jobs=-1)]: Done 192 tasks      | elapsed:  1.1min\n",
      "[Parallel(n_jobs=-1)]: Done 375 out of 375 | elapsed:  2.2min finished\n"
     ]
    },
    {
     "data": {
      "text/plain": [
       "RandomizedSearchCV(cv=5, error_score=nan,\n",
       "                   estimator=Pipeline(memory=None,\n",
       "                                      steps=[('tfid',\n",
       "                                              TfidfVectorizer(analyzer='word',\n",
       "                                                              binary=False,\n",
       "                                                              decode_error='strict',\n",
       "                                                              dtype=<class 'numpy.float64'>,\n",
       "                                                              encoding='utf-8',\n",
       "                                                              input='content',\n",
       "                                                              lowercase=True,\n",
       "                                                              max_df=0.325,\n",
       "                                                              max_features=6500,\n",
       "                                                              min_df=5,\n",
       "                                                              ngram_range=(1,\n",
       "                                                                           2),\n",
       "                                                              norm='l2',\n",
       "                                                              preprocessor=None,\n",
       "                                                              smooth_idf=True,\n",
       "                                                              stop_words=['less'...\n",
       "                                                                 penalty='l2',\n",
       "                                                                 random_state=None,\n",
       "                                                                 solver='liblinear',\n",
       "                                                                 tol=0.0001,\n",
       "                                                                 verbose=0,\n",
       "                                                                 warm_start=False))],\n",
       "                                      verbose=False),\n",
       "                   iid='deprecated', n_iter=75, n_jobs=-1,\n",
       "                   param_distributions={'ridge__C': <scipy.stats._distn_infrastructure.rv_frozen object at 0x0000022702B7D288>},\n",
       "                   pre_dispatch='2*n_jobs', random_state=42, refit=True,\n",
       "                   return_train_score=False, scoring=None, verbose=True)"
      ]
     },
     "execution_count": 18,
     "metadata": {},
     "output_type": "execute_result"
    }
   ],
   "source": [
    "ridge_rs = RandomizedSearchCV(ridge_pipe,\n",
    "                             ridge_params,\n",
    "                             n_iter=75,\n",
    "                             cv=5,\n",
    "                             n_jobs=-1,\n",
    "                             verbose=True,\n",
    "                             random_state = 42)\n",
    "\n",
    "ridge_rs.fit(X_train,y_train)"
   ]
  },
  {
   "cell_type": "markdown",
   "metadata": {},
   "source": [
    "#### Evaluation"
   ]
  },
  {
   "cell_type": "code",
   "execution_count": 19,
   "metadata": {},
   "outputs": [
    {
     "data": {
      "text/html": [
       "<div>\n",
       "<style scoped>\n",
       "    .dataframe tbody tr th:only-of-type {\n",
       "        vertical-align: middle;\n",
       "    }\n",
       "\n",
       "    .dataframe tbody tr th {\n",
       "        vertical-align: top;\n",
       "    }\n",
       "\n",
       "    .dataframe thead th {\n",
       "        text-align: right;\n",
       "    }\n",
       "</style>\n",
       "<table border=\"1\" class=\"dataframe\">\n",
       "  <thead>\n",
       "    <tr style=\"text-align: right;\">\n",
       "      <th></th>\n",
       "      <th>Train Accuracy</th>\n",
       "      <th>Test Accuracy</th>\n",
       "      <th>Overfittedness</th>\n",
       "      <th>Best Params</th>\n",
       "    </tr>\n",
       "  </thead>\n",
       "  <tbody>\n",
       "    <tr>\n",
       "      <th>LogisticRegression</th>\n",
       "      <td>1.0</td>\n",
       "      <td>0.574011</td>\n",
       "      <td>0.4260</td>\n",
       "      <td>NaN</td>\n",
       "    </tr>\n",
       "    <tr>\n",
       "      <th>LassoLogisticRegression</th>\n",
       "      <td>1.0</td>\n",
       "      <td>0.545763</td>\n",
       "      <td>0.4542</td>\n",
       "      <td>{'lasso__C': 1.0636067554253128}</td>\n",
       "    </tr>\n",
       "    <tr>\n",
       "      <th>RidgeLogisticRegression</th>\n",
       "      <td>1.0</td>\n",
       "      <td>0.522034</td>\n",
       "      <td>0.4780</td>\n",
       "      <td>{'ridge__C': 6.009974959585542}</td>\n",
       "    </tr>\n",
       "  </tbody>\n",
       "</table>\n",
       "</div>"
      ],
      "text/plain": [
       "                         Train Accuracy  Test Accuracy  Overfittedness  \\\n",
       "LogisticRegression                  1.0       0.574011          0.4260   \n",
       "LassoLogisticRegression             1.0       0.545763          0.4542   \n",
       "RidgeLogisticRegression             1.0       0.522034          0.4780   \n",
       "\n",
       "                                              Best Params  \n",
       "LogisticRegression                                    NaN  \n",
       "LassoLogisticRegression  {'lasso__C': 1.0636067554253128}  \n",
       "RidgeLogisticRegression   {'ridge__C': 6.009974959585542}  "
      ]
     },
     "execution_count": 19,
     "metadata": {},
     "output_type": "execute_result"
    }
   ],
   "source": [
    "add_accuracy(ridge_rs,'RidgeLogisticRegression')\n",
    "model_accuracy"
   ]
  },
  {
   "cell_type": "code",
   "execution_count": 20,
   "metadata": {},
   "outputs": [
    {
     "data": {
      "image/png": "[encoded data removed]",
      "text/plain": [
       "<Figure size 576x576 with 2 Axes>"
      ]
     },
     "metadata": {
      "needs_background": "light"
     },
     "output_type": "display_data"
    }
   ],
   "source": [
    "confusion_matrix(ridge_rs.best_estimator_,'Ridge Logistic Regression')"
   ]
  },
  {
   "cell_type": "markdown",
   "metadata": {},
   "source": [
    "Our Ridge Logistic Regressor showed considerably worse performance across the board than even our Unregularized Logistic Regression. RLR notably overpredicted incidences of r/asoiaf. It's not clear why Lasso would outperform Ridge so drastically, and it's possible that our random sampling process was simply unable to find a particularly good regularization coefficient. \n",
    "\n",
    "We suspect this especially because our Ridge and Lasso Logistic Regressions both chose the same best value of C. This isn't due to a coding error, simply their random_state and C search space being identical, but one would expect the different loss functions to have more substantially different local minima. Insufficient time for hyperparameter tuning given the scale of our data seems to be the core issue either way."
   ]
  },
  {
   "cell_type": "markdown",
   "metadata": {},
   "source": [
    "### Naive Bayes"
   ]
  },
  {
   "cell_type": "markdown",
   "metadata": {},
   "source": [
    "#### Fitting"
   ]
  },
  {
   "cell_type": "code",
   "execution_count": 21,
   "metadata": {},
   "outputs": [],
   "source": [
    "nb_pipe = Pipeline([('tfid', TfidfVectorizer(\n",
    "    max_df=.325,\n",
    "    max_features=6500,\n",
    "    min_df=5,\n",
    "    ngram_range=(1, 2),\n",
    "    stop_words=stop_words)),\n",
    "    ('nb', MultinomialNB())])\n",
    "\n",
    "nb_params = {\n",
    "    'nb__alpha': loguniform(1.0000001,20)\n",
    "}"
   ]
  },
  {
   "cell_type": "code",
   "execution_count": 22,
   "metadata": {},
   "outputs": [
    {
     "name": "stdout",
     "output_type": "stream",
     "text": [
      "Fitting 5 folds for each of 75 candidates, totalling 375 fits\n"
     ]
    },
    {
     "name": "stderr",
     "output_type": "stream",
     "text": [
      "[Parallel(n_jobs=-1)]: Using backend LokyBackend with 4 concurrent workers.\n",
      "[Parallel(n_jobs=-1)]: Done  42 tasks      | elapsed:   14.3s\n",
      "[Parallel(n_jobs=-1)]: Done 192 tasks      | elapsed:  1.0min\n",
      "[Parallel(n_jobs=-1)]: Done 375 out of 375 | elapsed:  2.0min finished\n"
     ]
    },
    {
     "data": {
      "text/plain": [
       "RandomizedSearchCV(cv=5, error_score=nan,\n",
       "                   estimator=Pipeline(memory=None,\n",
       "                                      steps=[('tfid',\n",
       "                                              TfidfVectorizer(analyzer='word',\n",
       "                                                              binary=False,\n",
       "                                                              decode_error='strict',\n",
       "                                                              dtype=<class 'numpy.float64'>,\n",
       "                                                              encoding='utf-8',\n",
       "                                                              input='content',\n",
       "                                                              lowercase=True,\n",
       "                                                              max_df=0.325,\n",
       "                                                              max_features=6500,\n",
       "                                                              min_df=5,\n",
       "                                                              ngram_range=(1,\n",
       "                                                                           2),\n",
       "                                                              norm='l2',\n",
       "                                                              preprocessor=None,\n",
       "                                                              smooth_idf=True,\n",
       "                                                              stop_words=['less'...\n",
       "                                                              use_idf=True,\n",
       "                                                              vocabulary=None)),\n",
       "                                             ('nb',\n",
       "                                              MultinomialNB(alpha=1.0,\n",
       "                                                            class_prior=None,\n",
       "                                                            fit_prior=True))],\n",
       "                                      verbose=False),\n",
       "                   iid='deprecated', n_iter=75, n_jobs=-1,\n",
       "                   param_distributions={'nb__alpha': <scipy.stats._distn_infrastructure.rv_frozen object at 0x000002277A4479C8>},\n",
       "                   pre_dispatch='2*n_jobs', random_state=42, refit=True,\n",
       "                   return_train_score=False, scoring=None, verbose=True)"
      ]
     },
     "execution_count": 22,
     "metadata": {},
     "output_type": "execute_result"
    }
   ],
   "source": [
    "nb_rs = RandomizedSearchCV(nb_pipe,\n",
    "                             nb_params,\n",
    "                             n_iter=75,\n",
    "                             cv=5,\n",
    "                             n_jobs=-1,\n",
    "                             verbose=True,\n",
    "                             random_state = 42)\n",
    "\n",
    "nb_rs.fit(X_train,y_train)"
   ]
  },
  {
   "cell_type": "markdown",
   "metadata": {},
   "source": [
    "#### Evaluation"
   ]
  },
  {
   "cell_type": "code",
   "execution_count": 23,
   "metadata": {},
   "outputs": [
    {
     "data": {
      "text/html": [
       "<div>\n",
       "<style scoped>\n",
       "    .dataframe tbody tr th:only-of-type {\n",
       "        vertical-align: middle;\n",
       "    }\n",
       "\n",
       "    .dataframe tbody tr th {\n",
       "        vertical-align: top;\n",
       "    }\n",
       "\n",
       "    .dataframe thead th {\n",
       "        text-align: right;\n",
       "    }\n",
       "</style>\n",
       "<table border=\"1\" class=\"dataframe\">\n",
       "  <thead>\n",
       "    <tr style=\"text-align: right;\">\n",
       "      <th></th>\n",
       "      <th>Train Accuracy</th>\n",
       "      <th>Test Accuracy</th>\n",
       "      <th>Overfittedness</th>\n",
       "      <th>Best Params</th>\n",
       "    </tr>\n",
       "  </thead>\n",
       "  <tbody>\n",
       "    <tr>\n",
       "      <th>LogisticRegression</th>\n",
       "      <td>1.000000</td>\n",
       "      <td>0.574011</td>\n",
       "      <td>0.4260</td>\n",
       "      <td>NaN</td>\n",
       "    </tr>\n",
       "    <tr>\n",
       "      <th>LassoLogisticRegression</th>\n",
       "      <td>1.000000</td>\n",
       "      <td>0.545763</td>\n",
       "      <td>0.4542</td>\n",
       "      <td>{'lasso__C': 1.0636067554253128}</td>\n",
       "    </tr>\n",
       "    <tr>\n",
       "      <th>RidgeLogisticRegression</th>\n",
       "      <td>1.000000</td>\n",
       "      <td>0.522034</td>\n",
       "      <td>0.4780</td>\n",
       "      <td>{'ridge__C': 6.009974959585542}</td>\n",
       "    </tr>\n",
       "    <tr>\n",
       "      <th>MultinomialNaiveBayes</th>\n",
       "      <td>0.753394</td>\n",
       "      <td>0.576271</td>\n",
       "      <td>0.1771</td>\n",
       "      <td>{'nb__alpha': 1.0166804751089014}</td>\n",
       "    </tr>\n",
       "  </tbody>\n",
       "</table>\n",
       "</div>"
      ],
      "text/plain": [
       "                         Train Accuracy  Test Accuracy  Overfittedness  \\\n",
       "LogisticRegression             1.000000       0.574011          0.4260   \n",
       "LassoLogisticRegression        1.000000       0.545763          0.4542   \n",
       "RidgeLogisticRegression        1.000000       0.522034          0.4780   \n",
       "MultinomialNaiveBayes          0.753394       0.576271          0.1771   \n",
       "\n",
       "                                               Best Params  \n",
       "LogisticRegression                                     NaN  \n",
       "LassoLogisticRegression   {'lasso__C': 1.0636067554253128}  \n",
       "RidgeLogisticRegression    {'ridge__C': 6.009974959585542}  \n",
       "MultinomialNaiveBayes    {'nb__alpha': 1.0166804751089014}  "
      ]
     },
     "execution_count": 23,
     "metadata": {},
     "output_type": "execute_result"
    }
   ],
   "source": [
    "add_accuracy(nb_rs,'MultinomialNaiveBayes')\n",
    "model_accuracy"
   ]
  },
  {
   "cell_type": "code",
   "execution_count": 24,
   "metadata": {},
   "outputs": [
    {
     "data": {
      "image/png": "[encoded data removed]",
      "text/plain": [
       "<Figure size 576x576 with 2 Axes>"
      ]
     },
     "metadata": {
      "needs_background": "light"
     },
     "output_type": "display_data"
    }
   ],
   "source": [
    "confusion_matrix(nb_rs.best_estimator_,'Multinomial Naive Bayes')"
   ]
  },
  {
   "cell_type": "markdown",
   "metadata": {},
   "source": [
    "The Naive Bayes classifier also seems to have suffered from hyperparameter search issues, failing to reach a good alpha.  "
   ]
  },
  {
   "cell_type": "markdown",
   "metadata": {},
   "source": [
    "### Decision Tree"
   ]
  },
  {
   "cell_type": "code",
   "execution_count": 25,
   "metadata": {},
   "outputs": [],
   "source": [
    "dt_pipe = Pipeline([('tfid', TfidfVectorizer(\n",
    "    max_df=.325,\n",
    "    max_features=6500,\n",
    "    min_df=5,\n",
    "    ngram_range=(1, 2),\n",
    "    stop_words=stop_words)),\n",
    "    ('dt', DecisionTreeClassifier())])\n",
    "\n",
    "dt_params = {\n",
    "    'dt__max_depth': uniform(1,100),\n",
    "    'dt__min_samples_split': uniform(0,1),\n",
    "    'dt__min_samples_leaf': uniform(0,1)\n",
    "}"
   ]
  },
  {
   "cell_type": "code",
   "execution_count": 26,
   "metadata": {},
   "outputs": [
    {
     "name": "stdout",
     "output_type": "stream",
     "text": [
      "Fitting 5 folds for each of 75 candidates, totalling 375 fits\n"
     ]
    },
    {
     "name": "stderr",
     "output_type": "stream",
     "text": [
      "[Parallel(n_jobs=-1)]: Using backend LokyBackend with 4 concurrent workers.\n",
      "[Parallel(n_jobs=-1)]: Done  42 tasks      | elapsed:   13.9s\n",
      "[Parallel(n_jobs=-1)]: Done 192 tasks      | elapsed:  1.0min\n",
      "[Parallel(n_jobs=-1)]: Done 375 out of 375 | elapsed:  2.0min finished\n"
     ]
    },
    {
     "data": {
      "text/plain": [
       "RandomizedSearchCV(cv=5, error_score=nan,\n",
       "                   estimator=Pipeline(memory=None,\n",
       "                                      steps=[('tfid',\n",
       "                                              TfidfVectorizer(analyzer='word',\n",
       "                                                              binary=False,\n",
       "                                                              decode_error='strict',\n",
       "                                                              dtype=<class 'numpy.float64'>,\n",
       "                                                              encoding='utf-8',\n",
       "                                                              input='content',\n",
       "                                                              lowercase=True,\n",
       "                                                              max_df=0.325,\n",
       "                                                              max_features=6500,\n",
       "                                                              min_df=5,\n",
       "                                                              ngram_range=(1,\n",
       "                                                                           2),\n",
       "                                                              norm='l2',\n",
       "                                                              preprocessor=None,\n",
       "                                                              smooth_idf=True,\n",
       "                                                              stop_words=['less'...\n",
       "                   param_distributions={'dt__max_depth': <scipy.stats._distn_infrastructure.rv_frozen object at 0x0000022705220FC8>,\n",
       "                                        'dt__min_samples_leaf': <scipy.stats._distn_infrastructure.rv_frozen object at 0x000002270521A608>,\n",
       "                                        'dt__min_samples_split': <scipy.stats._distn_infrastructure.rv_frozen object at 0x0000022703AD4FC8>},\n",
       "                   pre_dispatch='2*n_jobs', random_state=42, refit=True,\n",
       "                   return_train_score=False, scoring=None, verbose=True)"
      ]
     },
     "execution_count": 26,
     "metadata": {},
     "output_type": "execute_result"
    }
   ],
   "source": [
    "dt_rs = RandomizedSearchCV(dt_pipe,\n",
    "                             dt_params,\n",
    "                             n_iter=75,\n",
    "                             cv=5,\n",
    "                             n_jobs=-1,\n",
    "                             verbose=True,\n",
    "                             random_state = 42)\n",
    "\n",
    "dt_rs.fit(X_train,y_train)"
   ]
  },
  {
   "cell_type": "markdown",
   "metadata": {},
   "source": [
    "#### Evaluation"
   ]
  },
  {
   "cell_type": "code",
   "execution_count": 27,
   "metadata": {},
   "outputs": [
    {
     "data": {
      "text/html": [
       "<div>\n",
       "<style scoped>\n",
       "    .dataframe tbody tr th:only-of-type {\n",
       "        vertical-align: middle;\n",
       "    }\n",
       "\n",
       "    .dataframe tbody tr th {\n",
       "        vertical-align: top;\n",
       "    }\n",
       "\n",
       "    .dataframe thead th {\n",
       "        text-align: right;\n",
       "    }\n",
       "</style>\n",
       "<table border=\"1\" class=\"dataframe\">\n",
       "  <thead>\n",
       "    <tr style=\"text-align: right;\">\n",
       "      <th></th>\n",
       "      <th>Train Accuracy</th>\n",
       "      <th>Test Accuracy</th>\n",
       "      <th>Overfittedness</th>\n",
       "      <th>Best Params</th>\n",
       "    </tr>\n",
       "  </thead>\n",
       "  <tbody>\n",
       "    <tr>\n",
       "      <th>LogisticRegression</th>\n",
       "      <td>1.000000</td>\n",
       "      <td>0.574011</td>\n",
       "      <td>0.4260</td>\n",
       "      <td>NaN</td>\n",
       "    </tr>\n",
       "    <tr>\n",
       "      <th>LassoLogisticRegression</th>\n",
       "      <td>1.000000</td>\n",
       "      <td>0.545763</td>\n",
       "      <td>0.4542</td>\n",
       "      <td>{'lasso__C': 1.0636067554253128}</td>\n",
       "    </tr>\n",
       "    <tr>\n",
       "      <th>RidgeLogisticRegression</th>\n",
       "      <td>1.000000</td>\n",
       "      <td>0.522034</td>\n",
       "      <td>0.4780</td>\n",
       "      <td>{'ridge__C': 6.009974959585542}</td>\n",
       "    </tr>\n",
       "    <tr>\n",
       "      <th>MultinomialNaiveBayes</th>\n",
       "      <td>0.753394</td>\n",
       "      <td>0.576271</td>\n",
       "      <td>0.1771</td>\n",
       "      <td>{'nb__alpha': 1.0166804751089014}</td>\n",
       "    </tr>\n",
       "    <tr>\n",
       "      <th>DecisionTree</th>\n",
       "      <td>0.663650</td>\n",
       "      <td>0.540113</td>\n",
       "      <td>0.1235</td>\n",
       "      <td>{'dt__max_depth': 67.35017691080559, 'dt__min_...</td>\n",
       "    </tr>\n",
       "  </tbody>\n",
       "</table>\n",
       "</div>"
      ],
      "text/plain": [
       "                         Train Accuracy  Test Accuracy  Overfittedness  \\\n",
       "LogisticRegression             1.000000       0.574011          0.4260   \n",
       "LassoLogisticRegression        1.000000       0.545763          0.4542   \n",
       "RidgeLogisticRegression        1.000000       0.522034          0.4780   \n",
       "MultinomialNaiveBayes          0.753394       0.576271          0.1771   \n",
       "DecisionTree                   0.663650       0.540113          0.1235   \n",
       "\n",
       "                                                               Best Params  \n",
       "LogisticRegression                                                     NaN  \n",
       "LassoLogisticRegression                   {'lasso__C': 1.0636067554253128}  \n",
       "RidgeLogisticRegression                    {'ridge__C': 6.009974959585542}  \n",
       "MultinomialNaiveBayes                    {'nb__alpha': 1.0166804751089014}  \n",
       "DecisionTree             {'dt__max_depth': 67.35017691080559, 'dt__min_...  "
      ]
     },
     "execution_count": 27,
     "metadata": {},
     "output_type": "execute_result"
    }
   ],
   "source": [
    "add_accuracy(dt_rs,'DecisionTree')\n",
    "model_accuracy"
   ]
  },
  {
   "cell_type": "code",
   "execution_count": 28,
   "metadata": {},
   "outputs": [
    {
     "data": {
      "image/png": "[encoded data removed]",
      "text/plain": [
       "<Figure size 576x576 with 2 Axes>"
      ]
     },
     "metadata": {
      "needs_background": "light"
     },
     "output_type": "display_data"
    }
   ],
   "source": [
    "confusion_matrix(dt_rs.best_estimator_,'Decision Tree')"
   ]
  },
  {
   "cell_type": "markdown",
   "metadata": {},
   "source": [
    "Our Decision Tree model had the best performance thusfar, showing far less overfitting than the previous four models at a perfectly reasonable bias tradeoff. In particular, it was incredibly successful at avoiding false predictions of r/asoiaf, though it resultantly overpredicted r/freefolk and r/gameofthrones. All in all, however, we're quite satisfied with this performance. That being said, it's worth continuing to an additional layer of complexity in our tree models to see if we can push performance even higher."
   ]
  },
  {
   "cell_type": "markdown",
   "metadata": {},
   "source": [
    "### Random Forest"
   ]
  },
  {
   "cell_type": "markdown",
   "metadata": {},
   "source": [
    "#### Fitting"
   ]
  },
  {
   "cell_type": "code",
   "execution_count": 29,
   "metadata": {},
   "outputs": [],
   "source": [
    "rf_pipe = Pipeline([('tfid', TfidfVectorizer(\n",
    "    max_df=.325,\n",
    "    max_features=6500,\n",
    "    min_df=5,\n",
    "    ngram_range=(1, 2),\n",
    "    stop_words=stop_words)),\n",
    "    ('rf', RandomForestClassifier())])\n",
    "\n",
    "rf_params = {\n",
    "    'rf__max_depth': uniform(1,100),\n",
    "    'rf__max_features': ['auto','sqrt'],\n",
    "    'rf__min_samples_split': uniform(0,1),\n",
    "    'rf__min_samples_leaf': uniform(0,1),\n",
    "    'rf__n_estimators': [10,50,100,500]\n",
    "}"
   ]
  },
  {
   "cell_type": "code",
   "execution_count": 30,
   "metadata": {},
   "outputs": [
    {
     "name": "stdout",
     "output_type": "stream",
     "text": [
      "Fitting 5 folds for each of 75 candidates, totalling 375 fits\n"
     ]
    },
    {
     "name": "stderr",
     "output_type": "stream",
     "text": [
      "[Parallel(n_jobs=-1)]: Using backend LokyBackend with 4 concurrent workers.\n",
      "[Parallel(n_jobs=-1)]: Done  42 tasks      | elapsed:   15.0s\n",
      "[Parallel(n_jobs=-1)]: Done 192 tasks      | elapsed:  1.2min\n",
      "[Parallel(n_jobs=-1)]: Done 375 out of 375 | elapsed:  2.3min finished\n"
     ]
    },
    {
     "data": {
      "text/plain": [
       "RandomizedSearchCV(cv=5, error_score=nan,\n",
       "                   estimator=Pipeline(memory=None,\n",
       "                                      steps=[('tfid',\n",
       "                                              TfidfVectorizer(analyzer='word',\n",
       "                                                              binary=False,\n",
       "                                                              decode_error='strict',\n",
       "                                                              dtype=<class 'numpy.float64'>,\n",
       "                                                              encoding='utf-8',\n",
       "                                                              input='content',\n",
       "                                                              lowercase=True,\n",
       "                                                              max_df=0.325,\n",
       "                                                              max_features=6500,\n",
       "                                                              min_df=5,\n",
       "                                                              ngram_range=(1,\n",
       "                                                                           2),\n",
       "                                                              norm='l2',\n",
       "                                                              preprocessor=None,\n",
       "                                                              smooth_idf=True,\n",
       "                                                              stop_words=['less'...\n",
       "                                        'rf__max_features': ['auto', 'sqrt'],\n",
       "                                        'rf__min_samples_leaf': <scipy.stats._distn_infrastructure.rv_frozen object at 0x0000022707791B08>,\n",
       "                                        'rf__min_samples_split': <scipy.stats._distn_infrastructure.rv_frozen object at 0x0000022707791888>,\n",
       "                                        'rf__n_estimators': [10, 50, 100, 500]},\n",
       "                   pre_dispatch='2*n_jobs', random_state=42, refit=True,\n",
       "                   return_train_score=False, scoring=None, verbose=True)"
      ]
     },
     "execution_count": 30,
     "metadata": {},
     "output_type": "execute_result"
    }
   ],
   "source": [
    "rf_rs = RandomizedSearchCV(rf_pipe,\n",
    "                             rf_params,\n",
    "                             n_iter=75,\n",
    "                             cv=5,\n",
    "                             n_jobs=-1,\n",
    "                             verbose=True,\n",
    "                             random_state = 42)\n",
    "\n",
    "rf_rs.fit(X_train,y_train)"
   ]
  },
  {
   "cell_type": "markdown",
   "metadata": {},
   "source": [
    "#### Evaluation"
   ]
  },
  {
   "cell_type": "code",
   "execution_count": 31,
   "metadata": {},
   "outputs": [
    {
     "data": {
      "text/html": [
       "<div>\n",
       "<style scoped>\n",
       "    .dataframe tbody tr th:only-of-type {\n",
       "        vertical-align: middle;\n",
       "    }\n",
       "\n",
       "    .dataframe tbody tr th {\n",
       "        vertical-align: top;\n",
       "    }\n",
       "\n",
       "    .dataframe thead th {\n",
       "        text-align: right;\n",
       "    }\n",
       "</style>\n",
       "<table border=\"1\" class=\"dataframe\">\n",
       "  <thead>\n",
       "    <tr style=\"text-align: right;\">\n",
       "      <th></th>\n",
       "      <th>Train Accuracy</th>\n",
       "      <th>Test Accuracy</th>\n",
       "      <th>Overfittedness</th>\n",
       "      <th>Best Params</th>\n",
       "    </tr>\n",
       "  </thead>\n",
       "  <tbody>\n",
       "    <tr>\n",
       "      <th>LogisticRegression</th>\n",
       "      <td>1.000000</td>\n",
       "      <td>0.574011</td>\n",
       "      <td>0.4260</td>\n",
       "      <td>NaN</td>\n",
       "    </tr>\n",
       "    <tr>\n",
       "      <th>LassoLogisticRegression</th>\n",
       "      <td>1.000000</td>\n",
       "      <td>0.545763</td>\n",
       "      <td>0.4542</td>\n",
       "      <td>{'lasso__C': 1.0636067554253128}</td>\n",
       "    </tr>\n",
       "    <tr>\n",
       "      <th>RidgeLogisticRegression</th>\n",
       "      <td>1.000000</td>\n",
       "      <td>0.522034</td>\n",
       "      <td>0.4780</td>\n",
       "      <td>{'ridge__C': 6.009974959585542}</td>\n",
       "    </tr>\n",
       "    <tr>\n",
       "      <th>MultinomialNaiveBayes</th>\n",
       "      <td>0.753394</td>\n",
       "      <td>0.576271</td>\n",
       "      <td>0.1771</td>\n",
       "      <td>{'nb__alpha': 1.0166804751089014}</td>\n",
       "    </tr>\n",
       "    <tr>\n",
       "      <th>DecisionTree</th>\n",
       "      <td>0.663650</td>\n",
       "      <td>0.540113</td>\n",
       "      <td>0.1235</td>\n",
       "      <td>{'dt__max_depth': 67.35017691080559, 'dt__min_...</td>\n",
       "    </tr>\n",
       "    <tr>\n",
       "      <th>RandomForest</th>\n",
       "      <td>0.596154</td>\n",
       "      <td>0.536723</td>\n",
       "      <td>0.0594</td>\n",
       "      <td>{'rf__max_depth': 31.42422429595377, 'rf__max_...</td>\n",
       "    </tr>\n",
       "  </tbody>\n",
       "</table>\n",
       "</div>"
      ],
      "text/plain": [
       "                         Train Accuracy  Test Accuracy  Overfittedness  \\\n",
       "LogisticRegression             1.000000       0.574011          0.4260   \n",
       "LassoLogisticRegression        1.000000       0.545763          0.4542   \n",
       "RidgeLogisticRegression        1.000000       0.522034          0.4780   \n",
       "MultinomialNaiveBayes          0.753394       0.576271          0.1771   \n",
       "DecisionTree                   0.663650       0.540113          0.1235   \n",
       "RandomForest                   0.596154       0.536723          0.0594   \n",
       "\n",
       "                                                               Best Params  \n",
       "LogisticRegression                                                     NaN  \n",
       "LassoLogisticRegression                   {'lasso__C': 1.0636067554253128}  \n",
       "RidgeLogisticRegression                    {'ridge__C': 6.009974959585542}  \n",
       "MultinomialNaiveBayes                    {'nb__alpha': 1.0166804751089014}  \n",
       "DecisionTree             {'dt__max_depth': 67.35017691080559, 'dt__min_...  \n",
       "RandomForest             {'rf__max_depth': 31.42422429595377, 'rf__max_...  "
      ]
     },
     "execution_count": 31,
     "metadata": {},
     "output_type": "execute_result"
    }
   ],
   "source": [
    "add_accuracy(rf_rs,'RandomForest')\n",
    "model_accuracy"
   ]
  },
  {
   "cell_type": "code",
   "execution_count": 32,
   "metadata": {},
   "outputs": [
    {
     "data": {
      "image/png": "[encoded data removed]",
      "text/plain": [
       "<Figure size 576x576 with 2 Axes>"
      ]
     },
     "metadata": {
      "needs_background": "light"
     },
     "output_type": "display_data"
    }
   ],
   "source": [
    "confusion_matrix(rf_rs.best_estimator_,'RandomForest')"
   ]
  },
  {
   "cell_type": "markdown",
   "metadata": {},
   "source": [
    "The Random Forest model had similarly low overfitting compared to the Decision Tree, but much worse bias—about 10% lower accuracy on both training and testing. Interestingly, it inverted the pattern of the Decision Tree, over- instead of under-predicting r/asoiaf. \n",
    "\n",
    "Given the increased complexity of the model compared to the Decision Tree, it seems that we required a deeper hyperparameter search to achieve good results. This is becoming a bit of a theme."
   ]
  },
  {
   "cell_type": "markdown",
   "metadata": {},
   "source": [
    "### Gradient Boost"
   ]
  },
  {
   "cell_type": "markdown",
   "metadata": {},
   "source": [
    "#### Fitting"
   ]
  },
  {
   "cell_type": "markdown",
   "metadata": {},
   "source": [
    "For Gradient Boost, due to its very large space of hyperparameters to search, we will make an exception to the standard of 75 iterations * 5-fold cross validation and increase the number of iterations to 150."
   ]
  },
  {
   "cell_type": "code",
   "execution_count": 33,
   "metadata": {},
   "outputs": [],
   "source": [
    "gb_pipe = Pipeline([('tfid', TfidfVectorizer(\n",
    "    max_df=.325,\n",
    "    max_features=6500,\n",
    "    min_df=5,\n",
    "    ngram_range=(1, 2),\n",
    "    stop_words=stop_words)),\n",
    "    ('gb', GradientBoostingClassifier())])\n",
    "\n",
    "gb_params = {\n",
    "    'gb__learning_rate': uniform(.0001, 50),\n",
    "    'gb__n_estimators':[10,50,100,500],\n",
    "    'gb__subsample':uniform(.1,1),\n",
    "    'gb__min_samples_split':uniform(0,.5),\n",
    "    'gb__min_samples_leaf':uniform(0,.5),\n",
    "    'gb__max_depth':uniform(2,100),\n",
    "    'gb__max_features':['auto','sqrt','log2',uniform(0,1)]\n",
    "}"
   ]
  },
  {
   "cell_type": "code",
   "execution_count": 34,
   "metadata": {},
   "outputs": [
    {
     "name": "stdout",
     "output_type": "stream",
     "text": [
      "Fitting 5 folds for each of 150 candidates, totalling 750 fits\n"
     ]
    },
    {
     "name": "stderr",
     "output_type": "stream",
     "text": [
      "[Parallel(n_jobs=-1)]: Using backend LokyBackend with 4 concurrent workers.\n",
      "[Parallel(n_jobs=-1)]: Done  42 tasks      | elapsed:   22.3s\n",
      "[Parallel(n_jobs=-1)]: Done 192 tasks      | elapsed:  2.3min\n",
      "[Parallel(n_jobs=-1)]: Done 442 tasks      | elapsed:  5.2min\n",
      "[Parallel(n_jobs=-1)]: Done 750 out of 750 | elapsed:  9.0min finished\n"
     ]
    },
    {
     "data": {
      "text/plain": [
       "RandomizedSearchCV(cv=5, error_score=nan,\n",
       "                   estimator=Pipeline(memory=None,\n",
       "                                      steps=[('tfid',\n",
       "                                              TfidfVectorizer(analyzer='word',\n",
       "                                                              binary=False,\n",
       "                                                              decode_error='strict',\n",
       "                                                              dtype=<class 'numpy.float64'>,\n",
       "                                                              encoding='utf-8',\n",
       "                                                              input='content',\n",
       "                                                              lowercase=True,\n",
       "                                                              max_df=0.325,\n",
       "                                                              max_features=6500,\n",
       "                                                              min_df=5,\n",
       "                                                              ngram_range=(1,\n",
       "                                                                           2),\n",
       "                                                              norm='l2',\n",
       "                                                              preprocessor=None,\n",
       "                                                              smooth_idf=True,\n",
       "                                                              stop_words=['less'...\n",
       "                                        'gb__min_samples_leaf': <scipy.stats._distn_infrastructure.rv_frozen object at 0x0000022709714A48>,\n",
       "                                        'gb__min_samples_split': <scipy.stats._distn_infrastructure.rv_frozen object at 0x0000022709714EC8>,\n",
       "                                        'gb__n_estimators': [10, 50, 100, 500],\n",
       "                                        'gb__subsample': <scipy.stats._distn_infrastructure.rv_frozen object at 0x00000227097147C8>},\n",
       "                   pre_dispatch='2*n_jobs', random_state=42, refit=True,\n",
       "                   return_train_score=False, scoring=None, verbose=True)"
      ]
     },
     "execution_count": 34,
     "metadata": {},
     "output_type": "execute_result"
    }
   ],
   "source": [
    "gb_rs = RandomizedSearchCV(gb_pipe,\n",
    "                             gb_params,\n",
    "                             n_iter=150,\n",
    "                             cv=5,\n",
    "                             n_jobs=-1,\n",
    "                             verbose=True,\n",
    "                             random_state = 42)\n",
    "\n",
    "gb_rs.fit(X_train,y_train)"
   ]
  },
  {
   "cell_type": "markdown",
   "metadata": {},
   "source": [
    "#### Evaluation"
   ]
  },
  {
   "cell_type": "code",
   "execution_count": 35,
   "metadata": {},
   "outputs": [
    {
     "data": {
      "text/html": [
       "<div>\n",
       "<style scoped>\n",
       "    .dataframe tbody tr th:only-of-type {\n",
       "        vertical-align: middle;\n",
       "    }\n",
       "\n",
       "    .dataframe tbody tr th {\n",
       "        vertical-align: top;\n",
       "    }\n",
       "\n",
       "    .dataframe thead th {\n",
       "        text-align: right;\n",
       "    }\n",
       "</style>\n",
       "<table border=\"1\" class=\"dataframe\">\n",
       "  <thead>\n",
       "    <tr style=\"text-align: right;\">\n",
       "      <th></th>\n",
       "      <th>Train Accuracy</th>\n",
       "      <th>Test Accuracy</th>\n",
       "      <th>Overfittedness</th>\n",
       "      <th>Best Params</th>\n",
       "    </tr>\n",
       "  </thead>\n",
       "  <tbody>\n",
       "    <tr>\n",
       "      <th>LogisticRegression</th>\n",
       "      <td>1.000000</td>\n",
       "      <td>0.574011</td>\n",
       "      <td>0.4260</td>\n",
       "      <td>NaN</td>\n",
       "    </tr>\n",
       "    <tr>\n",
       "      <th>LassoLogisticRegression</th>\n",
       "      <td>1.000000</td>\n",
       "      <td>0.545763</td>\n",
       "      <td>0.4542</td>\n",
       "      <td>{'lasso__C': 1.0636067554253128}</td>\n",
       "    </tr>\n",
       "    <tr>\n",
       "      <th>RidgeLogisticRegression</th>\n",
       "      <td>1.000000</td>\n",
       "      <td>0.522034</td>\n",
       "      <td>0.4780</td>\n",
       "      <td>{'ridge__C': 6.009974959585542}</td>\n",
       "    </tr>\n",
       "    <tr>\n",
       "      <th>MultinomialNaiveBayes</th>\n",
       "      <td>0.753394</td>\n",
       "      <td>0.576271</td>\n",
       "      <td>0.1771</td>\n",
       "      <td>{'nb__alpha': 1.0166804751089014}</td>\n",
       "    </tr>\n",
       "    <tr>\n",
       "      <th>DecisionTree</th>\n",
       "      <td>0.663650</td>\n",
       "      <td>0.540113</td>\n",
       "      <td>0.1235</td>\n",
       "      <td>{'dt__max_depth': 67.35017691080559, 'dt__min_...</td>\n",
       "    </tr>\n",
       "    <tr>\n",
       "      <th>RandomForest</th>\n",
       "      <td>0.596154</td>\n",
       "      <td>0.536723</td>\n",
       "      <td>0.0594</td>\n",
       "      <td>{'rf__max_depth': 31.42422429595377, 'rf__max_...</td>\n",
       "    </tr>\n",
       "    <tr>\n",
       "      <th>Gradient Boost</th>\n",
       "      <td>0.436652</td>\n",
       "      <td>0.437288</td>\n",
       "      <td>-0.0006</td>\n",
       "      <td>{'gb__learning_rate': 0.27620585618011995, 'gb...</td>\n",
       "    </tr>\n",
       "  </tbody>\n",
       "</table>\n",
       "</div>"
      ],
      "text/plain": [
       "                         Train Accuracy  Test Accuracy  Overfittedness  \\\n",
       "LogisticRegression             1.000000       0.574011          0.4260   \n",
       "LassoLogisticRegression        1.000000       0.545763          0.4542   \n",
       "RidgeLogisticRegression        1.000000       0.522034          0.4780   \n",
       "MultinomialNaiveBayes          0.753394       0.576271          0.1771   \n",
       "DecisionTree                   0.663650       0.540113          0.1235   \n",
       "RandomForest                   0.596154       0.536723          0.0594   \n",
       "Gradient Boost                 0.436652       0.437288         -0.0006   \n",
       "\n",
       "                                                               Best Params  \n",
       "LogisticRegression                                                     NaN  \n",
       "LassoLogisticRegression                   {'lasso__C': 1.0636067554253128}  \n",
       "RidgeLogisticRegression                    {'ridge__C': 6.009974959585542}  \n",
       "MultinomialNaiveBayes                    {'nb__alpha': 1.0166804751089014}  \n",
       "DecisionTree             {'dt__max_depth': 67.35017691080559, 'dt__min_...  \n",
       "RandomForest             {'rf__max_depth': 31.42422429595377, 'rf__max_...  \n",
       "Gradient Boost           {'gb__learning_rate': 0.27620585618011995, 'gb...  "
      ]
     },
     "execution_count": 35,
     "metadata": {},
     "output_type": "execute_result"
    }
   ],
   "source": [
    "add_accuracy(gb_rs,'Gradient Boost')\n",
    "model_accuracy"
   ]
  },
  {
   "cell_type": "code",
   "execution_count": 36,
   "metadata": {},
   "outputs": [
    {
     "data": {
      "image/png": "[encoded data removed]",
      "text/plain": [
       "<Figure size 576x576 with 2 Axes>"
      ]
     },
     "metadata": {
      "needs_background": "light"
     },
     "output_type": "display_data"
    }
   ],
   "source": [
    "confusion_matrix(gb_rs.best_estimator_,'Gradient Boost')"
   ]
  },
  {
   "cell_type": "markdown",
   "metadata": {},
   "source": [
    "Despite recognizing that the Gradient Boosting Classifier's required search space was much higher than our previous models and accordingly giving it substantially more hyperparameter sample trials, this model performed egregiously poorly, worse than our Baseline Model by over 20%.\n",
    "\n",
    "While we could squeeze out an almost-reasonable accuracy rate here by altering how we interpret the model's predictions (specifically, diverting all classifications of r/freefolk to r/asoiaf), it's more headache than it's worth.\n",
    "\n",
    "Ultimately, it seems clear that we flew too close to the sun with our attempts to use more complex tree-based models on these data. Short of renting computing time for a massive hyperparameter search, or abandoning all hope of using this computer for a day or so, we're not likely to beat the Decision Tree at this point.\n",
    "\n",
    "The other strong option here would be to dramatically scale back the number of features we are allowing our vectorizer to produce. We may have set the hyperparameters of our vectorizer a bit prematurely, but it was the only feasible way we could test so many models. This is perhaps a lesson: less can be more."
   ]
  },
  {
   "cell_type": "markdown",
   "metadata": {},
   "source": [
    "### AdaBoost"
   ]
  },
  {
   "cell_type": "markdown",
   "metadata": {},
   "source": [
    "#### Fitting"
   ]
  },
  {
   "cell_type": "code",
   "execution_count": 37,
   "metadata": {},
   "outputs": [],
   "source": [
    "ab_pipe = Pipeline([('tfid', TfidfVectorizer(\n",
    "    max_df=.325,\n",
    "    max_features=6500,\n",
    "    min_df=5,\n",
    "    ngram_range=(1, 2),\n",
    "    stop_words=stop_words)),\n",
    "    ('ab', AdaBoostClassifier())])\n",
    "\n",
    "ab_params = {\n",
    "    'ab__n_estimators': [10,50,100,500],\n",
    "    'ab__learning_rate': loguniform(.00001, 50),\n",
    "}"
   ]
  },
  {
   "cell_type": "code",
   "execution_count": 38,
   "metadata": {},
   "outputs": [
    {
     "name": "stdout",
     "output_type": "stream",
     "text": [
      "Fitting 5 folds for each of 75 candidates, totalling 375 fits\n"
     ]
    },
    {
     "name": "stderr",
     "output_type": "stream",
     "text": [
      "[Parallel(n_jobs=-1)]: Using backend LokyBackend with 4 concurrent workers.\n",
      "[Parallel(n_jobs=-1)]: Done  42 tasks      | elapsed:   58.6s\n",
      "[Parallel(n_jobs=-1)]: Done 192 tasks      | elapsed:  3.7min\n",
      "[Parallel(n_jobs=-1)]: Done 375 out of 375 | elapsed:  6.6min finished\n"
     ]
    },
    {
     "data": {
      "text/plain": [
       "RandomizedSearchCV(cv=5, error_score=nan,\n",
       "                   estimator=Pipeline(memory=None,\n",
       "                                      steps=[('tfid',\n",
       "                                              TfidfVectorizer(analyzer='word',\n",
       "                                                              binary=False,\n",
       "                                                              decode_error='strict',\n",
       "                                                              dtype=<class 'numpy.float64'>,\n",
       "                                                              encoding='utf-8',\n",
       "                                                              input='content',\n",
       "                                                              lowercase=True,\n",
       "                                                              max_df=0.325,\n",
       "                                                              max_features=6500,\n",
       "                                                              min_df=5,\n",
       "                                                              ngram_range=(1,\n",
       "                                                                           2),\n",
       "                                                              norm='l2',\n",
       "                                                              preprocessor=None,\n",
       "                                                              smooth_idf=True,\n",
       "                                                              stop_words=['less'...\n",
       "                                                                 learning_rate=1.0,\n",
       "                                                                 n_estimators=50,\n",
       "                                                                 random_state=None))],\n",
       "                                      verbose=False),\n",
       "                   iid='deprecated', n_iter=75, n_jobs=-1,\n",
       "                   param_distributions={'ab__learning_rate': <scipy.stats._distn_infrastructure.rv_frozen object at 0x000002270BA5F848>,\n",
       "                                        'ab__n_estimators': [10, 50, 100, 500]},\n",
       "                   pre_dispatch='2*n_jobs', random_state=42, refit=True,\n",
       "                   return_train_score=False, scoring=None, verbose=True)"
      ]
     },
     "execution_count": 38,
     "metadata": {},
     "output_type": "execute_result"
    }
   ],
   "source": [
    "ab_rs = RandomizedSearchCV(ab_pipe,\n",
    "                             ab_params,\n",
    "                             n_iter=75,\n",
    "                             cv=5,\n",
    "                             n_jobs=-1,\n",
    "                             verbose=True,\n",
    "                             random_state = 42)\n",
    "\n",
    "ab_rs.fit(X_train,y_train)"
   ]
  },
  {
   "cell_type": "markdown",
   "metadata": {},
   "source": [
    "#### Evaluation"
   ]
  },
  {
   "cell_type": "code",
   "execution_count": 39,
   "metadata": {},
   "outputs": [
    {
     "data": {
      "text/html": [
       "<div>\n",
       "<style scoped>\n",
       "    .dataframe tbody tr th:only-of-type {\n",
       "        vertical-align: middle;\n",
       "    }\n",
       "\n",
       "    .dataframe tbody tr th {\n",
       "        vertical-align: top;\n",
       "    }\n",
       "\n",
       "    .dataframe thead th {\n",
       "        text-align: right;\n",
       "    }\n",
       "</style>\n",
       "<table border=\"1\" class=\"dataframe\">\n",
       "  <thead>\n",
       "    <tr style=\"text-align: right;\">\n",
       "      <th></th>\n",
       "      <th>Train Accuracy</th>\n",
       "      <th>Test Accuracy</th>\n",
       "      <th>Overfittedness</th>\n",
       "      <th>Best Params</th>\n",
       "    </tr>\n",
       "  </thead>\n",
       "  <tbody>\n",
       "    <tr>\n",
       "      <th>LogisticRegression</th>\n",
       "      <td>1.000000</td>\n",
       "      <td>0.574011</td>\n",
       "      <td>0.4260</td>\n",
       "      <td>NaN</td>\n",
       "    </tr>\n",
       "    <tr>\n",
       "      <th>LassoLogisticRegression</th>\n",
       "      <td>1.000000</td>\n",
       "      <td>0.545763</td>\n",
       "      <td>0.4542</td>\n",
       "      <td>{'lasso__C': 1.0636067554253128}</td>\n",
       "    </tr>\n",
       "    <tr>\n",
       "      <th>RidgeLogisticRegression</th>\n",
       "      <td>1.000000</td>\n",
       "      <td>0.522034</td>\n",
       "      <td>0.4780</td>\n",
       "      <td>{'ridge__C': 6.009974959585542}</td>\n",
       "    </tr>\n",
       "    <tr>\n",
       "      <th>MultinomialNaiveBayes</th>\n",
       "      <td>0.753394</td>\n",
       "      <td>0.576271</td>\n",
       "      <td>0.1771</td>\n",
       "      <td>{'nb__alpha': 1.0166804751089014}</td>\n",
       "    </tr>\n",
       "    <tr>\n",
       "      <th>DecisionTree</th>\n",
       "      <td>0.663650</td>\n",
       "      <td>0.540113</td>\n",
       "      <td>0.1235</td>\n",
       "      <td>{'dt__max_depth': 67.35017691080559, 'dt__min_...</td>\n",
       "    </tr>\n",
       "    <tr>\n",
       "      <th>RandomForest</th>\n",
       "      <td>0.596154</td>\n",
       "      <td>0.536723</td>\n",
       "      <td>0.0594</td>\n",
       "      <td>{'rf__max_depth': 31.42422429595377, 'rf__max_...</td>\n",
       "    </tr>\n",
       "    <tr>\n",
       "      <th>Gradient Boost</th>\n",
       "      <td>0.436652</td>\n",
       "      <td>0.437288</td>\n",
       "      <td>-0.0006</td>\n",
       "      <td>{'gb__learning_rate': 0.27620585618011995, 'gb...</td>\n",
       "    </tr>\n",
       "    <tr>\n",
       "      <th>AdaBoost</th>\n",
       "      <td>0.689668</td>\n",
       "      <td>0.577401</td>\n",
       "      <td>0.1123</td>\n",
       "      <td>{'ab__learning_rate': 0.0412459590679447, 'ab_...</td>\n",
       "    </tr>\n",
       "  </tbody>\n",
       "</table>\n",
       "</div>"
      ],
      "text/plain": [
       "                         Train Accuracy  Test Accuracy  Overfittedness  \\\n",
       "LogisticRegression             1.000000       0.574011          0.4260   \n",
       "LassoLogisticRegression        1.000000       0.545763          0.4542   \n",
       "RidgeLogisticRegression        1.000000       0.522034          0.4780   \n",
       "MultinomialNaiveBayes          0.753394       0.576271          0.1771   \n",
       "DecisionTree                   0.663650       0.540113          0.1235   \n",
       "RandomForest                   0.596154       0.536723          0.0594   \n",
       "Gradient Boost                 0.436652       0.437288         -0.0006   \n",
       "AdaBoost                       0.689668       0.577401          0.1123   \n",
       "\n",
       "                                                               Best Params  \n",
       "LogisticRegression                                                     NaN  \n",
       "LassoLogisticRegression                   {'lasso__C': 1.0636067554253128}  \n",
       "RidgeLogisticRegression                    {'ridge__C': 6.009974959585542}  \n",
       "MultinomialNaiveBayes                    {'nb__alpha': 1.0166804751089014}  \n",
       "DecisionTree             {'dt__max_depth': 67.35017691080559, 'dt__min_...  \n",
       "RandomForest             {'rf__max_depth': 31.42422429595377, 'rf__max_...  \n",
       "Gradient Boost           {'gb__learning_rate': 0.27620585618011995, 'gb...  \n",
       "AdaBoost                 {'ab__learning_rate': 0.0412459590679447, 'ab_...  "
      ]
     },
     "execution_count": 39,
     "metadata": {},
     "output_type": "execute_result"
    }
   ],
   "source": [
    "add_accuracy(ab_rs,'AdaBoost')\n",
    "model_accuracy"
   ]
  },
  {
   "cell_type": "code",
   "execution_count": 40,
   "metadata": {},
   "outputs": [
    {
     "data": {
      "image/png": "[encoded data removed]",
      "text/plain": [
       "<Figure size 576x576 with 2 Axes>"
      ]
     },
     "metadata": {
      "needs_background": "light"
     },
     "output_type": "display_data"
    }
   ],
   "source": [
    "confusion_matrix(ab_rs.best_estimator_,'AdaBoost')"
   ]
  },
  {
   "cell_type": "markdown",
   "metadata": {},
   "source": [
    "### Support Vector Classifier"
   ]
  },
  {
   "cell_type": "markdown",
   "metadata": {},
   "source": [
    "#### Fitting"
   ]
  },
  {
   "cell_type": "code",
   "execution_count": 41,
   "metadata": {},
   "outputs": [],
   "source": [
    "svc_pipe = Pipeline([('tfid', TfidfVectorizer(\n",
    "    max_df=.325,\n",
    "    max_features=6500,\n",
    "    min_df=5,\n",
    "    ngram_range=(1, 2),\n",
    "    stop_words=stop_words)),\n",
    "                  ('ss',StandardScaler(with_mean=False)),   \n",
    "    ('svc', SVC())])\n",
    "\n",
    "svc_params = {\n",
    "    'svc__C': loguniform(.00001, 50),\n",
    "    'svc__gamma': ['scale','auto']\n",
    "}"
   ]
  },
  {
   "cell_type": "code",
   "execution_count": 42,
   "metadata": {},
   "outputs": [
    {
     "name": "stdout",
     "output_type": "stream",
     "text": [
      "Fitting 5 folds for each of 75 candidates, totalling 375 fits\n"
     ]
    },
    {
     "name": "stderr",
     "output_type": "stream",
     "text": [
      "[Parallel(n_jobs=-1)]: Using backend LokyBackend with 4 concurrent workers.\n",
      "[Parallel(n_jobs=-1)]: Done  42 tasks      | elapsed:   39.8s\n",
      "[Parallel(n_jobs=-1)]: Done 192 tasks      | elapsed:  3.0min\n",
      "[Parallel(n_jobs=-1)]: Done 375 out of 375 | elapsed:  5.7min finished\n"
     ]
    },
    {
     "data": {
      "text/plain": [
       "RandomizedSearchCV(cv=5, error_score=nan,\n",
       "                   estimator=Pipeline(memory=None,\n",
       "                                      steps=[('tfid',\n",
       "                                              TfidfVectorizer(analyzer='word',\n",
       "                                                              binary=False,\n",
       "                                                              decode_error='strict',\n",
       "                                                              dtype=<class 'numpy.float64'>,\n",
       "                                                              encoding='utf-8',\n",
       "                                                              input='content',\n",
       "                                                              lowercase=True,\n",
       "                                                              max_df=0.325,\n",
       "                                                              max_features=6500,\n",
       "                                                              min_df=5,\n",
       "                                                              ngram_range=(1,\n",
       "                                                                           2),\n",
       "                                                              norm='l2',\n",
       "                                                              preprocessor=None,\n",
       "                                                              smooth_idf=True,\n",
       "                                                              stop_words=['less'...\n",
       "                                                  probability=False,\n",
       "                                                  random_state=None,\n",
       "                                                  shrinking=True, tol=0.001,\n",
       "                                                  verbose=False))],\n",
       "                                      verbose=False),\n",
       "                   iid='deprecated', n_iter=75, n_jobs=-1,\n",
       "                   param_distributions={'svc__C': <scipy.stats._distn_infrastructure.rv_frozen object at 0x000002270B8A9AC8>,\n",
       "                                        'svc__gamma': ['scale', 'auto']},\n",
       "                   pre_dispatch='2*n_jobs', random_state=42, refit=True,\n",
       "                   return_train_score=False, scoring=None, verbose=True)"
      ]
     },
     "execution_count": 42,
     "metadata": {},
     "output_type": "execute_result"
    }
   ],
   "source": [
    "svc_rs = RandomizedSearchCV(svc_pipe,\n",
    "                             svc_params,\n",
    "                             n_iter=75,\n",
    "                             cv=5,\n",
    "                             n_jobs=-1,\n",
    "                             verbose=True,\n",
    "                             random_state = 42)\n",
    "\n",
    "svc_rs.fit(X_train,y_train)"
   ]
  },
  {
   "cell_type": "markdown",
   "metadata": {},
   "source": [
    "#### Evaluation"
   ]
  },
  {
   "cell_type": "code",
   "execution_count": 43,
   "metadata": {},
   "outputs": [
    {
     "data": {
      "text/html": [
       "<div>\n",
       "<style scoped>\n",
       "    .dataframe tbody tr th:only-of-type {\n",
       "        vertical-align: middle;\n",
       "    }\n",
       "\n",
       "    .dataframe tbody tr th {\n",
       "        vertical-align: top;\n",
       "    }\n",
       "\n",
       "    .dataframe thead th {\n",
       "        text-align: right;\n",
       "    }\n",
       "</style>\n",
       "<table border=\"1\" class=\"dataframe\">\n",
       "  <thead>\n",
       "    <tr style=\"text-align: right;\">\n",
       "      <th></th>\n",
       "      <th>Train Accuracy</th>\n",
       "      <th>Test Accuracy</th>\n",
       "      <th>Overfittedness</th>\n",
       "      <th>Best Params</th>\n",
       "    </tr>\n",
       "  </thead>\n",
       "  <tbody>\n",
       "    <tr>\n",
       "      <th>LogisticRegression</th>\n",
       "      <td>1.000000</td>\n",
       "      <td>0.574011</td>\n",
       "      <td>0.4260</td>\n",
       "      <td>NaN</td>\n",
       "    </tr>\n",
       "    <tr>\n",
       "      <th>LassoLogisticRegression</th>\n",
       "      <td>1.000000</td>\n",
       "      <td>0.545763</td>\n",
       "      <td>0.4542</td>\n",
       "      <td>{'lasso__C': 1.0636067554253128}</td>\n",
       "    </tr>\n",
       "    <tr>\n",
       "      <th>RidgeLogisticRegression</th>\n",
       "      <td>1.000000</td>\n",
       "      <td>0.522034</td>\n",
       "      <td>0.4780</td>\n",
       "      <td>{'ridge__C': 6.009974959585542}</td>\n",
       "    </tr>\n",
       "    <tr>\n",
       "      <th>MultinomialNaiveBayes</th>\n",
       "      <td>0.753394</td>\n",
       "      <td>0.576271</td>\n",
       "      <td>0.1771</td>\n",
       "      <td>{'nb__alpha': 1.0166804751089014}</td>\n",
       "    </tr>\n",
       "    <tr>\n",
       "      <th>DecisionTree</th>\n",
       "      <td>0.663650</td>\n",
       "      <td>0.540113</td>\n",
       "      <td>0.1235</td>\n",
       "      <td>{'dt__max_depth': 67.35017691080559, 'dt__min_...</td>\n",
       "    </tr>\n",
       "    <tr>\n",
       "      <th>RandomForest</th>\n",
       "      <td>0.596154</td>\n",
       "      <td>0.536723</td>\n",
       "      <td>0.0594</td>\n",
       "      <td>{'rf__max_depth': 31.42422429595377, 'rf__max_...</td>\n",
       "    </tr>\n",
       "    <tr>\n",
       "      <th>Gradient Boost</th>\n",
       "      <td>0.436652</td>\n",
       "      <td>0.437288</td>\n",
       "      <td>-0.0006</td>\n",
       "      <td>{'gb__learning_rate': 0.27620585618011995, 'gb...</td>\n",
       "    </tr>\n",
       "    <tr>\n",
       "      <th>AdaBoost</th>\n",
       "      <td>0.689668</td>\n",
       "      <td>0.577401</td>\n",
       "      <td>0.1123</td>\n",
       "      <td>{'ab__learning_rate': 0.0412459590679447, 'ab_...</td>\n",
       "    </tr>\n",
       "    <tr>\n",
       "      <th>SupportVectorMachine</th>\n",
       "      <td>0.990573</td>\n",
       "      <td>0.552542</td>\n",
       "      <td>0.4380</td>\n",
       "      <td>{'svc__C': 1.5580863867032468, 'svc__gamma': '...</td>\n",
       "    </tr>\n",
       "  </tbody>\n",
       "</table>\n",
       "</div>"
      ],
      "text/plain": [
       "                         Train Accuracy  Test Accuracy  Overfittedness  \\\n",
       "LogisticRegression             1.000000       0.574011          0.4260   \n",
       "LassoLogisticRegression        1.000000       0.545763          0.4542   \n",
       "RidgeLogisticRegression        1.000000       0.522034          0.4780   \n",
       "MultinomialNaiveBayes          0.753394       0.576271          0.1771   \n",
       "DecisionTree                   0.663650       0.540113          0.1235   \n",
       "RandomForest                   0.596154       0.536723          0.0594   \n",
       "Gradient Boost                 0.436652       0.437288         -0.0006   \n",
       "AdaBoost                       0.689668       0.577401          0.1123   \n",
       "SupportVectorMachine           0.990573       0.552542          0.4380   \n",
       "\n",
       "                                                               Best Params  \n",
       "LogisticRegression                                                     NaN  \n",
       "LassoLogisticRegression                   {'lasso__C': 1.0636067554253128}  \n",
       "RidgeLogisticRegression                    {'ridge__C': 6.009974959585542}  \n",
       "MultinomialNaiveBayes                    {'nb__alpha': 1.0166804751089014}  \n",
       "DecisionTree             {'dt__max_depth': 67.35017691080559, 'dt__min_...  \n",
       "RandomForest             {'rf__max_depth': 31.42422429595377, 'rf__max_...  \n",
       "Gradient Boost           {'gb__learning_rate': 0.27620585618011995, 'gb...  \n",
       "AdaBoost                 {'ab__learning_rate': 0.0412459590679447, 'ab_...  \n",
       "SupportVectorMachine     {'svc__C': 1.5580863867032468, 'svc__gamma': '...  "
      ]
     },
     "execution_count": 43,
     "metadata": {},
     "output_type": "execute_result"
    }
   ],
   "source": [
    "add_accuracy(svc_rs,'SupportVectorMachine')\n",
    "model_accuracy"
   ]
  },
  {
   "cell_type": "code",
   "execution_count": 44,
   "metadata": {},
   "outputs": [
    {
     "data": {
      "image/png": "[encoded data removed]",
      "text/plain": [
       "<Figure size 576x576 with 2 Axes>"
      ]
     },
     "metadata": {
      "needs_background": "light"
     },
     "output_type": "display_data"
    }
   ],
   "source": [
    "confusion_matrix(svc_rs.best_estimator_,'Support Vector Machine')"
   ]
  },
  {
   "cell_type": "markdown",
   "metadata": {},
   "source": [
    "### Voting Ensemble"
   ]
  },
  {
   "cell_type": "markdown",
   "metadata": {},
   "source": [
    "While we initially intended to use the Gradient Boosted Model as part of the final ensemble, along with all the others, it is so egregiously bad (and we lack the time to fix it) that we are simply going to discard it. "
   ]
  },
  {
   "cell_type": "markdown",
   "metadata": {},
   "source": [
    "#### Fitting"
   ]
  },
  {
   "cell_type": "markdown",
   "metadata": {},
   "source": [
    "We ran into an interesting issue with passing our best parameters for each model to the Voting Classifier. Namely, the prepended \\[identifier\\]\\_\\_ pattern caused issues, so we came up with a function to convert the keys of our .best_parameter\\_ dictionaries into their base forms with regex."
   ]
  },
  {
   "cell_type": "code",
   "execution_count": 45,
   "metadata": {},
   "outputs": [],
   "source": [
    "def fix_parameters(dictionary):\n",
    "    new_dictionary = {\n",
    "        re.sub(r'[a-z]+_{2}','',item): value for item, value in dictionary.items()\n",
    "    }\n",
    "    return(new_dictionary)"
   ]
  },
  {
   "cell_type": "code",
   "execution_count": 46,
   "metadata": {},
   "outputs": [],
   "source": [
    "parameter_dicts = [lasso_rs.best_params_,ridge_rs.best_params_,nb_rs.best_params_,\n",
    "                  dt_rs.best_params_,rf_rs.best_params_,ab_rs.best_params_,\n",
    "                  svc_rs.best_params_]"
   ]
  },
  {
   "cell_type": "code",
   "execution_count": 47,
   "metadata": {},
   "outputs": [],
   "source": [
    "for i, p_dict in enumerate(parameter_dicts):\n",
    "    parameter_dicts[i] = fix_parameters(p_dict)"
   ]
  },
  {
   "cell_type": "code",
   "execution_count": 48,
   "metadata": {},
   "outputs": [
    {
     "data": {
      "text/plain": [
       "Pipeline(memory=None,\n",
       "         steps=[('tfid',\n",
       "                 TfidfVectorizer(analyzer='word', binary=False,\n",
       "                                 decode_error='strict',\n",
       "                                 dtype=<class 'numpy.float64'>,\n",
       "                                 encoding='utf-8', input='content',\n",
       "                                 lowercase=True, max_df=0.325,\n",
       "                                 max_features=6500, min_df=5,\n",
       "                                 ngram_range=(1, 2), norm='l2',\n",
       "                                 preprocessor=None, smooth_idf=True,\n",
       "                                 stop_words=['less', 'series', 'least', 'or',\n",
       "                                             'with', 'sixty', 'battle', 'di...\n",
       "                                                                  n_estimators=500,\n",
       "                                                                  random_state=None)),\n",
       "                                              ('svc',\n",
       "                                               SVC(C=1.5580863867032468,\n",
       "                                                   break_ties=False,\n",
       "                                                   cache_size=200,\n",
       "                                                   class_weight=None, coef0=0.0,\n",
       "                                                   decision_function_shape='ovr',\n",
       "                                                   degree=3, gamma='auto',\n",
       "                                                   kernel='rbf', max_iter=-1,\n",
       "                                                   probability=False,\n",
       "                                                   random_state=None,\n",
       "                                                   shrinking=True, tol=0.001,\n",
       "                                                   verbose=False))],\n",
       "                                  flatten_transform=True, n_jobs=None,\n",
       "                                  voting='hard', weights=None))],\n",
       "         verbose=False)"
      ]
     },
     "execution_count": 48,
     "metadata": {},
     "output_type": "execute_result"
    }
   ],
   "source": [
    "vc_pipe = Pipeline([('tfid', TfidfVectorizer(\n",
    "    max_df=.325,\n",
    "    max_features=6500,\n",
    "    min_df=5,\n",
    "    ngram_range=(1, 2),\n",
    "    stop_words=stop_words)),\n",
    "    ('ss', StandardScaler(with_mean=False)),\n",
    "    ('vote', VotingClassifier([('logit', LogisticRegression(penalty='none',\n",
    "                                                            solver='lbfgs',\n",
    "                                                            max_iter=1000,)),\n",
    "                               ('lasso', LogisticRegression(penalty='l1',\n",
    "                                                            solver='liblinear',\n",
    "                                                            **parameter_dicts[0])),\n",
    "                               ('ridge', LogisticRegression(penalty='l1',\n",
    "                                                            solver='liblinear',\n",
    "                                                            **parameter_dicts[1])),\n",
    "                               ('nb', MultinomialNB(**parameter_dicts[2])),\n",
    "                               ('dt', DecisionTreeClassifier(\n",
    "                                   **parameter_dicts[3])),\n",
    "                               ('rf', RandomForestClassifier(\n",
    "                                   **parameter_dicts[4])),\n",
    "                               ('ab', AdaBoostClassifier(\n",
    "                                   **parameter_dicts[5])),\n",
    "                               ('svc', SVC(**parameter_dicts[6]))]))])\n",
    "\n",
    "vc_pipe.fit(X_train, y_train)"
   ]
  },
  {
   "cell_type": "markdown",
   "metadata": {},
   "source": [
    "#### Evaluation"
   ]
  },
  {
   "cell_type": "code",
   "execution_count": 49,
   "metadata": {},
   "outputs": [],
   "source": [
    "model_accuracy.loc['VotingClassifier','Train Accuracy'] = vc_pipe.score(X_train,y_train)\n",
    "\n",
    "model_accuracy.loc['VotingClassifier','Test Accuracy'] = vc_pipe.score(X_test,y_test)\n",
    "\n",
    "model_accuracy.loc['VotingClassifier','Overfittedness'] = round(vc_pipe.score(X_train,y_train) - vc_pipe.score(X_test,y_test),4)"
   ]
  },
  {
   "cell_type": "code",
   "execution_count": 50,
   "metadata": {},
   "outputs": [
    {
     "data": {
      "text/html": [
       "<div>\n",
       "<style scoped>\n",
       "    .dataframe tbody tr th:only-of-type {\n",
       "        vertical-align: middle;\n",
       "    }\n",
       "\n",
       "    .dataframe tbody tr th {\n",
       "        vertical-align: top;\n",
       "    }\n",
       "\n",
       "    .dataframe thead th {\n",
       "        text-align: right;\n",
       "    }\n",
       "</style>\n",
       "<table border=\"1\" class=\"dataframe\">\n",
       "  <thead>\n",
       "    <tr style=\"text-align: right;\">\n",
       "      <th></th>\n",
       "      <th>Train Accuracy</th>\n",
       "      <th>Test Accuracy</th>\n",
       "      <th>Overfittedness</th>\n",
       "      <th>Best Params</th>\n",
       "    </tr>\n",
       "  </thead>\n",
       "  <tbody>\n",
       "    <tr>\n",
       "      <th>LogisticRegression</th>\n",
       "      <td>1.000000</td>\n",
       "      <td>0.574011</td>\n",
       "      <td>0.4260</td>\n",
       "      <td>NaN</td>\n",
       "    </tr>\n",
       "    <tr>\n",
       "      <th>LassoLogisticRegression</th>\n",
       "      <td>1.000000</td>\n",
       "      <td>0.545763</td>\n",
       "      <td>0.4542</td>\n",
       "      <td>{'lasso__C': 1.0636067554253128}</td>\n",
       "    </tr>\n",
       "    <tr>\n",
       "      <th>RidgeLogisticRegression</th>\n",
       "      <td>1.000000</td>\n",
       "      <td>0.522034</td>\n",
       "      <td>0.4780</td>\n",
       "      <td>{'ridge__C': 6.009974959585542}</td>\n",
       "    </tr>\n",
       "    <tr>\n",
       "      <th>MultinomialNaiveBayes</th>\n",
       "      <td>0.753394</td>\n",
       "      <td>0.576271</td>\n",
       "      <td>0.1771</td>\n",
       "      <td>{'nb__alpha': 1.0166804751089014}</td>\n",
       "    </tr>\n",
       "    <tr>\n",
       "      <th>DecisionTree</th>\n",
       "      <td>0.663650</td>\n",
       "      <td>0.540113</td>\n",
       "      <td>0.1235</td>\n",
       "      <td>{'dt__max_depth': 67.35017691080559, 'dt__min_...</td>\n",
       "    </tr>\n",
       "    <tr>\n",
       "      <th>RandomForest</th>\n",
       "      <td>0.596154</td>\n",
       "      <td>0.536723</td>\n",
       "      <td>0.0594</td>\n",
       "      <td>{'rf__max_depth': 31.42422429595377, 'rf__max_...</td>\n",
       "    </tr>\n",
       "    <tr>\n",
       "      <th>Gradient Boost</th>\n",
       "      <td>0.436652</td>\n",
       "      <td>0.437288</td>\n",
       "      <td>-0.0006</td>\n",
       "      <td>{'gb__learning_rate': 0.27620585618011995, 'gb...</td>\n",
       "    </tr>\n",
       "    <tr>\n",
       "      <th>AdaBoost</th>\n",
       "      <td>0.689668</td>\n",
       "      <td>0.577401</td>\n",
       "      <td>0.1123</td>\n",
       "      <td>{'ab__learning_rate': 0.0412459590679447, 'ab_...</td>\n",
       "    </tr>\n",
       "    <tr>\n",
       "      <th>SupportVectorMachine</th>\n",
       "      <td>0.990573</td>\n",
       "      <td>0.552542</td>\n",
       "      <td>0.4380</td>\n",
       "      <td>{'svc__C': 1.5580863867032468, 'svc__gamma': '...</td>\n",
       "    </tr>\n",
       "    <tr>\n",
       "      <th>VotingClassifier</th>\n",
       "      <td>0.988688</td>\n",
       "      <td>0.596610</td>\n",
       "      <td>0.3921</td>\n",
       "      <td>NaN</td>\n",
       "    </tr>\n",
       "  </tbody>\n",
       "</table>\n",
       "</div>"
      ],
      "text/plain": [
       "                         Train Accuracy  Test Accuracy  Overfittedness  \\\n",
       "LogisticRegression             1.000000       0.574011          0.4260   \n",
       "LassoLogisticRegression        1.000000       0.545763          0.4542   \n",
       "RidgeLogisticRegression        1.000000       0.522034          0.4780   \n",
       "MultinomialNaiveBayes          0.753394       0.576271          0.1771   \n",
       "DecisionTree                   0.663650       0.540113          0.1235   \n",
       "RandomForest                   0.596154       0.536723          0.0594   \n",
       "Gradient Boost                 0.436652       0.437288         -0.0006   \n",
       "AdaBoost                       0.689668       0.577401          0.1123   \n",
       "SupportVectorMachine           0.990573       0.552542          0.4380   \n",
       "VotingClassifier               0.988688       0.596610          0.3921   \n",
       "\n",
       "                                                               Best Params  \n",
       "LogisticRegression                                                     NaN  \n",
       "LassoLogisticRegression                   {'lasso__C': 1.0636067554253128}  \n",
       "RidgeLogisticRegression                    {'ridge__C': 6.009974959585542}  \n",
       "MultinomialNaiveBayes                    {'nb__alpha': 1.0166804751089014}  \n",
       "DecisionTree             {'dt__max_depth': 67.35017691080559, 'dt__min_...  \n",
       "RandomForest             {'rf__max_depth': 31.42422429595377, 'rf__max_...  \n",
       "Gradient Boost           {'gb__learning_rate': 0.27620585618011995, 'gb...  \n",
       "AdaBoost                 {'ab__learning_rate': 0.0412459590679447, 'ab_...  \n",
       "SupportVectorMachine     {'svc__C': 1.5580863867032468, 'svc__gamma': '...  \n",
       "VotingClassifier                                                       NaN  "
      ]
     },
     "execution_count": 50,
     "metadata": {},
     "output_type": "execute_result"
    }
   ],
   "source": [
    "model_accuracy"
   ]
  },
  {
   "cell_type": "code",
   "execution_count": 51,
   "metadata": {},
   "outputs": [
    {
     "data": {
      "image/png": "[encoded data removed]",
      "text/plain": [
       "<Figure size 576x576 with 2 Axes>"
      ]
     },
     "metadata": {
      "needs_background": "light"
     },
     "output_type": "display_data"
    }
   ],
   "source": [
    "confusion_matrix(vc_pipe,'Voting Classifier')"
   ]
  },
  {
   "cell_type": "markdown",
   "metadata": {},
   "source": [
    "Overall, our ensemble did not outperform our two best models (AdaBoost and the Decision Tree), on test set accuracy, likely due to the inclusion of too many poor/underfit models. That said, we did manage to mostly equalize the class bias of most of our models (a very consistent issue), with the exception of r/gameofthrones posts being identified as r/freefolk posts.\n",
    "\n",
    "Given that after EDA, we evaluated it to be likely that r/asoiaf would be more readily distinguishable from the other two subreddits than r/freefolk and r/gameofthrones would be from each other, this is an expected result.\n",
    "\n",
    "With additional experimentation, it's quite likely that we could isolate a more robust subset of input models for the final ensemble if we removed some of the particularly overfit ones. "
   ]
  },
  {
   "cell_type": "markdown",
   "metadata": {},
   "source": [
    "## Model Evaluation"
   ]
  },
  {
   "cell_type": "markdown",
   "metadata": {},
   "source": [
    "We have already looked at each of our model performances individually, but it may be helpful to visualize their differences more "
   ]
  },
  {
   "cell_type": "code",
   "execution_count": 52,
   "metadata": {},
   "outputs": [],
   "source": [
    "model_accuracy.loc['BaselineModel','Train Accuracy'] = np.mean(baseline_train_preds == y_train)\n",
    "\n",
    "model_accuracy.loc['BaselineModel','Test Accuracy'] = np.mean(baseline_test_preds == y_test)\n",
    "\n",
    "model_accuracy.loc['BaselineModel','Overfittedness'] = np.mean(baseline_train_preds == y_train) - np.mean(baseline_test_preds == y_test)"
   ]
  },
  {
   "cell_type": "code",
   "execution_count": 53,
   "metadata": {},
   "outputs": [
    {
     "data": {
      "text/html": [
       "<div>\n",
       "<style scoped>\n",
       "    .dataframe tbody tr th:only-of-type {\n",
       "        vertical-align: middle;\n",
       "    }\n",
       "\n",
       "    .dataframe tbody tr th {\n",
       "        vertical-align: top;\n",
       "    }\n",
       "\n",
       "    .dataframe thead th {\n",
       "        text-align: right;\n",
       "    }\n",
       "</style>\n",
       "<table border=\"1\" class=\"dataframe\">\n",
       "  <thead>\n",
       "    <tr style=\"text-align: right;\">\n",
       "      <th></th>\n",
       "      <th>Train Accuracy</th>\n",
       "      <th>Test Accuracy</th>\n",
       "      <th>Overfittedness</th>\n",
       "      <th>Best Params</th>\n",
       "    </tr>\n",
       "  </thead>\n",
       "  <tbody>\n",
       "    <tr>\n",
       "      <th>LogisticRegression</th>\n",
       "      <td>1.000000</td>\n",
       "      <td>0.574011</td>\n",
       "      <td>0.426000</td>\n",
       "      <td>NaN</td>\n",
       "    </tr>\n",
       "    <tr>\n",
       "      <th>LassoLogisticRegression</th>\n",
       "      <td>1.000000</td>\n",
       "      <td>0.545763</td>\n",
       "      <td>0.454200</td>\n",
       "      <td>{'lasso__C': 1.0636067554253128}</td>\n",
       "    </tr>\n",
       "    <tr>\n",
       "      <th>RidgeLogisticRegression</th>\n",
       "      <td>1.000000</td>\n",
       "      <td>0.522034</td>\n",
       "      <td>0.478000</td>\n",
       "      <td>{'ridge__C': 6.009974959585542}</td>\n",
       "    </tr>\n",
       "    <tr>\n",
       "      <th>MultinomialNaiveBayes</th>\n",
       "      <td>0.753394</td>\n",
       "      <td>0.576271</td>\n",
       "      <td>0.177100</td>\n",
       "      <td>{'nb__alpha': 1.0166804751089014}</td>\n",
       "    </tr>\n",
       "    <tr>\n",
       "      <th>DecisionTree</th>\n",
       "      <td>0.663650</td>\n",
       "      <td>0.540113</td>\n",
       "      <td>0.123500</td>\n",
       "      <td>{'dt__max_depth': 67.35017691080559, 'dt__min_...</td>\n",
       "    </tr>\n",
       "    <tr>\n",
       "      <th>RandomForest</th>\n",
       "      <td>0.596154</td>\n",
       "      <td>0.536723</td>\n",
       "      <td>0.059400</td>\n",
       "      <td>{'rf__max_depth': 31.42422429595377, 'rf__max_...</td>\n",
       "    </tr>\n",
       "    <tr>\n",
       "      <th>Gradient Boost</th>\n",
       "      <td>0.436652</td>\n",
       "      <td>0.437288</td>\n",
       "      <td>-0.000600</td>\n",
       "      <td>{'gb__learning_rate': 0.27620585618011995, 'gb...</td>\n",
       "    </tr>\n",
       "    <tr>\n",
       "      <th>AdaBoost</th>\n",
       "      <td>0.689668</td>\n",
       "      <td>0.577401</td>\n",
       "      <td>0.112300</td>\n",
       "      <td>{'ab__learning_rate': 0.0412459590679447, 'ab_...</td>\n",
       "    </tr>\n",
       "    <tr>\n",
       "      <th>SupportVectorMachine</th>\n",
       "      <td>0.990573</td>\n",
       "      <td>0.552542</td>\n",
       "      <td>0.438000</td>\n",
       "      <td>{'svc__C': 1.5580863867032468, 'svc__gamma': '...</td>\n",
       "    </tr>\n",
       "    <tr>\n",
       "      <th>VotingClassifier</th>\n",
       "      <td>0.988688</td>\n",
       "      <td>0.596610</td>\n",
       "      <td>0.392100</td>\n",
       "      <td>NaN</td>\n",
       "    </tr>\n",
       "    <tr>\n",
       "      <th>BaselineModel</th>\n",
       "      <td>0.436652</td>\n",
       "      <td>0.437288</td>\n",
       "      <td>-0.000637</td>\n",
       "      <td>NaN</td>\n",
       "    </tr>\n",
       "  </tbody>\n",
       "</table>\n",
       "</div>"
      ],
      "text/plain": [
       "                         Train Accuracy  Test Accuracy  Overfittedness  \\\n",
       "LogisticRegression             1.000000       0.574011        0.426000   \n",
       "LassoLogisticRegression        1.000000       0.545763        0.454200   \n",
       "RidgeLogisticRegression        1.000000       0.522034        0.478000   \n",
       "MultinomialNaiveBayes          0.753394       0.576271        0.177100   \n",
       "DecisionTree                   0.663650       0.540113        0.123500   \n",
       "RandomForest                   0.596154       0.536723        0.059400   \n",
       "Gradient Boost                 0.436652       0.437288       -0.000600   \n",
       "AdaBoost                       0.689668       0.577401        0.112300   \n",
       "SupportVectorMachine           0.990573       0.552542        0.438000   \n",
       "VotingClassifier               0.988688       0.596610        0.392100   \n",
       "BaselineModel                  0.436652       0.437288       -0.000637   \n",
       "\n",
       "                                                               Best Params  \n",
       "LogisticRegression                                                     NaN  \n",
       "LassoLogisticRegression                   {'lasso__C': 1.0636067554253128}  \n",
       "RidgeLogisticRegression                    {'ridge__C': 6.009974959585542}  \n",
       "MultinomialNaiveBayes                    {'nb__alpha': 1.0166804751089014}  \n",
       "DecisionTree             {'dt__max_depth': 67.35017691080559, 'dt__min_...  \n",
       "RandomForest             {'rf__max_depth': 31.42422429595377, 'rf__max_...  \n",
       "Gradient Boost           {'gb__learning_rate': 0.27620585618011995, 'gb...  \n",
       "AdaBoost                 {'ab__learning_rate': 0.0412459590679447, 'ab_...  \n",
       "SupportVectorMachine     {'svc__C': 1.5580863867032468, 'svc__gamma': '...  \n",
       "VotingClassifier                                                       NaN  \n",
       "BaselineModel                                                          NaN  "
      ]
     },
     "execution_count": 53,
     "metadata": {},
     "output_type": "execute_result"
    }
   ],
   "source": [
    "model_accuracy"
   ]
  },
  {
   "cell_type": "markdown",
   "metadata": {},
   "source": [
    "#### Model Training Accuracy"
   ]
  },
  {
   "cell_type": "code",
   "execution_count": 54,
   "metadata": {},
   "outputs": [
    {
     "data": {
      "image/png": "[encoded data removed]",
      "text/plain": [
       "<Figure size 864x504 with 1 Axes>"
      ]
     },
     "metadata": {
      "needs_background": "light"
     },
     "output_type": "display_data"
    }
   ],
   "source": [
    "plt.figure(figsize=(12, 7))\n",
    "sns.barplot(x=model_accuracy.sort_values('Train Accuracy').index,\n",
    "            y=model_accuracy.sort_values('Train Accuracy')['Train Accuracy'],\n",
    "            ec='k',\n",
    "            linewidth=1,\n",
    "            palette='PuOr'\n",
    "            )\n",
    "plt.xticks(rotation='vertical', fontsize=14)\n",
    "plt.title('Model Training Set Accuracy', fontsize=18)\n",
    "plt.ylim(0,1.1)\n",
    "plt.ylabel('Accuracy', fontsize=16)\n",
    "plt.xlabel('Model', fontsize=16);"
   ]
  },
  {
   "cell_type": "markdown",
   "metadata": {},
   "source": [
    "As we saw during modeling, many of our models drastically overfit to the training data. This extremely low bias is undesireable, as it reflects a lack of generalizability. So, our best models are all on the \"high bias\" end of this spectrum, particularly the AdaBoost and Decision Tree."
   ]
  },
  {
   "cell_type": "markdown",
   "metadata": {},
   "source": [
    "#### Model Test Accuracy"
   ]
  },
  {
   "cell_type": "code",
   "execution_count": 108,
   "metadata": {},
   "outputs": [
    {
     "data": {
      "text/html": [
       "<div>\n",
       "<style scoped>\n",
       "    .dataframe tbody tr th:only-of-type {\n",
       "        vertical-align: middle;\n",
       "    }\n",
       "\n",
       "    .dataframe tbody tr th {\n",
       "        vertical-align: top;\n",
       "    }\n",
       "\n",
       "    .dataframe thead th {\n",
       "        text-align: right;\n",
       "    }\n",
       "</style>\n",
       "<table border=\"1\" class=\"dataframe\">\n",
       "  <thead>\n",
       "    <tr style=\"text-align: right;\">\n",
       "      <th></th>\n",
       "      <th>Train Accuracy</th>\n",
       "      <th>Test Accuracy</th>\n",
       "      <th>Overfittedness</th>\n",
       "      <th>Best Params</th>\n",
       "    </tr>\n",
       "  </thead>\n",
       "  <tbody>\n",
       "    <tr>\n",
       "      <th>LogisticRegression</th>\n",
       "      <td>1.000000</td>\n",
       "      <td>0.574011</td>\n",
       "      <td>0.426000</td>\n",
       "      <td>NaN</td>\n",
       "    </tr>\n",
       "    <tr>\n",
       "      <th>LassoLogisticRegression</th>\n",
       "      <td>1.000000</td>\n",
       "      <td>0.545763</td>\n",
       "      <td>0.454200</td>\n",
       "      <td>{'lasso__C': 1.0636067554253128}</td>\n",
       "    </tr>\n",
       "    <tr>\n",
       "      <th>RidgeLogisticRegression</th>\n",
       "      <td>1.000000</td>\n",
       "      <td>0.522034</td>\n",
       "      <td>0.478000</td>\n",
       "      <td>{'ridge__C': 6.009974959585542}</td>\n",
       "    </tr>\n",
       "    <tr>\n",
       "      <th>MultinomialNaiveBayes</th>\n",
       "      <td>0.753394</td>\n",
       "      <td>0.576271</td>\n",
       "      <td>0.177100</td>\n",
       "      <td>{'nb__alpha': 1.0166804751089014}</td>\n",
       "    </tr>\n",
       "    <tr>\n",
       "      <th>DecisionTree</th>\n",
       "      <td>0.663650</td>\n",
       "      <td>0.540113</td>\n",
       "      <td>0.123500</td>\n",
       "      <td>{'dt__max_depth': 67.35017691080559, 'dt__min_...</td>\n",
       "    </tr>\n",
       "    <tr>\n",
       "      <th>RandomForest</th>\n",
       "      <td>0.596154</td>\n",
       "      <td>0.536723</td>\n",
       "      <td>0.059400</td>\n",
       "      <td>{'rf__max_depth': 31.42422429595377, 'rf__max_...</td>\n",
       "    </tr>\n",
       "    <tr>\n",
       "      <th>Gradient Boost</th>\n",
       "      <td>0.436652</td>\n",
       "      <td>0.437288</td>\n",
       "      <td>-0.000600</td>\n",
       "      <td>{'gb__learning_rate': 0.27620585618011995, 'gb...</td>\n",
       "    </tr>\n",
       "    <tr>\n",
       "      <th>AdaBoost</th>\n",
       "      <td>0.689668</td>\n",
       "      <td>0.577401</td>\n",
       "      <td>0.112300</td>\n",
       "      <td>{'ab__learning_rate': 0.0412459590679447, 'ab_...</td>\n",
       "    </tr>\n",
       "    <tr>\n",
       "      <th>SupportVectorMachine</th>\n",
       "      <td>0.990573</td>\n",
       "      <td>0.552542</td>\n",
       "      <td>0.438000</td>\n",
       "      <td>{'svc__C': 1.5580863867032468, 'svc__gamma': '...</td>\n",
       "    </tr>\n",
       "    <tr>\n",
       "      <th>VotingClassifier</th>\n",
       "      <td>0.988688</td>\n",
       "      <td>0.596610</td>\n",
       "      <td>0.392100</td>\n",
       "      <td>NaN</td>\n",
       "    </tr>\n",
       "    <tr>\n",
       "      <th>BaselineModel</th>\n",
       "      <td>0.436652</td>\n",
       "      <td>0.437288</td>\n",
       "      <td>-0.000637</td>\n",
       "      <td>NaN</td>\n",
       "    </tr>\n",
       "  </tbody>\n",
       "</table>\n",
       "</div>"
      ],
      "text/plain": [
       "                         Train Accuracy  Test Accuracy  Overfittedness  \\\n",
       "LogisticRegression             1.000000       0.574011        0.426000   \n",
       "LassoLogisticRegression        1.000000       0.545763        0.454200   \n",
       "RidgeLogisticRegression        1.000000       0.522034        0.478000   \n",
       "MultinomialNaiveBayes          0.753394       0.576271        0.177100   \n",
       "DecisionTree                   0.663650       0.540113        0.123500   \n",
       "RandomForest                   0.596154       0.536723        0.059400   \n",
       "Gradient Boost                 0.436652       0.437288       -0.000600   \n",
       "AdaBoost                       0.689668       0.577401        0.112300   \n",
       "SupportVectorMachine           0.990573       0.552542        0.438000   \n",
       "VotingClassifier               0.988688       0.596610        0.392100   \n",
       "BaselineModel                  0.436652       0.437288       -0.000637   \n",
       "\n",
       "                                                               Best Params  \n",
       "LogisticRegression                                                     NaN  \n",
       "LassoLogisticRegression                   {'lasso__C': 1.0636067554253128}  \n",
       "RidgeLogisticRegression                    {'ridge__C': 6.009974959585542}  \n",
       "MultinomialNaiveBayes                    {'nb__alpha': 1.0166804751089014}  \n",
       "DecisionTree             {'dt__max_depth': 67.35017691080559, 'dt__min_...  \n",
       "RandomForest             {'rf__max_depth': 31.42422429595377, 'rf__max_...  \n",
       "Gradient Boost           {'gb__learning_rate': 0.27620585618011995, 'gb...  \n",
       "AdaBoost                 {'ab__learning_rate': 0.0412459590679447, 'ab_...  \n",
       "SupportVectorMachine     {'svc__C': 1.5580863867032468, 'svc__gamma': '...  \n",
       "VotingClassifier                                                       NaN  \n",
       "BaselineModel                                                          NaN  "
      ]
     },
     "execution_count": 108,
     "metadata": {},
     "output_type": "execute_result"
    }
   ],
   "source": [
    "model_accuracy"
   ]
  },
  {
   "cell_type": "code",
   "execution_count": 55,
   "metadata": {},
   "outputs": [
    {
     "data": {
      "image/png": "[encoded data removed]",
      "text/plain": [
       "<Figure size 864x504 with 1 Axes>"
      ]
     },
     "metadata": {
      "needs_background": "light"
     },
     "output_type": "display_data"
    }
   ],
   "source": [
    "plt.figure(figsize=(12, 7))\n",
    "sns.barplot(x=model_accuracy.sort_values('Test Accuracy').index,\n",
    "            y=model_accuracy.sort_values('Test Accuracy')['Test Accuracy'],\n",
    "            ec='k',\n",
    "            linewidth=1,\n",
    "            palette='PuOr'\n",
    "            )\n",
    "plt.xticks(rotation='vertical', fontsize=14)\n",
    "plt.ylim(0,1.1)\n",
    "plt.title('Model Testing Set Accuracy', fontsize=18)\n",
    "plt.ylabel('Accuracy', fontsize=16)\n",
    "plt.xlabel('Model', fontsize=16);"
   ]
  },
  {
   "cell_type": "markdown",
   "metadata": {},
   "source": [
    "This metric is our true target; how well can our models classify unseen data? While our unregularized and Lasso Logistic Regressions come close to the Ensemble, Decision Tree, and AdaBoost on training accuracy, their overfittedness will call their credibility into question:"
   ]
  },
  {
   "cell_type": "markdown",
   "metadata": {},
   "source": [
    "#### Model Overfittedness"
   ]
  },
  {
   "cell_type": "code",
   "execution_count": 56,
   "metadata": {
    "scrolled": false
   },
   "outputs": [
    {
     "data": {
      "image/png": "[encoded data removed]",
      "text/plain": [
       "<Figure size 864x504 with 1 Axes>"
      ]
     },
     "metadata": {
      "needs_background": "light"
     },
     "output_type": "display_data"
    }
   ],
   "source": [
    "plt.figure(figsize=(12, 7))\n",
    "sns.barplot(x=model_accuracy.sort_values('Overfittedness',ascending=False).index,\n",
    "            y=model_accuracy.sort_values('Overfittedness',ascending=False)['Overfittedness'],\n",
    "            ec='k',\n",
    "            linewidth=1,\n",
    "            palette='PuOr'\n",
    "            )\n",
    "plt.xticks(rotation='vertical', fontsize=14)\n",
    "plt.title('Model Overfittedness', fontsize=18)\n",
    "plt.ylim(0,.5)\n",
    "plt.ylabel('Train Accuracy - Test Accuracy', fontsize=16)\n",
    "plt.xlabel('Model', fontsize=16);"
   ]
  },
  {
   "cell_type": "markdown",
   "metadata": {},
   "source": [
    "This chart is why we can feel confident with holding up AdaBoost and the Decision Tree as far-and-away our best models. While the Gradient Boosting Classifier was remarkably well-fit, it had an abysmal 24% Accuracy on train and test data, making it worthless. In its defense, had this been a binary classification problem, it might actually be our best model, but inverting its predictions doesn't work quite as well with a three-way classification.\n",
    "\n",
    "It is likely that our ensemble model would be able to beat AdaBoost and the Decision Tree on more metrics if we didn't throw so many weak and overfit models into it, but that is a test for another time."
   ]
  },
  {
   "cell_type": "markdown",
   "metadata": {},
   "source": [
    "#### Decision Tree Analysis"
   ]
  },
  {
   "cell_type": "code",
   "execution_count": 57,
   "metadata": {},
   "outputs": [
    {
     "data": {
      "text/plain": [
       "DecisionTreeClassifier(ccp_alpha=0.0, class_weight=None, criterion='gini',\n",
       "                       max_depth=67.35017691080559, max_features=None,\n",
       "                       max_leaf_nodes=None, min_impurity_decrease=0.0,\n",
       "                       min_impurity_split=None,\n",
       "                       min_samples_leaf=0.005061583846218687,\n",
       "                       min_samples_split=0.16080805141749865,\n",
       "                       min_weight_fraction_leaf=0.0, presort='deprecated',\n",
       "                       random_state=None, splitter='best')"
      ]
     },
     "execution_count": 57,
     "metadata": {},
     "output_type": "execute_result"
    }
   ],
   "source": [
    "dt_rs.best_estimator_.named_steps['dt']"
   ]
  },
  {
   "cell_type": "code",
   "execution_count": 69,
   "metadata": {},
   "outputs": [
    {
     "data": {
      "image/png": "[encoded data removed]",
      "text/plain": [
       "<Figure size 720x720 with 1 Axes>"
      ]
     },
     "metadata": {
      "needs_background": "light"
     },
     "output_type": "display_data"
    }
   ],
   "source": [
    "plt.figure(figsize=(10,10))\n",
    "plot_tree(dt_rs.best_estimator_.named_steps['dt'],\n",
    "          max_depth = 6, \n",
    "          feature_names=coef_names, \n",
    "          class_names=dt_rs.best_estimator_.classes_,\n",
    "         filled=True,\n",
    "         label='root');"
   ]
  },
  {
   "cell_type": "markdown",
   "metadata": {},
   "source": [
    "#### Logistic Regression Coefficients"
   ]
  },
  {
   "cell_type": "code",
   "execution_count": 97,
   "metadata": {},
   "outputs": [],
   "source": [
    "coef_dict = {}\n",
    "for coef, feat in zip(logit_pipe.named_steps['logit'].coef_[0],coef_names):\n",
    "    coef_dict[feat] = coef\n",
    "asoiaf_coef = pd.DataFrame(coef_dict, index = coef_dict.keys())\n"
   ]
  },
  {
   "cell_type": "markdown",
   "metadata": {},
   "source": [
    "### Bonus: fit on full dataset"
   ]
  },
  {
   "cell_type": "markdown",
   "metadata": {},
   "source": [
    "Here we use the full dataset, instead of a 5% subset, to fit and predict with our best model, AdaBoost."
   ]
  },
  {
   "cell_type": "code",
   "execution_count": 59,
   "metadata": {},
   "outputs": [],
   "source": [
    "X = df['fulltext']\n",
    "y = df['subreddit']\n",
    "\n",
    "X_train, X_test, y_train, y_test = train_test_split(X,y,stratify=y, random_state=42)"
   ]
  },
  {
   "cell_type": "markdown",
   "metadata": {},
   "source": [
    "#### Fitting"
   ]
  },
  {
   "cell_type": "code",
   "execution_count": 60,
   "metadata": {},
   "outputs": [],
   "source": [
    "ab_pipe = Pipeline([('tfid', TfidfVectorizer(\n",
    "    max_df=.325,\n",
    "    max_features=6500,\n",
    "    min_df=5,\n",
    "    ngram_range=(1, 2),\n",
    "    stop_words=stop_words)),\n",
    "    ('ab', AdaBoostClassifier())])\n",
    "\n",
    "ab_params = {\n",
    "    'tfid__max_df':uniform(.000001,1),\n",
    "    'tfid__max_features':uniform(1000,10000),\n",
    "    'tfid__min_df':uniform(.000001,1),\n",
    "    'tfid__ngram_range':[(1,1),(1,2),(1,3)],\n",
    "    'tfid__stop_words':[stop_words],\n",
    "    'ab__n_estimators': np.linspace(10,1000,10),\n",
    "    'ab__learning_rate': loguniform(.00001, 50)\n",
    "}"
   ]
  },
  {
   "cell_type": "code",
   "execution_count": 61,
   "metadata": {},
   "outputs": [
    {
     "name": "stdout",
     "output_type": "stream",
     "text": [
      "Fitting 5 folds for each of 10000 candidates, totalling 50000 fits\n"
     ]
    },
    {
     "name": "stderr",
     "output_type": "stream",
     "text": [
      "[Parallel(n_jobs=-1)]: Using backend LokyBackend with 4 concurrent workers.\n",
      "[Parallel(n_jobs=-1)]: Done  42 tasks      | elapsed:  4.7min\n",
      "[Parallel(n_jobs=-1)]: Done 192 tasks      | elapsed: 20.0min\n",
      "[Parallel(n_jobs=-1)]: Done 442 tasks      | elapsed: 43.3min\n",
      "[Parallel(n_jobs=-1)]: Done 792 tasks      | elapsed: 73.4min\n",
      "[Parallel(n_jobs=-1)]: Done 1242 tasks      | elapsed: 118.4min\n",
      "[Parallel(n_jobs=-1)]: Done 1792 tasks      | elapsed: 165.0min\n",
      "[Parallel(n_jobs=-1)]: Done 2442 tasks      | elapsed: 225.6min\n",
      "[Parallel(n_jobs=-1)]: Done 3192 tasks      | elapsed: 297.3min\n"
     ]
    },
    {
     "ename": "KeyboardInterrupt",
     "evalue": "",
     "output_type": "error",
     "traceback": [
      "\u001b[1;31m---------------------------------------------------------------------------\u001b[0m",
      "\u001b[1;31mKeyboardInterrupt\u001b[0m                         Traceback (most recent call last)",
      "\u001b[1;32m<ipython-input-61-fbf6942f6ea9>\u001b[0m in \u001b[0;36m<module>\u001b[1;34m\u001b[0m\n\u001b[0;32m      7\u001b[0m                              random_state = 42)\n\u001b[0;32m      8\u001b[0m \u001b[1;33m\u001b[0m\u001b[0m\n\u001b[1;32m----> 9\u001b[1;33m \u001b[0mab_rs\u001b[0m\u001b[1;33m.\u001b[0m\u001b[0mfit\u001b[0m\u001b[1;33m(\u001b[0m\u001b[0mX_train\u001b[0m\u001b[1;33m,\u001b[0m\u001b[0my_train\u001b[0m\u001b[1;33m)\u001b[0m\u001b[1;33m\u001b[0m\u001b[1;33m\u001b[0m\u001b[0m\n\u001b[0m",
      "\u001b[1;32m~\\anaconda3\\lib\\site-packages\\sklearn\\model_selection\\_search.py\u001b[0m in \u001b[0;36mfit\u001b[1;34m(self, X, y, groups, **fit_params)\u001b[0m\n\u001b[0;32m    708\u001b[0m                 \u001b[1;32mreturn\u001b[0m \u001b[0mresults\u001b[0m\u001b[1;33m\u001b[0m\u001b[1;33m\u001b[0m\u001b[0m\n\u001b[0;32m    709\u001b[0m \u001b[1;33m\u001b[0m\u001b[0m\n\u001b[1;32m--> 710\u001b[1;33m             \u001b[0mself\u001b[0m\u001b[1;33m.\u001b[0m\u001b[0m_run_search\u001b[0m\u001b[1;33m(\u001b[0m\u001b[0mevaluate_candidates\u001b[0m\u001b[1;33m)\u001b[0m\u001b[1;33m\u001b[0m\u001b[1;33m\u001b[0m\u001b[0m\n\u001b[0m\u001b[0;32m    711\u001b[0m \u001b[1;33m\u001b[0m\u001b[0m\n\u001b[0;32m    712\u001b[0m         \u001b[1;31m# For multi-metric evaluation, store the best_index_, best_params_ and\u001b[0m\u001b[1;33m\u001b[0m\u001b[1;33m\u001b[0m\u001b[1;33m\u001b[0m\u001b[0m\n",
      "\u001b[1;32m~\\anaconda3\\lib\\site-packages\\sklearn\\model_selection\\_search.py\u001b[0m in \u001b[0;36m_run_search\u001b[1;34m(self, evaluate_candidates)\u001b[0m\n\u001b[0;32m   1482\u001b[0m         evaluate_candidates(ParameterSampler(\n\u001b[0;32m   1483\u001b[0m             \u001b[0mself\u001b[0m\u001b[1;33m.\u001b[0m\u001b[0mparam_distributions\u001b[0m\u001b[1;33m,\u001b[0m \u001b[0mself\u001b[0m\u001b[1;33m.\u001b[0m\u001b[0mn_iter\u001b[0m\u001b[1;33m,\u001b[0m\u001b[1;33m\u001b[0m\u001b[1;33m\u001b[0m\u001b[0m\n\u001b[1;32m-> 1484\u001b[1;33m             random_state=self.random_state))\n\u001b[0m",
      "\u001b[1;32m~\\anaconda3\\lib\\site-packages\\sklearn\\model_selection\\_search.py\u001b[0m in \u001b[0;36mevaluate_candidates\u001b[1;34m(candidate_params)\u001b[0m\n\u001b[0;32m    687\u001b[0m                                \u001b[1;32mfor\u001b[0m \u001b[0mparameters\u001b[0m\u001b[1;33m,\u001b[0m \u001b[1;33m(\u001b[0m\u001b[0mtrain\u001b[0m\u001b[1;33m,\u001b[0m \u001b[0mtest\u001b[0m\u001b[1;33m)\u001b[0m\u001b[1;33m\u001b[0m\u001b[1;33m\u001b[0m\u001b[0m\n\u001b[0;32m    688\u001b[0m                                in product(candidate_params,\n\u001b[1;32m--> 689\u001b[1;33m                                           cv.split(X, y, groups)))\n\u001b[0m\u001b[0;32m    690\u001b[0m \u001b[1;33m\u001b[0m\u001b[0m\n\u001b[0;32m    691\u001b[0m                 \u001b[1;32mif\u001b[0m \u001b[0mlen\u001b[0m\u001b[1;33m(\u001b[0m\u001b[0mout\u001b[0m\u001b[1;33m)\u001b[0m \u001b[1;33m<\u001b[0m \u001b[1;36m1\u001b[0m\u001b[1;33m:\u001b[0m\u001b[1;33m\u001b[0m\u001b[1;33m\u001b[0m\u001b[0m\n",
      "\u001b[1;32m~\\anaconda3\\lib\\site-packages\\joblib\\parallel.py\u001b[0m in \u001b[0;36m__call__\u001b[1;34m(self, iterable)\u001b[0m\n\u001b[0;32m   1015\u001b[0m \u001b[1;33m\u001b[0m\u001b[0m\n\u001b[0;32m   1016\u001b[0m             \u001b[1;32mwith\u001b[0m \u001b[0mself\u001b[0m\u001b[1;33m.\u001b[0m\u001b[0m_backend\u001b[0m\u001b[1;33m.\u001b[0m\u001b[0mretrieval_context\u001b[0m\u001b[1;33m(\u001b[0m\u001b[1;33m)\u001b[0m\u001b[1;33m:\u001b[0m\u001b[1;33m\u001b[0m\u001b[1;33m\u001b[0m\u001b[0m\n\u001b[1;32m-> 1017\u001b[1;33m                 \u001b[0mself\u001b[0m\u001b[1;33m.\u001b[0m\u001b[0mretrieve\u001b[0m\u001b[1;33m(\u001b[0m\u001b[1;33m)\u001b[0m\u001b[1;33m\u001b[0m\u001b[1;33m\u001b[0m\u001b[0m\n\u001b[0m\u001b[0;32m   1018\u001b[0m             \u001b[1;31m# Make sure that we get a last message telling us we are done\u001b[0m\u001b[1;33m\u001b[0m\u001b[1;33m\u001b[0m\u001b[1;33m\u001b[0m\u001b[0m\n\u001b[0;32m   1019\u001b[0m             \u001b[0melapsed_time\u001b[0m \u001b[1;33m=\u001b[0m \u001b[0mtime\u001b[0m\u001b[1;33m.\u001b[0m\u001b[0mtime\u001b[0m\u001b[1;33m(\u001b[0m\u001b[1;33m)\u001b[0m \u001b[1;33m-\u001b[0m \u001b[0mself\u001b[0m\u001b[1;33m.\u001b[0m\u001b[0m_start_time\u001b[0m\u001b[1;33m\u001b[0m\u001b[1;33m\u001b[0m\u001b[0m\n",
      "\u001b[1;32m~\\anaconda3\\lib\\site-packages\\joblib\\parallel.py\u001b[0m in \u001b[0;36mretrieve\u001b[1;34m(self)\u001b[0m\n\u001b[0;32m    907\u001b[0m             \u001b[1;32mtry\u001b[0m\u001b[1;33m:\u001b[0m\u001b[1;33m\u001b[0m\u001b[1;33m\u001b[0m\u001b[0m\n\u001b[0;32m    908\u001b[0m                 \u001b[1;32mif\u001b[0m \u001b[0mgetattr\u001b[0m\u001b[1;33m(\u001b[0m\u001b[0mself\u001b[0m\u001b[1;33m.\u001b[0m\u001b[0m_backend\u001b[0m\u001b[1;33m,\u001b[0m \u001b[1;34m'supports_timeout'\u001b[0m\u001b[1;33m,\u001b[0m \u001b[1;32mFalse\u001b[0m\u001b[1;33m)\u001b[0m\u001b[1;33m:\u001b[0m\u001b[1;33m\u001b[0m\u001b[1;33m\u001b[0m\u001b[0m\n\u001b[1;32m--> 909\u001b[1;33m                     \u001b[0mself\u001b[0m\u001b[1;33m.\u001b[0m\u001b[0m_output\u001b[0m\u001b[1;33m.\u001b[0m\u001b[0mextend\u001b[0m\u001b[1;33m(\u001b[0m\u001b[0mjob\u001b[0m\u001b[1;33m.\u001b[0m\u001b[0mget\u001b[0m\u001b[1;33m(\u001b[0m\u001b[0mtimeout\u001b[0m\u001b[1;33m=\u001b[0m\u001b[0mself\u001b[0m\u001b[1;33m.\u001b[0m\u001b[0mtimeout\u001b[0m\u001b[1;33m)\u001b[0m\u001b[1;33m)\u001b[0m\u001b[1;33m\u001b[0m\u001b[1;33m\u001b[0m\u001b[0m\n\u001b[0m\u001b[0;32m    910\u001b[0m                 \u001b[1;32melse\u001b[0m\u001b[1;33m:\u001b[0m\u001b[1;33m\u001b[0m\u001b[1;33m\u001b[0m\u001b[0m\n\u001b[0;32m    911\u001b[0m                     \u001b[0mself\u001b[0m\u001b[1;33m.\u001b[0m\u001b[0m_output\u001b[0m\u001b[1;33m.\u001b[0m\u001b[0mextend\u001b[0m\u001b[1;33m(\u001b[0m\u001b[0mjob\u001b[0m\u001b[1;33m.\u001b[0m\u001b[0mget\u001b[0m\u001b[1;33m(\u001b[0m\u001b[1;33m)\u001b[0m\u001b[1;33m)\u001b[0m\u001b[1;33m\u001b[0m\u001b[1;33m\u001b[0m\u001b[0m\n",
      "\u001b[1;32m~\\anaconda3\\lib\\site-packages\\joblib\\_parallel_backends.py\u001b[0m in \u001b[0;36mwrap_future_result\u001b[1;34m(future, timeout)\u001b[0m\n\u001b[0;32m    560\u001b[0m         AsyncResults.get from multiprocessing.\"\"\"\n\u001b[0;32m    561\u001b[0m         \u001b[1;32mtry\u001b[0m\u001b[1;33m:\u001b[0m\u001b[1;33m\u001b[0m\u001b[1;33m\u001b[0m\u001b[0m\n\u001b[1;32m--> 562\u001b[1;33m             \u001b[1;32mreturn\u001b[0m \u001b[0mfuture\u001b[0m\u001b[1;33m.\u001b[0m\u001b[0mresult\u001b[0m\u001b[1;33m(\u001b[0m\u001b[0mtimeout\u001b[0m\u001b[1;33m=\u001b[0m\u001b[0mtimeout\u001b[0m\u001b[1;33m)\u001b[0m\u001b[1;33m\u001b[0m\u001b[1;33m\u001b[0m\u001b[0m\n\u001b[0m\u001b[0;32m    563\u001b[0m         \u001b[1;32mexcept\u001b[0m \u001b[0mLokyTimeoutError\u001b[0m\u001b[1;33m:\u001b[0m\u001b[1;33m\u001b[0m\u001b[1;33m\u001b[0m\u001b[0m\n\u001b[0;32m    564\u001b[0m             \u001b[1;32mraise\u001b[0m \u001b[0mTimeoutError\u001b[0m\u001b[1;33m(\u001b[0m\u001b[1;33m)\u001b[0m\u001b[1;33m\u001b[0m\u001b[1;33m\u001b[0m\u001b[0m\n",
      "\u001b[1;32m~\\anaconda3\\lib\\concurrent\\futures\\_base.py\u001b[0m in \u001b[0;36mresult\u001b[1;34m(self, timeout)\u001b[0m\n\u001b[0;32m    428\u001b[0m                 \u001b[1;32mreturn\u001b[0m \u001b[0mself\u001b[0m\u001b[1;33m.\u001b[0m\u001b[0m__get_result\u001b[0m\u001b[1;33m(\u001b[0m\u001b[1;33m)\u001b[0m\u001b[1;33m\u001b[0m\u001b[1;33m\u001b[0m\u001b[0m\n\u001b[0;32m    429\u001b[0m \u001b[1;33m\u001b[0m\u001b[0m\n\u001b[1;32m--> 430\u001b[1;33m             \u001b[0mself\u001b[0m\u001b[1;33m.\u001b[0m\u001b[0m_condition\u001b[0m\u001b[1;33m.\u001b[0m\u001b[0mwait\u001b[0m\u001b[1;33m(\u001b[0m\u001b[0mtimeout\u001b[0m\u001b[1;33m)\u001b[0m\u001b[1;33m\u001b[0m\u001b[1;33m\u001b[0m\u001b[0m\n\u001b[0m\u001b[0;32m    431\u001b[0m \u001b[1;33m\u001b[0m\u001b[0m\n\u001b[0;32m    432\u001b[0m             \u001b[1;32mif\u001b[0m \u001b[0mself\u001b[0m\u001b[1;33m.\u001b[0m\u001b[0m_state\u001b[0m \u001b[1;32min\u001b[0m \u001b[1;33m[\u001b[0m\u001b[0mCANCELLED\u001b[0m\u001b[1;33m,\u001b[0m \u001b[0mCANCELLED_AND_NOTIFIED\u001b[0m\u001b[1;33m]\u001b[0m\u001b[1;33m:\u001b[0m\u001b[1;33m\u001b[0m\u001b[1;33m\u001b[0m\u001b[0m\n",
      "\u001b[1;32m~\\anaconda3\\lib\\threading.py\u001b[0m in \u001b[0;36mwait\u001b[1;34m(self, timeout)\u001b[0m\n\u001b[0;32m    294\u001b[0m         \u001b[1;32mtry\u001b[0m\u001b[1;33m:\u001b[0m    \u001b[1;31m# restore state no matter what (e.g., KeyboardInterrupt)\u001b[0m\u001b[1;33m\u001b[0m\u001b[1;33m\u001b[0m\u001b[0m\n\u001b[0;32m    295\u001b[0m             \u001b[1;32mif\u001b[0m \u001b[0mtimeout\u001b[0m \u001b[1;32mis\u001b[0m \u001b[1;32mNone\u001b[0m\u001b[1;33m:\u001b[0m\u001b[1;33m\u001b[0m\u001b[1;33m\u001b[0m\u001b[0m\n\u001b[1;32m--> 296\u001b[1;33m                 \u001b[0mwaiter\u001b[0m\u001b[1;33m.\u001b[0m\u001b[0macquire\u001b[0m\u001b[1;33m(\u001b[0m\u001b[1;33m)\u001b[0m\u001b[1;33m\u001b[0m\u001b[1;33m\u001b[0m\u001b[0m\n\u001b[0m\u001b[0;32m    297\u001b[0m                 \u001b[0mgotit\u001b[0m \u001b[1;33m=\u001b[0m \u001b[1;32mTrue\u001b[0m\u001b[1;33m\u001b[0m\u001b[1;33m\u001b[0m\u001b[0m\n\u001b[0;32m    298\u001b[0m             \u001b[1;32melse\u001b[0m\u001b[1;33m:\u001b[0m\u001b[1;33m\u001b[0m\u001b[1;33m\u001b[0m\u001b[0m\n",
      "\u001b[1;31mKeyboardInterrupt\u001b[0m: "
     ]
    }
   ],
   "source": [
    "ab_rs = RandomizedSearchCV(ab_pipe,\n",
    "                             ab_params,\n",
    "                             n_iter=10000,\n",
    "                             cv=5,\n",
    "                             n_jobs=-1,\n",
    "                             verbose=True,\n",
    "                             random_state = 42)\n",
    "\n",
    "ab_rs.fit(X_train,y_train)"
   ]
  },
  {
   "cell_type": "markdown",
   "metadata": {},
   "source": [
    "#### Evaluation"
   ]
  },
  {
   "cell_type": "code",
   "execution_count": null,
   "metadata": {},
   "outputs": [],
   "source": [
    "add_accuracy(ab_rs,'AdaBoost')\n",
    "model_accuracy"
   ]
  },
  {
   "cell_type": "code",
   "execution_count": null,
   "metadata": {},
   "outputs": [],
   "source": [
    "confusion_matrix(ab_rs.best_estimator_,'AdaBoost')"
   ]
  }
 ],
 "metadata": {
  "kernelspec": {
   "display_name": "Python 3",
   "language": "python",
   "name": "python3"
  },
  "language_info": {
   "codemirror_mode": {
    "name": "ipython",
    "version": 3
   },
   "file_extension": ".py",
   "mimetype": "text/x-python",
   "name": "python",
   "nbconvert_exporter": "python",
   "pygments_lexer": "ipython3",
   "version": "3.7.6"
  },
  "toc": {
   "base_numbering": 1,
   "nav_menu": {},
   "number_sections": true,
   "sideBar": true,
   "skip_h1_title": false,
   "title_cell": "Table of Contents",
   "title_sidebar": "Contents",
   "toc_cell": false,
   "toc_position": {},
   "toc_section_display": true,
   "toc_window_display": false
  }
 },
 "nbformat": 4,
 "nbformat_minor": 4
}
