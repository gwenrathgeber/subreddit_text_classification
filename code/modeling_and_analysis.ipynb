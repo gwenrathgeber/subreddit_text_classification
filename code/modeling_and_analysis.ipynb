{
 "cells": [
  {
   "cell_type": "markdown",
   "metadata": {},
   "source": [
    "# Modeling and Analysis"
   ]
  },
  {
   "cell_type": "markdown",
   "metadata": {},
   "source": [
    "We will use 10 total models for our classification problem:\n",
    "1. [Logistic Regression](#Logistic-Regression)\n",
    "- [Lasso Logistic Regression](#Lasso-Logistic-Regression)\n",
    "- [Ridge Logistic Regression](#Ridge-Logistic-Regression)\n",
    "- [Naive Bayes](#Naive-Bayes)\n",
    "- [Decision Tree](#Decision-Tree)\n",
    "- [Random Forest](#Random-Forest)\n",
    "- [Gradient Boost](#Gradient-Boost)\n",
    "- [AdaBoost](#AdaBoost)\n",
    "- [Support Vector Classifier](#Support-Vector-Classifier)\n",
    "\n",
    "\n",
    "and finally a [weighted ensemble model](#Voting-Ensemble) of all nine previous models.\n",
    "\n",
    "We have chosen to diversify the application of models and include a weighted-vote ensemble because almost without exception, we see considerable overfitting issues for each base model.\n",
    "\n",
    "Our first step will be hyperparameter selection and individual model evaluation. We will use a very limited subset of the data for hyperparameter selection due to the size of our data. Because of the large number of fits necessary during hyperparameter selection, we will only use 5% of the total data.\n",
    "\n",
    "To further mitigate the computational cost of hyperparameter selection, we will use a random hyperparameter search instead of a grid search, which is [shown in practice](https://towardsdatascience.com/random-search-vs-grid-search-for-hyperparameter-optimization-345e1422899d) to be quicker than equivalently precise gridsearches. For all models, we will test 75 hyperparameter combinations with 5-fold cross validation, or 375 total fits.\n",
    "\n",
    "While this is not optimal and we are likely to have some poor hyperparameters and bad fits as a result, it is a necessary limitation to impose due to time constraints and the high dimensionality of bag-of-words classification.\n",
    "\n",
    "For all models, we will use the TfidVectorizer to prepare our data, with hyperparameters standardized based on preliminary testing for simplicity. When indicated (particularly for the Support Vector and regularized Logistic Regression models), we will use non-centered scaling (to preserve the sparsity of our word matrices) as an additional step in the model pipeline.\n",
    "\n",
    "Selecting a wide range of models also allows us to visualize the most important features for non-black box models, important for communicating our findings.\n",
    "\n",
    "Our objective function is raw classification accuracy. This is because our goal is simply to demonstrate that there are meaningful differences between the content of discussions on each of our three subreddits."
   ]
  },
  {
   "cell_type": "code",
   "execution_count": 1,
   "metadata": {},
   "outputs": [],
   "source": [
    "# Imports\n",
    "import pandas as pd\n",
    "import numpy as np\n",
    "import matplotlib.pyplot as plt\n",
    "import seaborn as sns\n",
    "import re\n",
    "from sklearn.feature_extraction.text import TfidfVectorizer\n",
    "from sklearn.model_selection import train_test_split, cross_val_score, GridSearchCV, RandomizedSearchCV\n",
    "from sklearn.pipeline import Pipeline\n",
    "from sklearn.preprocessing import StandardScaler\n",
    "from sklearn.linear_model import LogisticRegression\n",
    "from sklearn.naive_bayes import MultinomialNB\n",
    "from sklearn.tree import DecisionTreeClassifier, plot_tree\n",
    "from sklearn.ensemble import GradientBoostingClassifier, AdaBoostClassifier, VotingClassifier, RandomForestClassifier\n",
    "from sklearn.svm import SVC\n",
    "from sklearn.metrics import plot_confusion_matrix, plot_roc_curve\n",
    "from scipy.stats import uniform, loguniform\n",
    "import json\n",
    "\n",
    "# Pandas Display Options\n",
    "pd.set_option('display.max_columns', 100)\n",
    "pd.set_option('display.max_rows', 100)"
   ]
  },
  {
   "cell_type": "code",
   "execution_count": 2,
   "metadata": {},
   "outputs": [],
   "source": [
    "# Data reading\n",
    "df = pd.read_csv('../data/preprocessed_subreddit_data.csv')\n",
    "df.dropna(inplace=True)\n",
    "\n",
    "with open('../data/stop_words.json', 'r') as fp:\n",
    "    stop_words = json.load(fp)\n",
    "stop_words = stop_words['words']\n",
    "\n",
    "# Full text field creation\n",
    "df['fulltext'] = df['title'] + ' ' + df['selftext']"
   ]
  },
  {
   "cell_type": "code",
   "execution_count": 3,
   "metadata": {},
   "outputs": [],
   "source": [
    "# Training sample creation\n",
    "sample = df.sample(frac=.05, random_state=42)\n",
    "\n",
    "X = sample['fulltext']\n",
    "y = sample['subreddit']\n",
    "\n",
    "X_train, X_test, y_train, y_test = train_test_split(\n",
    "    X, y, stratify=y, random_state=42)\n",
    "\n",
    "core_tfidf = TfidfVectorizer(max_df=.325,\n",
    "                             max_features=6500,\n",
    "                             min_df=5,\n",
    "                             ngram_range=(1, 2),\n",
    "                             stop_words=stop_words).fit(X_train)\n",
    "\n",
    "coef_names = core_tfidf.get_feature_names()"
   ]
  },
  {
   "cell_type": "code",
   "execution_count": 4,
   "metadata": {},
   "outputs": [],
   "source": [
    "# Table of Train and Test Accuracy\n",
    "model_accuracy = pd.DataFrame()"
   ]
  },
  {
   "cell_type": "markdown",
   "metadata": {},
   "source": [
    "### Helper Functions"
   ]
  },
  {
   "cell_type": "code",
   "execution_count": 5,
   "metadata": {},
   "outputs": [],
   "source": [
    "def add_accuracy(model, title):\n",
    "    model_accuracy.loc[title, 'Train Accuracy'] = model.best_estimator_.score(\n",
    "        X_train, y_train)\n",
    "    model_accuracy.loc[title, 'Test Accuracy'] = model.best_estimator_.score(\n",
    "        X_test, y_test)\n",
    "    model_accuracy.loc[title, 'Overfittedness'] = round(model.best_estimator_.score(\n",
    "        X_train, y_train) - model.best_estimator_.score(X_test, y_test), 4)\n",
    "    model_accuracy.loc[title, 'Best Params'] = str(model.best_params_)"
   ]
  },
  {
   "cell_type": "code",
   "execution_count": 6,
   "metadata": {},
   "outputs": [],
   "source": [
    "def confusion_matrix(model, title):\n",
    "    fig, ax = plt.subplots(figsize=(8, 8))\n",
    "    plot_confusion_matrix(model, X_test, y_test,\n",
    "                          values_format='d', cmap='PuOr', ax=ax)\n",
    "    plt.title(f'Confusion Matrix for {title}')"
   ]
  },
  {
   "cell_type": "markdown",
   "metadata": {},
   "source": [
    "### Baseline Model"
   ]
  },
  {
   "cell_type": "code",
   "execution_count": 7,
   "metadata": {},
   "outputs": [],
   "source": [
    "baseline_train_preds = ['asoiaf'] * len(X_train)\n",
    "baseline_test_preds = ['asoiaf'] * len(X_test)"
   ]
  },
  {
   "cell_type": "code",
   "execution_count": 8,
   "metadata": {},
   "outputs": [
    {
     "data": {
      "text/plain": [
       "asoiaf           0.443182\n",
       "freefolk         0.283519\n",
       "gameofthrones    0.273299\n",
       "Name: subreddit, dtype: float64"
      ]
     },
     "execution_count": 8,
     "metadata": {},
     "output_type": "execute_result"
    }
   ],
   "source": [
    "df['subreddit'].value_counts(normalize=True)"
   ]
  },
  {
   "cell_type": "markdown",
   "metadata": {},
   "source": [
    "Our baseline accuracy if we simply guessed the most common class (asoiaf) for every prediction is about 44%. "
   ]
  },
  {
   "cell_type": "markdown",
   "metadata": {},
   "source": [
    "### Logistic Regression"
   ]
  },
  {
   "cell_type": "markdown",
   "metadata": {},
   "source": [
    "#### Fitting"
   ]
  },
  {
   "cell_type": "code",
   "execution_count": 9,
   "metadata": {},
   "outputs": [
    {
     "data": {
      "text/plain": [
       "Pipeline(memory=None,\n",
       "         steps=[('tfid',\n",
       "                 TfidfVectorizer(analyzer='word', binary=False,\n",
       "                                 decode_error='strict',\n",
       "                                 dtype=<class 'numpy.float64'>,\n",
       "                                 encoding='utf-8', input='content',\n",
       "                                 lowercase=True, max_df=0.325,\n",
       "                                 max_features=6500, min_df=5,\n",
       "                                 ngram_range=(1, 2), norm='l2',\n",
       "                                 preprocessor=None, smooth_idf=True,\n",
       "                                 stop_words=['less', 'series', 'least', 'or',\n",
       "                                             'with', 'sixty', 'battle', 'di...\n",
       "                                 strip_accents=None, sublinear_tf=False,\n",
       "                                 token_pattern='(?u)\\\\b\\\\w\\\\w+\\\\b',\n",
       "                                 tokenizer=None, use_idf=True,\n",
       "                                 vocabulary=None)),\n",
       "                ('logit',\n",
       "                 LogisticRegression(C=1.0, class_weight=None, dual=False,\n",
       "                                    fit_intercept=True, intercept_scaling=1,\n",
       "                                    l1_ratio=None, max_iter=1000,\n",
       "                                    multi_class='auto', n_jobs=None,\n",
       "                                    penalty='none', random_state=None,\n",
       "                                    solver='lbfgs', tol=0.0001, verbose=0,\n",
       "                                    warm_start=False))],\n",
       "         verbose=False)"
      ]
     },
     "execution_count": 9,
     "metadata": {},
     "output_type": "execute_result"
    }
   ],
   "source": [
    "logit_pipe = Pipeline([('tfid', TfidfVectorizer(\n",
    "    max_df=.325,\n",
    "    max_features=6500,\n",
    "    min_df=5,\n",
    "    ngram_range=(1, 2),\n",
    "    stop_words=stop_words)),\n",
    "    ('logit', LogisticRegression(penalty='none',\n",
    "                                 solver='lbfgs',\n",
    "                                 max_iter=1000,\n",
    "                                 verbose=0\n",
    "                                 ))])\n",
    "\n",
    "logit_pipe.fit(X_train, y_train)"
   ]
  },
  {
   "cell_type": "markdown",
   "metadata": {},
   "source": [
    "#### Evaluation"
   ]
  },
  {
   "cell_type": "code",
   "execution_count": 10,
   "metadata": {},
   "outputs": [],
   "source": [
    "model_accuracy.loc['LogisticRegression',\n",
    "                   'Train Accuracy'] = logit_pipe.score(X_train, y_train)\n",
    "\n",
    "model_accuracy.loc['LogisticRegression',\n",
    "                   'Test Accuracy'] = logit_pipe.score(X_test, y_test)\n",
    "\n",
    "model_accuracy.loc['LogisticRegression', 'Overfittedness'] = round(\n",
    "    logit_pipe.score(X_train, y_train) - logit_pipe.score(X_test, y_test), 4)"
   ]
  },
  {
   "cell_type": "code",
   "execution_count": 11,
   "metadata": {},
   "outputs": [
    {
     "data": {
      "text/html": [
       "<div>\n",
       "<style scoped>\n",
       "    .dataframe tbody tr th:only-of-type {\n",
       "        vertical-align: middle;\n",
       "    }\n",
       "\n",
       "    .dataframe tbody tr th {\n",
       "        vertical-align: top;\n",
       "    }\n",
       "\n",
       "    .dataframe thead th {\n",
       "        text-align: right;\n",
       "    }\n",
       "</style>\n",
       "<table border=\"1\" class=\"dataframe\">\n",
       "  <thead>\n",
       "    <tr style=\"text-align: right;\">\n",
       "      <th></th>\n",
       "      <th>Train Accuracy</th>\n",
       "      <th>Test Accuracy</th>\n",
       "      <th>Overfittedness</th>\n",
       "    </tr>\n",
       "  </thead>\n",
       "  <tbody>\n",
       "    <tr>\n",
       "      <th>LogisticRegression</th>\n",
       "      <td>1.0</td>\n",
       "      <td>0.574011</td>\n",
       "      <td>0.426</td>\n",
       "    </tr>\n",
       "  </tbody>\n",
       "</table>\n",
       "</div>"
      ],
      "text/plain": [
       "                    Train Accuracy  Test Accuracy  Overfittedness\n",
       "LogisticRegression             1.0       0.574011           0.426"
      ]
     },
     "execution_count": 11,
     "metadata": {},
     "output_type": "execute_result"
    }
   ],
   "source": [
    "model_accuracy"
   ]
  },
  {
   "cell_type": "markdown",
   "metadata": {},
   "source": [
    "We see that unregularized Logistic Regression is highly overfit. Without meaningful model hyperparameters to tune, our only recourse here would be to reduce the number of features in our data. We will have to explore some more options.\n",
    "\n",
    "This result is expected. Without many meaningful hyperparameters available to tune or any regularization, this dataset is problematic for a basic logistic regression."
   ]
  },
  {
   "cell_type": "code",
   "execution_count": 12,
   "metadata": {},
   "outputs": [
    {
     "data": {
      "image/png": "[encoded data removed]",
      "text/plain": [
       "<Figure size 576x576 with 2 Axes>"
      ]
     },
     "metadata": {
      "needs_background": "light"
     },
     "output_type": "display_data"
    }
   ],
   "source": [
    "fig, ax = plt.subplots(figsize=(8, 8))\n",
    "plot_confusion_matrix(logit_pipe, X_test, y_test,\n",
    "                      values_format='d', cmap='PuOr', ax=ax)\n",
    "plt.title('Confusion Matrix for Logistic Regression')"
   ]
  },
  {
   "cell_type": "markdown",
   "metadata": {},
   "source": [
    "We see that our logistic regression is more likely to confuse r/freefolk and r/gameofthrones with each other than either with r/asoiaf. This is expected given our EDA, which showed a much larger space of words which are particularly common to r/asoiaf, but not to the other two subreddits."
   ]
  },
  {
   "cell_type": "markdown",
   "metadata": {},
   "source": [
    "### Lasso Logistic Regression"
   ]
  },
  {
   "cell_type": "markdown",
   "metadata": {},
   "source": [
    "#### Fitting"
   ]
  },
  {
   "cell_type": "code",
   "execution_count": 13,
   "metadata": {},
   "outputs": [],
   "source": [
    "lasso_pipe = Pipeline([('tfid', TfidfVectorizer(\n",
    "    max_df=.325,\n",
    "    max_features=6500,\n",
    "    min_df=5,\n",
    "    ngram_range=(1, 2),\n",
    "    stop_words=stop_words)),\n",
    "    ('ss', StandardScaler(with_mean=False)),\n",
    "    ('lasso', LogisticRegression(penalty='l1',\n",
    "                                 solver='liblinear'\n",
    "                                 ))])\n",
    "\n",
    "lasso_params = {\n",
    "    'lasso__C': loguniform(1.0000001, 20)\n",
    "}"
   ]
  },
  {
   "cell_type": "code",
   "execution_count": 14,
   "metadata": {},
   "outputs": [
    {
     "name": "stdout",
     "output_type": "stream",
     "text": [
      "Fitting 5 folds for each of 75 candidates, totalling 375 fits\n"
     ]
    },
    {
     "name": "stderr",
     "output_type": "stream",
     "text": [
      "[Parallel(n_jobs=-1)]: Using backend LokyBackend with 4 concurrent workers.\n",
      "[Parallel(n_jobs=-1)]: Done  42 tasks      | elapsed:   19.4s\n",
      "[Parallel(n_jobs=-1)]: Done 192 tasks      | elapsed:  1.3min\n",
      "[Parallel(n_jobs=-1)]: Done 375 out of 375 | elapsed:  2.4min finished\n"
     ]
    },
    {
     "data": {
      "text/plain": [
       "RandomizedSearchCV(cv=5, error_score=nan,\n",
       "                   estimator=Pipeline(memory=None,\n",
       "                                      steps=[('tfid',\n",
       "                                              TfidfVectorizer(analyzer='word',\n",
       "                                                              binary=False,\n",
       "                                                              decode_error='strict',\n",
       "                                                              dtype=<class 'numpy.float64'>,\n",
       "                                                              encoding='utf-8',\n",
       "                                                              input='content',\n",
       "                                                              lowercase=True,\n",
       "                                                              max_df=0.325,\n",
       "                                                              max_features=6500,\n",
       "                                                              min_df=5,\n",
       "                                                              ngram_range=(1,\n",
       "                                                                           2),\n",
       "                                                              norm='l2',\n",
       "                                                              preprocessor=None,\n",
       "                                                              smooth_idf=True,\n",
       "                                                              stop_words=['less'...\n",
       "                                                                 penalty='l1',\n",
       "                                                                 random_state=None,\n",
       "                                                                 solver='liblinear',\n",
       "                                                                 tol=0.0001,\n",
       "                                                                 verbose=0,\n",
       "                                                                 warm_start=False))],\n",
       "                                      verbose=False),\n",
       "                   iid='deprecated', n_iter=75, n_jobs=-1,\n",
       "                   param_distributions={'lasso__C': <scipy.stats._distn_infrastructure.rv_frozen object at 0x00000269850CBBC8>},\n",
       "                   pre_dispatch='2*n_jobs', random_state=42, refit=True,\n",
       "                   return_train_score=False, scoring=None, verbose=True)"
      ]
     },
     "execution_count": 14,
     "metadata": {},
     "output_type": "execute_result"
    }
   ],
   "source": [
    "lasso_rs = RandomizedSearchCV(lasso_pipe,\n",
    "                              lasso_params,\n",
    "                              n_iter=75,\n",
    "                              cv=5,\n",
    "                              n_jobs=-1,\n",
    "                              verbose=True,\n",
    "                              random_state=42)\n",
    "\n",
    "lasso_rs.fit(X_train, y_train)"
   ]
  },
  {
   "cell_type": "markdown",
   "metadata": {},
   "source": [
    "#### Evaluation"
   ]
  },
  {
   "cell_type": "code",
   "execution_count": 15,
   "metadata": {},
   "outputs": [
    {
     "data": {
      "text/html": [
       "<div>\n",
       "<style scoped>\n",
       "    .dataframe tbody tr th:only-of-type {\n",
       "        vertical-align: middle;\n",
       "    }\n",
       "\n",
       "    .dataframe tbody tr th {\n",
       "        vertical-align: top;\n",
       "    }\n",
       "\n",
       "    .dataframe thead th {\n",
       "        text-align: right;\n",
       "    }\n",
       "</style>\n",
       "<table border=\"1\" class=\"dataframe\">\n",
       "  <thead>\n",
       "    <tr style=\"text-align: right;\">\n",
       "      <th></th>\n",
       "      <th>Train Accuracy</th>\n",
       "      <th>Test Accuracy</th>\n",
       "      <th>Overfittedness</th>\n",
       "      <th>Best Params</th>\n",
       "    </tr>\n",
       "  </thead>\n",
       "  <tbody>\n",
       "    <tr>\n",
       "      <th>LogisticRegression</th>\n",
       "      <td>1.0</td>\n",
       "      <td>0.574011</td>\n",
       "      <td>0.4260</td>\n",
       "      <td>NaN</td>\n",
       "    </tr>\n",
       "    <tr>\n",
       "      <th>LassoLogisticRegression</th>\n",
       "      <td>1.0</td>\n",
       "      <td>0.549153</td>\n",
       "      <td>0.4508</td>\n",
       "      <td>{'lasso__C': 1.3035612413334605}</td>\n",
       "    </tr>\n",
       "  </tbody>\n",
       "</table>\n",
       "</div>"
      ],
      "text/plain": [
       "                         Train Accuracy  Test Accuracy  Overfittedness  \\\n",
       "LogisticRegression                  1.0       0.574011          0.4260   \n",
       "LassoLogisticRegression             1.0       0.549153          0.4508   \n",
       "\n",
       "                                              Best Params  \n",
       "LogisticRegression                                    NaN  \n",
       "LassoLogisticRegression  {'lasso__C': 1.3035612413334605}  "
      ]
     },
     "execution_count": 15,
     "metadata": {},
     "output_type": "execute_result"
    }
   ],
   "source": [
    "add_accuracy(lasso_rs, 'LassoLogisticRegression')\n",
    "model_accuracy"
   ]
  },
  {
   "cell_type": "code",
   "execution_count": 16,
   "metadata": {},
   "outputs": [
    {
     "data": {
      "image/png": "[encoded data removed]",
      "text/plain": [
       "<Figure size 576x576 with 2 Axes>"
      ]
     },
     "metadata": {
      "needs_background": "light"
     },
     "output_type": "display_data"
    }
   ],
   "source": [
    "confusion_matrix(lasso_rs.best_estimator_, 'Lasso Logistic Regression')"
   ]
  },
  {
   "cell_type": "markdown",
   "metadata": {},
   "source": [
    "Overall, our test accuracy suffered with regularization by about 3%, with no change in bias. Given that we were starting with an unregularized model with 0% bias (100% training accuracy), we are suprised by this in this context.\n",
    "\n",
    "In the confusion matrix, we can see that the class bias of our model did diminish with regularization. "
   ]
  },
  {
   "cell_type": "markdown",
   "metadata": {},
   "source": [
    "### Ridge Logistic Regression"
   ]
  },
  {
   "cell_type": "markdown",
   "metadata": {},
   "source": [
    "#### Fitting"
   ]
  },
  {
   "cell_type": "code",
   "execution_count": 17,
   "metadata": {},
   "outputs": [],
   "source": [
    "ridge_pipe = Pipeline([('tfid', TfidfVectorizer(\n",
    "    max_df=.325,\n",
    "    max_features=6500,\n",
    "    min_df=5,\n",
    "    ngram_range=(1, 2),\n",
    "    stop_words=stop_words)),\n",
    "    ('ss', StandardScaler(with_mean=False)),\n",
    "    ('ridge', LogisticRegression(penalty='l2',\n",
    "                                 solver='liblinear'\n",
    "                                 ))])\n",
    "\n",
    "ridge_params = {\n",
    "    'ridge__C': loguniform(1.0000001, 20)\n",
    "}"
   ]
  },
  {
   "cell_type": "code",
   "execution_count": 18,
   "metadata": {},
   "outputs": [
    {
     "name": "stdout",
     "output_type": "stream",
     "text": [
      "Fitting 5 folds for each of 75 candidates, totalling 375 fits\n"
     ]
    },
    {
     "name": "stderr",
     "output_type": "stream",
     "text": [
      "[Parallel(n_jobs=-1)]: Using backend LokyBackend with 4 concurrent workers.\n",
      "[Parallel(n_jobs=-1)]: Done  42 tasks      | elapsed:   21.2s\n",
      "[Parallel(n_jobs=-1)]: Done 192 tasks      | elapsed:  1.4min\n",
      "[Parallel(n_jobs=-1)]: Done 375 out of 375 | elapsed:  2.8min finished\n"
     ]
    },
    {
     "data": {
      "text/plain": [
       "RandomizedSearchCV(cv=5, error_score=nan,\n",
       "                   estimator=Pipeline(memory=None,\n",
       "                                      steps=[('tfid',\n",
       "                                              TfidfVectorizer(analyzer='word',\n",
       "                                                              binary=False,\n",
       "                                                              decode_error='strict',\n",
       "                                                              dtype=<class 'numpy.float64'>,\n",
       "                                                              encoding='utf-8',\n",
       "                                                              input='content',\n",
       "                                                              lowercase=True,\n",
       "                                                              max_df=0.325,\n",
       "                                                              max_features=6500,\n",
       "                                                              min_df=5,\n",
       "                                                              ngram_range=(1,\n",
       "                                                                           2),\n",
       "                                                              norm='l2',\n",
       "                                                              preprocessor=None,\n",
       "                                                              smooth_idf=True,\n",
       "                                                              stop_words=['less'...\n",
       "                                                                 penalty='l2',\n",
       "                                                                 random_state=None,\n",
       "                                                                 solver='liblinear',\n",
       "                                                                 tol=0.0001,\n",
       "                                                                 verbose=0,\n",
       "                                                                 warm_start=False))],\n",
       "                                      verbose=False),\n",
       "                   iid='deprecated', n_iter=75, n_jobs=-1,\n",
       "                   param_distributions={'ridge__C': <scipy.stats._distn_infrastructure.rv_frozen object at 0x00000269850CA488>},\n",
       "                   pre_dispatch='2*n_jobs', random_state=42, refit=True,\n",
       "                   return_train_score=False, scoring=None, verbose=True)"
      ]
     },
     "execution_count": 18,
     "metadata": {},
     "output_type": "execute_result"
    }
   ],
   "source": [
    "ridge_rs = RandomizedSearchCV(ridge_pipe,\n",
    "                              ridge_params,\n",
    "                              n_iter=75,\n",
    "                              cv=5,\n",
    "                              n_jobs=-1,\n",
    "                              verbose=True,\n",
    "                              random_state=42)\n",
    "\n",
    "ridge_rs.fit(X_train, y_train)"
   ]
  },
  {
   "cell_type": "markdown",
   "metadata": {},
   "source": [
    "#### Evaluation"
   ]
  },
  {
   "cell_type": "code",
   "execution_count": 19,
   "metadata": {},
   "outputs": [
    {
     "data": {
      "text/html": [
       "<div>\n",
       "<style scoped>\n",
       "    .dataframe tbody tr th:only-of-type {\n",
       "        vertical-align: middle;\n",
       "    }\n",
       "\n",
       "    .dataframe tbody tr th {\n",
       "        vertical-align: top;\n",
       "    }\n",
       "\n",
       "    .dataframe thead th {\n",
       "        text-align: right;\n",
       "    }\n",
       "</style>\n",
       "<table border=\"1\" class=\"dataframe\">\n",
       "  <thead>\n",
       "    <tr style=\"text-align: right;\">\n",
       "      <th></th>\n",
       "      <th>Train Accuracy</th>\n",
       "      <th>Test Accuracy</th>\n",
       "      <th>Overfittedness</th>\n",
       "      <th>Best Params</th>\n",
       "    </tr>\n",
       "  </thead>\n",
       "  <tbody>\n",
       "    <tr>\n",
       "      <th>LogisticRegression</th>\n",
       "      <td>1.0</td>\n",
       "      <td>0.574011</td>\n",
       "      <td>0.4260</td>\n",
       "      <td>NaN</td>\n",
       "    </tr>\n",
       "    <tr>\n",
       "      <th>LassoLogisticRegression</th>\n",
       "      <td>1.0</td>\n",
       "      <td>0.549153</td>\n",
       "      <td>0.4508</td>\n",
       "      <td>{'lasso__C': 1.3035612413334605}</td>\n",
       "    </tr>\n",
       "    <tr>\n",
       "      <th>RidgeLogisticRegression</th>\n",
       "      <td>1.0</td>\n",
       "      <td>0.522034</td>\n",
       "      <td>0.4780</td>\n",
       "      <td>{'ridge__C': 6.009974959585542}</td>\n",
       "    </tr>\n",
       "  </tbody>\n",
       "</table>\n",
       "</div>"
      ],
      "text/plain": [
       "                         Train Accuracy  Test Accuracy  Overfittedness  \\\n",
       "LogisticRegression                  1.0       0.574011          0.4260   \n",
       "LassoLogisticRegression             1.0       0.549153          0.4508   \n",
       "RidgeLogisticRegression             1.0       0.522034          0.4780   \n",
       "\n",
       "                                              Best Params  \n",
       "LogisticRegression                                    NaN  \n",
       "LassoLogisticRegression  {'lasso__C': 1.3035612413334605}  \n",
       "RidgeLogisticRegression   {'ridge__C': 6.009974959585542}  "
      ]
     },
     "execution_count": 19,
     "metadata": {},
     "output_type": "execute_result"
    }
   ],
   "source": [
    "add_accuracy(ridge_rs, 'RidgeLogisticRegression')\n",
    "model_accuracy"
   ]
  },
  {
   "cell_type": "code",
   "execution_count": 20,
   "metadata": {},
   "outputs": [
    {
     "data": {
      "image/png": "[encoded data removed]",
      "text/plain": [
       "<Figure size 576x576 with 2 Axes>"
      ]
     },
     "metadata": {
      "needs_background": "light"
     },
     "output_type": "display_data"
    }
   ],
   "source": [
    "confusion_matrix(ridge_rs.best_estimator_, 'Ridge Logistic Regression')"
   ]
  },
  {
   "cell_type": "markdown",
   "metadata": {},
   "source": [
    "Our Ridge Logistic Regressor showed even worse performance on test data than even our Lasso Logistic Regression. RLR overpredicted incidences of r/freefolk. It's possible that our random sampling process was simply unable to find a particularly good regularization coefficient. \n",
    "\n",
    "Insufficient time for vectorizer hyperparameter tuning given the scale of our data seems to be the core issue either way."
   ]
  },
  {
   "cell_type": "markdown",
   "metadata": {},
   "source": [
    "### Naive Bayes"
   ]
  },
  {
   "cell_type": "markdown",
   "metadata": {},
   "source": [
    "#### Fitting"
   ]
  },
  {
   "cell_type": "code",
   "execution_count": 21,
   "metadata": {},
   "outputs": [],
   "source": [
    "nb_pipe = Pipeline([('tfid', TfidfVectorizer(\n",
    "    max_df=.325,\n",
    "    max_features=6500,\n",
    "    min_df=5,\n",
    "    ngram_range=(1, 2),\n",
    "    stop_words=stop_words)),\n",
    "    ('nb', MultinomialNB())])\n",
    "\n",
    "nb_params = {\n",
    "    'nb__alpha': loguniform(1.0000001, 20)\n",
    "}"
   ]
  },
  {
   "cell_type": "code",
   "execution_count": 22,
   "metadata": {},
   "outputs": [
    {
     "name": "stdout",
     "output_type": "stream",
     "text": [
      "Fitting 5 folds for each of 75 candidates, totalling 375 fits\n"
     ]
    },
    {
     "name": "stderr",
     "output_type": "stream",
     "text": [
      "[Parallel(n_jobs=-1)]: Using backend LokyBackend with 4 concurrent workers.\n",
      "[Parallel(n_jobs=-1)]: Done  42 tasks      | elapsed:   18.2s\n",
      "[Parallel(n_jobs=-1)]: Done 192 tasks      | elapsed:  1.3min\n",
      "[Parallel(n_jobs=-1)]: Done 375 out of 375 | elapsed:  2.6min finished\n"
     ]
    },
    {
     "data": {
      "text/plain": [
       "RandomizedSearchCV(cv=5, error_score=nan,\n",
       "                   estimator=Pipeline(memory=None,\n",
       "                                      steps=[('tfid',\n",
       "                                              TfidfVectorizer(analyzer='word',\n",
       "                                                              binary=False,\n",
       "                                                              decode_error='strict',\n",
       "                                                              dtype=<class 'numpy.float64'>,\n",
       "                                                              encoding='utf-8',\n",
       "                                                              input='content',\n",
       "                                                              lowercase=True,\n",
       "                                                              max_df=0.325,\n",
       "                                                              max_features=6500,\n",
       "                                                              min_df=5,\n",
       "                                                              ngram_range=(1,\n",
       "                                                                           2),\n",
       "                                                              norm='l2',\n",
       "                                                              preprocessor=None,\n",
       "                                                              smooth_idf=True,\n",
       "                                                              stop_words=['less'...\n",
       "                                                              use_idf=True,\n",
       "                                                              vocabulary=None)),\n",
       "                                             ('nb',\n",
       "                                              MultinomialNB(alpha=1.0,\n",
       "                                                            class_prior=None,\n",
       "                                                            fit_prior=True))],\n",
       "                                      verbose=False),\n",
       "                   iid='deprecated', n_iter=75, n_jobs=-1,\n",
       "                   param_distributions={'nb__alpha': <scipy.stats._distn_infrastructure.rv_frozen object at 0x000002698AFB0E48>},\n",
       "                   pre_dispatch='2*n_jobs', random_state=42, refit=True,\n",
       "                   return_train_score=False, scoring=None, verbose=True)"
      ]
     },
     "execution_count": 22,
     "metadata": {},
     "output_type": "execute_result"
    }
   ],
   "source": [
    "nb_rs = RandomizedSearchCV(nb_pipe,\n",
    "                           nb_params,\n",
    "                           n_iter=75,\n",
    "                           cv=5,\n",
    "                           n_jobs=-1,\n",
    "                           verbose=True,\n",
    "                           random_state=42)\n",
    "\n",
    "nb_rs.fit(X_train, y_train)"
   ]
  },
  {
   "cell_type": "markdown",
   "metadata": {},
   "source": [
    "#### Evaluation"
   ]
  },
  {
   "cell_type": "code",
   "execution_count": 23,
   "metadata": {},
   "outputs": [
    {
     "data": {
      "text/html": [
       "<div>\n",
       "<style scoped>\n",
       "    .dataframe tbody tr th:only-of-type {\n",
       "        vertical-align: middle;\n",
       "    }\n",
       "\n",
       "    .dataframe tbody tr th {\n",
       "        vertical-align: top;\n",
       "    }\n",
       "\n",
       "    .dataframe thead th {\n",
       "        text-align: right;\n",
       "    }\n",
       "</style>\n",
       "<table border=\"1\" class=\"dataframe\">\n",
       "  <thead>\n",
       "    <tr style=\"text-align: right;\">\n",
       "      <th></th>\n",
       "      <th>Train Accuracy</th>\n",
       "      <th>Test Accuracy</th>\n",
       "      <th>Overfittedness</th>\n",
       "      <th>Best Params</th>\n",
       "    </tr>\n",
       "  </thead>\n",
       "  <tbody>\n",
       "    <tr>\n",
       "      <th>LogisticRegression</th>\n",
       "      <td>1.000000</td>\n",
       "      <td>0.574011</td>\n",
       "      <td>0.4260</td>\n",
       "      <td>NaN</td>\n",
       "    </tr>\n",
       "    <tr>\n",
       "      <th>LassoLogisticRegression</th>\n",
       "      <td>1.000000</td>\n",
       "      <td>0.549153</td>\n",
       "      <td>0.4508</td>\n",
       "      <td>{'lasso__C': 1.3035612413334605}</td>\n",
       "    </tr>\n",
       "    <tr>\n",
       "      <th>RidgeLogisticRegression</th>\n",
       "      <td>1.000000</td>\n",
       "      <td>0.522034</td>\n",
       "      <td>0.4780</td>\n",
       "      <td>{'ridge__C': 6.009974959585542}</td>\n",
       "    </tr>\n",
       "    <tr>\n",
       "      <th>MultinomialNaiveBayes</th>\n",
       "      <td>0.753394</td>\n",
       "      <td>0.576271</td>\n",
       "      <td>0.1771</td>\n",
       "      <td>{'nb__alpha': 1.0166804751089014}</td>\n",
       "    </tr>\n",
       "  </tbody>\n",
       "</table>\n",
       "</div>"
      ],
      "text/plain": [
       "                         Train Accuracy  Test Accuracy  Overfittedness  \\\n",
       "LogisticRegression             1.000000       0.574011          0.4260   \n",
       "LassoLogisticRegression        1.000000       0.549153          0.4508   \n",
       "RidgeLogisticRegression        1.000000       0.522034          0.4780   \n",
       "MultinomialNaiveBayes          0.753394       0.576271          0.1771   \n",
       "\n",
       "                                               Best Params  \n",
       "LogisticRegression                                     NaN  \n",
       "LassoLogisticRegression   {'lasso__C': 1.3035612413334605}  \n",
       "RidgeLogisticRegression    {'ridge__C': 6.009974959585542}  \n",
       "MultinomialNaiveBayes    {'nb__alpha': 1.0166804751089014}  "
      ]
     },
     "execution_count": 23,
     "metadata": {},
     "output_type": "execute_result"
    }
   ],
   "source": [
    "add_accuracy(nb_rs, 'MultinomialNaiveBayes')\n",
    "model_accuracy"
   ]
  },
  {
   "cell_type": "code",
   "execution_count": 24,
   "metadata": {},
   "outputs": [
    {
     "data": {
      "image/png": "[encoded data removed]",
      "text/plain": [
       "<Figure size 576x576 with 2 Axes>"
      ]
     },
     "metadata": {
      "needs_background": "light"
     },
     "output_type": "display_data"
    }
   ],
   "source": [
    "confusion_matrix(nb_rs.best_estimator_, 'Multinomial Naive Bayes')"
   ]
  },
  {
   "cell_type": "markdown",
   "metadata": {},
   "source": [
    "The Naive Bayes model is much less overfit than the logistic regressions, but does have much higher class bias. In particular, it is overpredicting r/asoiaf dramatically. Overall, we had a steep increase in bias for a marginal decrease in variance compared to the logistic regressions, but given how overfit our logistic regressions were, this isn't troubling."
   ]
  },
  {
   "cell_type": "markdown",
   "metadata": {},
   "source": [
    "### Decision Tree"
   ]
  },
  {
   "cell_type": "code",
   "execution_count": 25,
   "metadata": {},
   "outputs": [],
   "source": [
    "dt_pipe = Pipeline([('tfid', TfidfVectorizer(\n",
    "    max_df=.325,\n",
    "    max_features=6500,\n",
    "    min_df=5,\n",
    "    ngram_range=(1, 2),\n",
    "    stop_words=stop_words)),\n",
    "    ('dt', DecisionTreeClassifier())])\n",
    "\n",
    "dt_params = {\n",
    "    'dt__max_depth': uniform(1, 100),\n",
    "    'dt__min_samples_split': uniform(0, 1),\n",
    "    'dt__min_samples_leaf': uniform(0, 1)\n",
    "}"
   ]
  },
  {
   "cell_type": "code",
   "execution_count": 26,
   "metadata": {},
   "outputs": [
    {
     "name": "stderr",
     "output_type": "stream",
     "text": [
      "[Parallel(n_jobs=-1)]: Using backend LokyBackend with 4 concurrent workers.\n"
     ]
    },
    {
     "name": "stdout",
     "output_type": "stream",
     "text": [
      "Fitting 5 folds for each of 75 candidates, totalling 375 fits\n"
     ]
    },
    {
     "name": "stderr",
     "output_type": "stream",
     "text": [
      "[Parallel(n_jobs=-1)]: Done  42 tasks      | elapsed:   19.3s\n",
      "[Parallel(n_jobs=-1)]: Done 192 tasks      | elapsed:  1.5min\n",
      "[Parallel(n_jobs=-1)]: Done 375 out of 375 | elapsed:  2.8min finished\n"
     ]
    },
    {
     "data": {
      "text/plain": [
       "RandomizedSearchCV(cv=5, error_score=nan,\n",
       "                   estimator=Pipeline(memory=None,\n",
       "                                      steps=[('tfid',\n",
       "                                              TfidfVectorizer(analyzer='word',\n",
       "                                                              binary=False,\n",
       "                                                              decode_error='strict',\n",
       "                                                              dtype=<class 'numpy.float64'>,\n",
       "                                                              encoding='utf-8',\n",
       "                                                              input='content',\n",
       "                                                              lowercase=True,\n",
       "                                                              max_df=0.325,\n",
       "                                                              max_features=6500,\n",
       "                                                              min_df=5,\n",
       "                                                              ngram_range=(1,\n",
       "                                                                           2),\n",
       "                                                              norm='l2',\n",
       "                                                              preprocessor=None,\n",
       "                                                              smooth_idf=True,\n",
       "                                                              stop_words=['less'...\n",
       "                   param_distributions={'dt__max_depth': <scipy.stats._distn_infrastructure.rv_frozen object at 0x000002698C713CC8>,\n",
       "                                        'dt__min_samples_leaf': <scipy.stats._distn_infrastructure.rv_frozen object at 0x000002698C713548>,\n",
       "                                        'dt__min_samples_split': <scipy.stats._distn_infrastructure.rv_frozen object at 0x000002698C713D48>},\n",
       "                   pre_dispatch='2*n_jobs', random_state=42, refit=True,\n",
       "                   return_train_score=False, scoring=None, verbose=True)"
      ]
     },
     "execution_count": 26,
     "metadata": {},
     "output_type": "execute_result"
    }
   ],
   "source": [
    "dt_rs = RandomizedSearchCV(dt_pipe,\n",
    "                           dt_params,\n",
    "                           n_iter=75,\n",
    "                           cv=5,\n",
    "                           n_jobs=-1,\n",
    "                           verbose=True,\n",
    "                           random_state=42)\n",
    "\n",
    "dt_rs.fit(X_train, y_train)"
   ]
  },
  {
   "cell_type": "markdown",
   "metadata": {},
   "source": [
    "#### Evaluation"
   ]
  },
  {
   "cell_type": "code",
   "execution_count": 27,
   "metadata": {},
   "outputs": [
    {
     "data": {
      "text/html": [
       "<div>\n",
       "<style scoped>\n",
       "    .dataframe tbody tr th:only-of-type {\n",
       "        vertical-align: middle;\n",
       "    }\n",
       "\n",
       "    .dataframe tbody tr th {\n",
       "        vertical-align: top;\n",
       "    }\n",
       "\n",
       "    .dataframe thead th {\n",
       "        text-align: right;\n",
       "    }\n",
       "</style>\n",
       "<table border=\"1\" class=\"dataframe\">\n",
       "  <thead>\n",
       "    <tr style=\"text-align: right;\">\n",
       "      <th></th>\n",
       "      <th>Train Accuracy</th>\n",
       "      <th>Test Accuracy</th>\n",
       "      <th>Overfittedness</th>\n",
       "      <th>Best Params</th>\n",
       "    </tr>\n",
       "  </thead>\n",
       "  <tbody>\n",
       "    <tr>\n",
       "      <th>LogisticRegression</th>\n",
       "      <td>1.000000</td>\n",
       "      <td>0.574011</td>\n",
       "      <td>0.4260</td>\n",
       "      <td>NaN</td>\n",
       "    </tr>\n",
       "    <tr>\n",
       "      <th>LassoLogisticRegression</th>\n",
       "      <td>1.000000</td>\n",
       "      <td>0.549153</td>\n",
       "      <td>0.4508</td>\n",
       "      <td>{'lasso__C': 1.3035612413334605}</td>\n",
       "    </tr>\n",
       "    <tr>\n",
       "      <th>RidgeLogisticRegression</th>\n",
       "      <td>1.000000</td>\n",
       "      <td>0.522034</td>\n",
       "      <td>0.4780</td>\n",
       "      <td>{'ridge__C': 6.009974959585542}</td>\n",
       "    </tr>\n",
       "    <tr>\n",
       "      <th>MultinomialNaiveBayes</th>\n",
       "      <td>0.753394</td>\n",
       "      <td>0.576271</td>\n",
       "      <td>0.1771</td>\n",
       "      <td>{'nb__alpha': 1.0166804751089014}</td>\n",
       "    </tr>\n",
       "    <tr>\n",
       "      <th>DecisionTree</th>\n",
       "      <td>0.663650</td>\n",
       "      <td>0.540113</td>\n",
       "      <td>0.1235</td>\n",
       "      <td>{'dt__max_depth': 67.35017691080559, 'dt__min_...</td>\n",
       "    </tr>\n",
       "  </tbody>\n",
       "</table>\n",
       "</div>"
      ],
      "text/plain": [
       "                         Train Accuracy  Test Accuracy  Overfittedness  \\\n",
       "LogisticRegression             1.000000       0.574011          0.4260   \n",
       "LassoLogisticRegression        1.000000       0.549153          0.4508   \n",
       "RidgeLogisticRegression        1.000000       0.522034          0.4780   \n",
       "MultinomialNaiveBayes          0.753394       0.576271          0.1771   \n",
       "DecisionTree                   0.663650       0.540113          0.1235   \n",
       "\n",
       "                                                               Best Params  \n",
       "LogisticRegression                                                     NaN  \n",
       "LassoLogisticRegression                   {'lasso__C': 1.3035612413334605}  \n",
       "RidgeLogisticRegression                    {'ridge__C': 6.009974959585542}  \n",
       "MultinomialNaiveBayes                    {'nb__alpha': 1.0166804751089014}  \n",
       "DecisionTree             {'dt__max_depth': 67.35017691080559, 'dt__min_...  "
      ]
     },
     "execution_count": 27,
     "metadata": {},
     "output_type": "execute_result"
    }
   ],
   "source": [
    "add_accuracy(dt_rs, 'DecisionTree')\n",
    "model_accuracy"
   ]
  },
  {
   "cell_type": "code",
   "execution_count": 28,
   "metadata": {},
   "outputs": [
    {
     "data": {
      "image/png": "[encoded data removed]",
      "text/plain": [
       "<Figure size 576x576 with 2 Axes>"
      ]
     },
     "metadata": {
      "needs_background": "light"
     },
     "output_type": "display_data"
    }
   ],
   "source": [
    "confusion_matrix(dt_rs.best_estimator_, 'Decision Tree')"
   ]
  },
  {
   "cell_type": "markdown",
   "metadata": {},
   "source": [
    "Our Decision Tree model had a middling performance, but showed less overfitting than the previous four models at a reasonable bias tradeoff. All in all, we're satisfied with this performance. That being said, it's worth continuing to an additional layer of complexity in our tree models to see if we can push accuracy higher without increasing variance too dramatically."
   ]
  },
  {
   "cell_type": "markdown",
   "metadata": {},
   "source": [
    "### Random Forest"
   ]
  },
  {
   "cell_type": "markdown",
   "metadata": {},
   "source": [
    "#### Fitting"
   ]
  },
  {
   "cell_type": "code",
   "execution_count": 29,
   "metadata": {},
   "outputs": [],
   "source": [
    "rf_pipe = Pipeline([('tfid', TfidfVectorizer(\n",
    "    max_df=.325,\n",
    "    max_features=6500,\n",
    "    min_df=5,\n",
    "    ngram_range=(1, 2),\n",
    "    stop_words=stop_words)),\n",
    "    ('rf', RandomForestClassifier())])\n",
    "\n",
    "rf_params = {\n",
    "    'rf__max_depth': uniform(1, 100),\n",
    "    'rf__max_features': ['auto', 'sqrt'],\n",
    "    'rf__min_samples_split': uniform(0, 1),\n",
    "    'rf__min_samples_leaf': uniform(0, 1),\n",
    "    'rf__n_estimators': [10, 50, 100, 500]\n",
    "}"
   ]
  },
  {
   "cell_type": "code",
   "execution_count": 30,
   "metadata": {},
   "outputs": [
    {
     "name": "stdout",
     "output_type": "stream",
     "text": [
      "Fitting 5 folds for each of 75 candidates, totalling 375 fits\n"
     ]
    },
    {
     "name": "stderr",
     "output_type": "stream",
     "text": [
      "[Parallel(n_jobs=-1)]: Using backend LokyBackend with 4 concurrent workers.\n",
      "[Parallel(n_jobs=-1)]: Done  42 tasks      | elapsed:   19.1s\n",
      "[Parallel(n_jobs=-1)]: Done 192 tasks      | elapsed:  1.6min\n",
      "[Parallel(n_jobs=-1)]: Done 375 out of 375 | elapsed:  3.0min finished\n"
     ]
    },
    {
     "data": {
      "text/plain": [
       "RandomizedSearchCV(cv=5, error_score=nan,\n",
       "                   estimator=Pipeline(memory=None,\n",
       "                                      steps=[('tfid',\n",
       "                                              TfidfVectorizer(analyzer='word',\n",
       "                                                              binary=False,\n",
       "                                                              decode_error='strict',\n",
       "                                                              dtype=<class 'numpy.float64'>,\n",
       "                                                              encoding='utf-8',\n",
       "                                                              input='content',\n",
       "                                                              lowercase=True,\n",
       "                                                              max_df=0.325,\n",
       "                                                              max_features=6500,\n",
       "                                                              min_df=5,\n",
       "                                                              ngram_range=(1,\n",
       "                                                                           2),\n",
       "                                                              norm='l2',\n",
       "                                                              preprocessor=None,\n",
       "                                                              smooth_idf=True,\n",
       "                                                              stop_words=['less'...\n",
       "                                        'rf__max_features': ['auto', 'sqrt'],\n",
       "                                        'rf__min_samples_leaf': <scipy.stats._distn_infrastructure.rv_frozen object at 0x000002698C805508>,\n",
       "                                        'rf__min_samples_split': <scipy.stats._distn_infrastructure.rv_frozen object at 0x000002698C830948>,\n",
       "                                        'rf__n_estimators': [10, 50, 100, 500]},\n",
       "                   pre_dispatch='2*n_jobs', random_state=42, refit=True,\n",
       "                   return_train_score=False, scoring=None, verbose=True)"
      ]
     },
     "execution_count": 30,
     "metadata": {},
     "output_type": "execute_result"
    }
   ],
   "source": [
    "rf_rs = RandomizedSearchCV(rf_pipe,\n",
    "                           rf_params,\n",
    "                           n_iter=75,\n",
    "                           cv=5,\n",
    "                           n_jobs=-1,\n",
    "                           verbose=True,\n",
    "                           random_state=42)\n",
    "\n",
    "rf_rs.fit(X_train, y_train)"
   ]
  },
  {
   "cell_type": "markdown",
   "metadata": {},
   "source": [
    "#### Evaluation"
   ]
  },
  {
   "cell_type": "code",
   "execution_count": 31,
   "metadata": {},
   "outputs": [
    {
     "data": {
      "text/html": [
       "<div>\n",
       "<style scoped>\n",
       "    .dataframe tbody tr th:only-of-type {\n",
       "        vertical-align: middle;\n",
       "    }\n",
       "\n",
       "    .dataframe tbody tr th {\n",
       "        vertical-align: top;\n",
       "    }\n",
       "\n",
       "    .dataframe thead th {\n",
       "        text-align: right;\n",
       "    }\n",
       "</style>\n",
       "<table border=\"1\" class=\"dataframe\">\n",
       "  <thead>\n",
       "    <tr style=\"text-align: right;\">\n",
       "      <th></th>\n",
       "      <th>Train Accuracy</th>\n",
       "      <th>Test Accuracy</th>\n",
       "      <th>Overfittedness</th>\n",
       "      <th>Best Params</th>\n",
       "    </tr>\n",
       "  </thead>\n",
       "  <tbody>\n",
       "    <tr>\n",
       "      <th>LogisticRegression</th>\n",
       "      <td>1.000000</td>\n",
       "      <td>0.574011</td>\n",
       "      <td>0.4260</td>\n",
       "      <td>NaN</td>\n",
       "    </tr>\n",
       "    <tr>\n",
       "      <th>LassoLogisticRegression</th>\n",
       "      <td>1.000000</td>\n",
       "      <td>0.549153</td>\n",
       "      <td>0.4508</td>\n",
       "      <td>{'lasso__C': 1.3035612413334605}</td>\n",
       "    </tr>\n",
       "    <tr>\n",
       "      <th>RidgeLogisticRegression</th>\n",
       "      <td>1.000000</td>\n",
       "      <td>0.522034</td>\n",
       "      <td>0.4780</td>\n",
       "      <td>{'ridge__C': 6.009974959585542}</td>\n",
       "    </tr>\n",
       "    <tr>\n",
       "      <th>MultinomialNaiveBayes</th>\n",
       "      <td>0.753394</td>\n",
       "      <td>0.576271</td>\n",
       "      <td>0.1771</td>\n",
       "      <td>{'nb__alpha': 1.0166804751089014}</td>\n",
       "    </tr>\n",
       "    <tr>\n",
       "      <th>DecisionTree</th>\n",
       "      <td>0.663650</td>\n",
       "      <td>0.540113</td>\n",
       "      <td>0.1235</td>\n",
       "      <td>{'dt__max_depth': 67.35017691080559, 'dt__min_...</td>\n",
       "    </tr>\n",
       "    <tr>\n",
       "      <th>RandomForest</th>\n",
       "      <td>0.618401</td>\n",
       "      <td>0.554802</td>\n",
       "      <td>0.0636</td>\n",
       "      <td>{'rf__max_depth': 23.793516254194166, 'rf__max...</td>\n",
       "    </tr>\n",
       "  </tbody>\n",
       "</table>\n",
       "</div>"
      ],
      "text/plain": [
       "                         Train Accuracy  Test Accuracy  Overfittedness  \\\n",
       "LogisticRegression             1.000000       0.574011          0.4260   \n",
       "LassoLogisticRegression        1.000000       0.549153          0.4508   \n",
       "RidgeLogisticRegression        1.000000       0.522034          0.4780   \n",
       "MultinomialNaiveBayes          0.753394       0.576271          0.1771   \n",
       "DecisionTree                   0.663650       0.540113          0.1235   \n",
       "RandomForest                   0.618401       0.554802          0.0636   \n",
       "\n",
       "                                                               Best Params  \n",
       "LogisticRegression                                                     NaN  \n",
       "LassoLogisticRegression                   {'lasso__C': 1.3035612413334605}  \n",
       "RidgeLogisticRegression                    {'ridge__C': 6.009974959585542}  \n",
       "MultinomialNaiveBayes                    {'nb__alpha': 1.0166804751089014}  \n",
       "DecisionTree             {'dt__max_depth': 67.35017691080559, 'dt__min_...  \n",
       "RandomForest             {'rf__max_depth': 23.793516254194166, 'rf__max...  "
      ]
     },
     "execution_count": 31,
     "metadata": {},
     "output_type": "execute_result"
    }
   ],
   "source": [
    "add_accuracy(rf_rs, 'RandomForest')\n",
    "model_accuracy"
   ]
  },
  {
   "cell_type": "code",
   "execution_count": 32,
   "metadata": {},
   "outputs": [
    {
     "data": {
      "image/png": "[encoded data removed]",
      "text/plain": [
       "<Figure size 576x576 with 2 Axes>"
      ]
     },
     "metadata": {
      "needs_background": "light"
     },
     "output_type": "display_data"
    }
   ],
   "source": [
    "confusion_matrix(rf_rs.best_estimator_, 'RandomForest')"
   ]
  },
  {
   "cell_type": "markdown",
   "metadata": {},
   "source": [
    "The Random Forest model had our lowest overfitting so far, but a bit worse bias—about 7% lower accuracy on training data. Interestingly, it over-predicted r/asoiaf dramatically. \n",
    "\n",
    "Given the increased complexity of the model compared to the Decision Tree, it seems that we required a deeper hyperparameter search to achieve good results. This is becoming a bit of a theme."
   ]
  },
  {
   "cell_type": "markdown",
   "metadata": {},
   "source": [
    "### Gradient Boost"
   ]
  },
  {
   "cell_type": "markdown",
   "metadata": {},
   "source": [
    "#### Fitting"
   ]
  },
  {
   "cell_type": "markdown",
   "metadata": {},
   "source": [
    "For Gradient Boost, due to its very large space of hyperparameters to search, we will make an exception to the standard of 75 iterations * 5-fold cross validation and increase the number of iterations to 150."
   ]
  },
  {
   "cell_type": "code",
   "execution_count": 33,
   "metadata": {},
   "outputs": [],
   "source": [
    "gb_pipe = Pipeline([('tfid', TfidfVectorizer(\n",
    "    max_df=.325,\n",
    "    max_features=6500,\n",
    "    min_df=5,\n",
    "    ngram_range=(1, 2),\n",
    "    stop_words=stop_words)),\n",
    "    ('gb', GradientBoostingClassifier())])\n",
    "\n",
    "gb_params = {\n",
    "    'gb__learning_rate': uniform(.0001, 50),\n",
    "    'gb__n_estimators': [10, 50, 100, 500],\n",
    "    'gb__subsample': uniform(.1, 1),\n",
    "    'gb__min_samples_split': uniform(0, .5),\n",
    "    'gb__min_samples_leaf': uniform(0, .5),\n",
    "    'gb__max_depth': uniform(2, 100),\n",
    "    'gb__max_features': ['auto', 'sqrt', 'log2', uniform(0, 1)]\n",
    "}"
   ]
  },
  {
   "cell_type": "code",
   "execution_count": 34,
   "metadata": {},
   "outputs": [
    {
     "name": "stdout",
     "output_type": "stream",
     "text": [
      "Fitting 5 folds for each of 150 candidates, totalling 750 fits\n"
     ]
    },
    {
     "name": "stderr",
     "output_type": "stream",
     "text": [
      "[Parallel(n_jobs=-1)]: Using backend LokyBackend with 4 concurrent workers.\n",
      "[Parallel(n_jobs=-1)]: Done  42 tasks      | elapsed:   31.8s\n",
      "[Parallel(n_jobs=-1)]: Done 192 tasks      | elapsed:  3.0min\n",
      "[Parallel(n_jobs=-1)]: Done 442 tasks      | elapsed:  6.1min\n",
      "[Parallel(n_jobs=-1)]: Done 750 out of 750 | elapsed: 10.3min finished\n"
     ]
    },
    {
     "data": {
      "text/plain": [
       "RandomizedSearchCV(cv=5, error_score=nan,\n",
       "                   estimator=Pipeline(memory=None,\n",
       "                                      steps=[('tfid',\n",
       "                                              TfidfVectorizer(analyzer='word',\n",
       "                                                              binary=False,\n",
       "                                                              decode_error='strict',\n",
       "                                                              dtype=<class 'numpy.float64'>,\n",
       "                                                              encoding='utf-8',\n",
       "                                                              input='content',\n",
       "                                                              lowercase=True,\n",
       "                                                              max_df=0.325,\n",
       "                                                              max_features=6500,\n",
       "                                                              min_df=5,\n",
       "                                                              ngram_range=(1,\n",
       "                                                                           2),\n",
       "                                                              norm='l2',\n",
       "                                                              preprocessor=None,\n",
       "                                                              smooth_idf=True,\n",
       "                                                              stop_words=['less'...\n",
       "                                        'gb__min_samples_leaf': <scipy.stats._distn_infrastructure.rv_frozen object at 0x0000026988C7E9C8>,\n",
       "                                        'gb__min_samples_split': <scipy.stats._distn_infrastructure.rv_frozen object at 0x0000026988C7E588>,\n",
       "                                        'gb__n_estimators': [10, 50, 100, 500],\n",
       "                                        'gb__subsample': <scipy.stats._distn_infrastructure.rv_frozen object at 0x0000026990796CC8>},\n",
       "                   pre_dispatch='2*n_jobs', random_state=42, refit=True,\n",
       "                   return_train_score=False, scoring=None, verbose=True)"
      ]
     },
     "execution_count": 34,
     "metadata": {},
     "output_type": "execute_result"
    }
   ],
   "source": [
    "gb_rs = RandomizedSearchCV(gb_pipe,\n",
    "                           gb_params,\n",
    "                           n_iter=150,\n",
    "                           cv=5,\n",
    "                           n_jobs=-1,\n",
    "                           verbose=True,\n",
    "                           random_state=42)\n",
    "\n",
    "gb_rs.fit(X_train, y_train)"
   ]
  },
  {
   "cell_type": "markdown",
   "metadata": {},
   "source": [
    "#### Evaluation"
   ]
  },
  {
   "cell_type": "code",
   "execution_count": 35,
   "metadata": {},
   "outputs": [
    {
     "data": {
      "text/html": [
       "<div>\n",
       "<style scoped>\n",
       "    .dataframe tbody tr th:only-of-type {\n",
       "        vertical-align: middle;\n",
       "    }\n",
       "\n",
       "    .dataframe tbody tr th {\n",
       "        vertical-align: top;\n",
       "    }\n",
       "\n",
       "    .dataframe thead th {\n",
       "        text-align: right;\n",
       "    }\n",
       "</style>\n",
       "<table border=\"1\" class=\"dataframe\">\n",
       "  <thead>\n",
       "    <tr style=\"text-align: right;\">\n",
       "      <th></th>\n",
       "      <th>Train Accuracy</th>\n",
       "      <th>Test Accuracy</th>\n",
       "      <th>Overfittedness</th>\n",
       "      <th>Best Params</th>\n",
       "    </tr>\n",
       "  </thead>\n",
       "  <tbody>\n",
       "    <tr>\n",
       "      <th>LogisticRegression</th>\n",
       "      <td>1.000000</td>\n",
       "      <td>0.574011</td>\n",
       "      <td>0.4260</td>\n",
       "      <td>NaN</td>\n",
       "    </tr>\n",
       "    <tr>\n",
       "      <th>LassoLogisticRegression</th>\n",
       "      <td>1.000000</td>\n",
       "      <td>0.549153</td>\n",
       "      <td>0.4508</td>\n",
       "      <td>{'lasso__C': 1.3035612413334605}</td>\n",
       "    </tr>\n",
       "    <tr>\n",
       "      <th>RidgeLogisticRegression</th>\n",
       "      <td>1.000000</td>\n",
       "      <td>0.522034</td>\n",
       "      <td>0.4780</td>\n",
       "      <td>{'ridge__C': 6.009974959585542}</td>\n",
       "    </tr>\n",
       "    <tr>\n",
       "      <th>MultinomialNaiveBayes</th>\n",
       "      <td>0.753394</td>\n",
       "      <td>0.576271</td>\n",
       "      <td>0.1771</td>\n",
       "      <td>{'nb__alpha': 1.0166804751089014}</td>\n",
       "    </tr>\n",
       "    <tr>\n",
       "      <th>DecisionTree</th>\n",
       "      <td>0.663650</td>\n",
       "      <td>0.540113</td>\n",
       "      <td>0.1235</td>\n",
       "      <td>{'dt__max_depth': 67.35017691080559, 'dt__min_...</td>\n",
       "    </tr>\n",
       "    <tr>\n",
       "      <th>RandomForest</th>\n",
       "      <td>0.618401</td>\n",
       "      <td>0.554802</td>\n",
       "      <td>0.0636</td>\n",
       "      <td>{'rf__max_depth': 23.793516254194166, 'rf__max...</td>\n",
       "    </tr>\n",
       "    <tr>\n",
       "      <th>Gradient Boost</th>\n",
       "      <td>0.436652</td>\n",
       "      <td>0.437288</td>\n",
       "      <td>-0.0006</td>\n",
       "      <td>{'gb__learning_rate': 0.27620585618011995, 'gb...</td>\n",
       "    </tr>\n",
       "  </tbody>\n",
       "</table>\n",
       "</div>"
      ],
      "text/plain": [
       "                         Train Accuracy  Test Accuracy  Overfittedness  \\\n",
       "LogisticRegression             1.000000       0.574011          0.4260   \n",
       "LassoLogisticRegression        1.000000       0.549153          0.4508   \n",
       "RidgeLogisticRegression        1.000000       0.522034          0.4780   \n",
       "MultinomialNaiveBayes          0.753394       0.576271          0.1771   \n",
       "DecisionTree                   0.663650       0.540113          0.1235   \n",
       "RandomForest                   0.618401       0.554802          0.0636   \n",
       "Gradient Boost                 0.436652       0.437288         -0.0006   \n",
       "\n",
       "                                                               Best Params  \n",
       "LogisticRegression                                                     NaN  \n",
       "LassoLogisticRegression                   {'lasso__C': 1.3035612413334605}  \n",
       "RidgeLogisticRegression                    {'ridge__C': 6.009974959585542}  \n",
       "MultinomialNaiveBayes                    {'nb__alpha': 1.0166804751089014}  \n",
       "DecisionTree             {'dt__max_depth': 67.35017691080559, 'dt__min_...  \n",
       "RandomForest             {'rf__max_depth': 23.793516254194166, 'rf__max...  \n",
       "Gradient Boost           {'gb__learning_rate': 0.27620585618011995, 'gb...  "
      ]
     },
     "execution_count": 35,
     "metadata": {},
     "output_type": "execute_result"
    }
   ],
   "source": [
    "add_accuracy(gb_rs, 'Gradient Boost')\n",
    "model_accuracy"
   ]
  },
  {
   "cell_type": "code",
   "execution_count": 36,
   "metadata": {},
   "outputs": [
    {
     "data": {
      "image/png": "[encoded data removed]",
      "text/plain": [
       "<Figure size 576x576 with 2 Axes>"
      ]
     },
     "metadata": {
      "needs_background": "light"
     },
     "output_type": "display_data"
    }
   ],
   "source": [
    "confusion_matrix(gb_rs.best_estimator_, 'Gradient Boost')"
   ]
  },
  {
   "cell_type": "markdown",
   "metadata": {},
   "source": [
    "Despite recognizing that the Gradient Boosting Classifier's required search space was much higher than our previous models and accordingly giving it substantially more hyperparameter sample trials, this model failed to converge, simply predicting our most common class.\n",
    "\n",
    "It seems clear that we flew too close to the sun with our attempts to use more complex tree-based models on these data. Short of renting computing time for a massive hyperparameter search, or abandoning all hope of using this computer for a day or so, we're not likely to beat the Decision Tree with a more complicated tree-based model at this point.\n",
    "\n",
    "The other strong option here would be to dramatically scale back the number of features we are allowing our vectorizer to produce. We may have set the hyperparameters of our vectorizer a bit prematurely, but it was the only feasible way we could test so many models. This is perhaps a lesson: less can be more."
   ]
  },
  {
   "cell_type": "markdown",
   "metadata": {},
   "source": [
    "### AdaBoost"
   ]
  },
  {
   "cell_type": "markdown",
   "metadata": {},
   "source": [
    "#### Fitting"
   ]
  },
  {
   "cell_type": "code",
   "execution_count": 37,
   "metadata": {},
   "outputs": [],
   "source": [
    "ab_pipe = Pipeline([('tfid', TfidfVectorizer(\n",
    "    max_df=.325,\n",
    "    max_features=6500,\n",
    "    min_df=5,\n",
    "    ngram_range=(1, 2),\n",
    "    stop_words=stop_words)),\n",
    "    ('ab', AdaBoostClassifier())])\n",
    "\n",
    "ab_params = {\n",
    "    'ab__n_estimators': [10, 50, 100, 500],\n",
    "    'ab__learning_rate': loguniform(.00001, 50),\n",
    "}"
   ]
  },
  {
   "cell_type": "code",
   "execution_count": 38,
   "metadata": {},
   "outputs": [
    {
     "name": "stdout",
     "output_type": "stream",
     "text": [
      "Fitting 5 folds for each of 75 candidates, totalling 375 fits\n"
     ]
    },
    {
     "name": "stderr",
     "output_type": "stream",
     "text": [
      "[Parallel(n_jobs=-1)]: Using backend LokyBackend with 4 concurrent workers.\n",
      "[Parallel(n_jobs=-1)]: Done  42 tasks      | elapsed:  1.0min\n",
      "[Parallel(n_jobs=-1)]: Done 192 tasks      | elapsed:  4.1min\n",
      "[Parallel(n_jobs=-1)]: Done 375 out of 375 | elapsed:  7.5min finished\n"
     ]
    },
    {
     "data": {
      "text/plain": [
       "RandomizedSearchCV(cv=5, error_score=nan,\n",
       "                   estimator=Pipeline(memory=None,\n",
       "                                      steps=[('tfid',\n",
       "                                              TfidfVectorizer(analyzer='word',\n",
       "                                                              binary=False,\n",
       "                                                              decode_error='strict',\n",
       "                                                              dtype=<class 'numpy.float64'>,\n",
       "                                                              encoding='utf-8',\n",
       "                                                              input='content',\n",
       "                                                              lowercase=True,\n",
       "                                                              max_df=0.325,\n",
       "                                                              max_features=6500,\n",
       "                                                              min_df=5,\n",
       "                                                              ngram_range=(1,\n",
       "                                                                           2),\n",
       "                                                              norm='l2',\n",
       "                                                              preprocessor=None,\n",
       "                                                              smooth_idf=True,\n",
       "                                                              stop_words=['less'...\n",
       "                                                                 learning_rate=1.0,\n",
       "                                                                 n_estimators=50,\n",
       "                                                                 random_state=None))],\n",
       "                                      verbose=False),\n",
       "                   iid='deprecated', n_iter=75, n_jobs=-1,\n",
       "                   param_distributions={'ab__learning_rate': <scipy.stats._distn_infrastructure.rv_frozen object at 0x000002698EDFDA48>,\n",
       "                                        'ab__n_estimators': [10, 50, 100, 500]},\n",
       "                   pre_dispatch='2*n_jobs', random_state=42, refit=True,\n",
       "                   return_train_score=False, scoring=None, verbose=True)"
      ]
     },
     "execution_count": 38,
     "metadata": {},
     "output_type": "execute_result"
    }
   ],
   "source": [
    "ab_rs = RandomizedSearchCV(ab_pipe,\n",
    "                           ab_params,\n",
    "                           n_iter=75,\n",
    "                           cv=5,\n",
    "                           n_jobs=-1,\n",
    "                           verbose=True,\n",
    "                           random_state=42)\n",
    "\n",
    "ab_rs.fit(X_train, y_train)"
   ]
  },
  {
   "cell_type": "markdown",
   "metadata": {},
   "source": [
    "#### Evaluation"
   ]
  },
  {
   "cell_type": "code",
   "execution_count": 39,
   "metadata": {},
   "outputs": [
    {
     "data": {
      "text/html": [
       "<div>\n",
       "<style scoped>\n",
       "    .dataframe tbody tr th:only-of-type {\n",
       "        vertical-align: middle;\n",
       "    }\n",
       "\n",
       "    .dataframe tbody tr th {\n",
       "        vertical-align: top;\n",
       "    }\n",
       "\n",
       "    .dataframe thead th {\n",
       "        text-align: right;\n",
       "    }\n",
       "</style>\n",
       "<table border=\"1\" class=\"dataframe\">\n",
       "  <thead>\n",
       "    <tr style=\"text-align: right;\">\n",
       "      <th></th>\n",
       "      <th>Train Accuracy</th>\n",
       "      <th>Test Accuracy</th>\n",
       "      <th>Overfittedness</th>\n",
       "      <th>Best Params</th>\n",
       "    </tr>\n",
       "  </thead>\n",
       "  <tbody>\n",
       "    <tr>\n",
       "      <th>LogisticRegression</th>\n",
       "      <td>1.000000</td>\n",
       "      <td>0.574011</td>\n",
       "      <td>0.4260</td>\n",
       "      <td>NaN</td>\n",
       "    </tr>\n",
       "    <tr>\n",
       "      <th>LassoLogisticRegression</th>\n",
       "      <td>1.000000</td>\n",
       "      <td>0.549153</td>\n",
       "      <td>0.4508</td>\n",
       "      <td>{'lasso__C': 1.3035612413334605}</td>\n",
       "    </tr>\n",
       "    <tr>\n",
       "      <th>RidgeLogisticRegression</th>\n",
       "      <td>1.000000</td>\n",
       "      <td>0.522034</td>\n",
       "      <td>0.4780</td>\n",
       "      <td>{'ridge__C': 6.009974959585542}</td>\n",
       "    </tr>\n",
       "    <tr>\n",
       "      <th>MultinomialNaiveBayes</th>\n",
       "      <td>0.753394</td>\n",
       "      <td>0.576271</td>\n",
       "      <td>0.1771</td>\n",
       "      <td>{'nb__alpha': 1.0166804751089014}</td>\n",
       "    </tr>\n",
       "    <tr>\n",
       "      <th>DecisionTree</th>\n",
       "      <td>0.663650</td>\n",
       "      <td>0.540113</td>\n",
       "      <td>0.1235</td>\n",
       "      <td>{'dt__max_depth': 67.35017691080559, 'dt__min_...</td>\n",
       "    </tr>\n",
       "    <tr>\n",
       "      <th>RandomForest</th>\n",
       "      <td>0.618401</td>\n",
       "      <td>0.554802</td>\n",
       "      <td>0.0636</td>\n",
       "      <td>{'rf__max_depth': 23.793516254194166, 'rf__max...</td>\n",
       "    </tr>\n",
       "    <tr>\n",
       "      <th>Gradient Boost</th>\n",
       "      <td>0.436652</td>\n",
       "      <td>0.437288</td>\n",
       "      <td>-0.0006</td>\n",
       "      <td>{'gb__learning_rate': 0.27620585618011995, 'gb...</td>\n",
       "    </tr>\n",
       "    <tr>\n",
       "      <th>AdaBoost</th>\n",
       "      <td>0.689668</td>\n",
       "      <td>0.577401</td>\n",
       "      <td>0.1123</td>\n",
       "      <td>{'ab__learning_rate': 0.0412459590679447, 'ab_...</td>\n",
       "    </tr>\n",
       "  </tbody>\n",
       "</table>\n",
       "</div>"
      ],
      "text/plain": [
       "                         Train Accuracy  Test Accuracy  Overfittedness  \\\n",
       "LogisticRegression             1.000000       0.574011          0.4260   \n",
       "LassoLogisticRegression        1.000000       0.549153          0.4508   \n",
       "RidgeLogisticRegression        1.000000       0.522034          0.4780   \n",
       "MultinomialNaiveBayes          0.753394       0.576271          0.1771   \n",
       "DecisionTree                   0.663650       0.540113          0.1235   \n",
       "RandomForest                   0.618401       0.554802          0.0636   \n",
       "Gradient Boost                 0.436652       0.437288         -0.0006   \n",
       "AdaBoost                       0.689668       0.577401          0.1123   \n",
       "\n",
       "                                                               Best Params  \n",
       "LogisticRegression                                                     NaN  \n",
       "LassoLogisticRegression                   {'lasso__C': 1.3035612413334605}  \n",
       "RidgeLogisticRegression                    {'ridge__C': 6.009974959585542}  \n",
       "MultinomialNaiveBayes                    {'nb__alpha': 1.0166804751089014}  \n",
       "DecisionTree             {'dt__max_depth': 67.35017691080559, 'dt__min_...  \n",
       "RandomForest             {'rf__max_depth': 23.793516254194166, 'rf__max...  \n",
       "Gradient Boost           {'gb__learning_rate': 0.27620585618011995, 'gb...  \n",
       "AdaBoost                 {'ab__learning_rate': 0.0412459590679447, 'ab_...  "
      ]
     },
     "execution_count": 39,
     "metadata": {},
     "output_type": "execute_result"
    }
   ],
   "source": [
    "add_accuracy(ab_rs, 'AdaBoost')\n",
    "model_accuracy"
   ]
  },
  {
   "cell_type": "code",
   "execution_count": 40,
   "metadata": {},
   "outputs": [
    {
     "data": {
      "image/png": "[encoded data removed]",
      "text/plain": [
       "<Figure size 576x576 with 2 Axes>"
      ]
     },
     "metadata": {
      "needs_background": "light"
     },
     "output_type": "display_data"
    }
   ],
   "source": [
    "confusion_matrix(ab_rs.best_estimator_, 'AdaBoost')"
   ]
  },
  {
   "cell_type": "markdown",
   "metadata": {},
   "source": [
    "AdaBoost has the questionable distinction of being the best of many bad models, just slightly beating the Naive Bayes model's testing accuracy, and with less overfitting. Unfortunately, both of these models seem to have high class biases, so their generalizeability is still a bit questionable. "
   ]
  },
  {
   "cell_type": "markdown",
   "metadata": {},
   "source": [
    "### Support Vector Classifier"
   ]
  },
  {
   "cell_type": "markdown",
   "metadata": {},
   "source": [
    "#### Fitting"
   ]
  },
  {
   "cell_type": "code",
   "execution_count": 41,
   "metadata": {},
   "outputs": [],
   "source": [
    "svc_pipe = Pipeline([('tfid', TfidfVectorizer(\n",
    "    max_df=.325,\n",
    "    max_features=6500,\n",
    "    min_df=5,\n",
    "    ngram_range=(1, 2),\n",
    "    stop_words=stop_words)),\n",
    "    ('ss', StandardScaler(with_mean=False)),\n",
    "    ('svc', SVC())])\n",
    "\n",
    "svc_params = {\n",
    "    'svc__C': loguniform(.00001, 50),\n",
    "    'svc__gamma': ['scale', 'auto']\n",
    "}"
   ]
  },
  {
   "cell_type": "code",
   "execution_count": 42,
   "metadata": {},
   "outputs": [
    {
     "name": "stdout",
     "output_type": "stream",
     "text": [
      "Fitting 5 folds for each of 75 candidates, totalling 375 fits\n"
     ]
    },
    {
     "name": "stderr",
     "output_type": "stream",
     "text": [
      "[Parallel(n_jobs=-1)]: Using backend LokyBackend with 4 concurrent workers.\n",
      "[Parallel(n_jobs=-1)]: Done  42 tasks      | elapsed:   48.5s\n",
      "[Parallel(n_jobs=-1)]: Done 192 tasks      | elapsed:  3.4min\n",
      "[Parallel(n_jobs=-1)]: Done 375 out of 375 | elapsed:  6.6min finished\n"
     ]
    },
    {
     "data": {
      "text/plain": [
       "RandomizedSearchCV(cv=5, error_score=nan,\n",
       "                   estimator=Pipeline(memory=None,\n",
       "                                      steps=[('tfid',\n",
       "                                              TfidfVectorizer(analyzer='word',\n",
       "                                                              binary=False,\n",
       "                                                              decode_error='strict',\n",
       "                                                              dtype=<class 'numpy.float64'>,\n",
       "                                                              encoding='utf-8',\n",
       "                                                              input='content',\n",
       "                                                              lowercase=True,\n",
       "                                                              max_df=0.325,\n",
       "                                                              max_features=6500,\n",
       "                                                              min_df=5,\n",
       "                                                              ngram_range=(1,\n",
       "                                                                           2),\n",
       "                                                              norm='l2',\n",
       "                                                              preprocessor=None,\n",
       "                                                              smooth_idf=True,\n",
       "                                                              stop_words=['less'...\n",
       "                                                  probability=False,\n",
       "                                                  random_state=None,\n",
       "                                                  shrinking=True, tol=0.001,\n",
       "                                                  verbose=False))],\n",
       "                                      verbose=False),\n",
       "                   iid='deprecated', n_iter=75, n_jobs=-1,\n",
       "                   param_distributions={'svc__C': <scipy.stats._distn_infrastructure.rv_frozen object at 0x0000026994DBD208>,\n",
       "                                        'svc__gamma': ['scale', 'auto']},\n",
       "                   pre_dispatch='2*n_jobs', random_state=42, refit=True,\n",
       "                   return_train_score=False, scoring=None, verbose=True)"
      ]
     },
     "execution_count": 42,
     "metadata": {},
     "output_type": "execute_result"
    }
   ],
   "source": [
    "svc_rs = RandomizedSearchCV(svc_pipe,\n",
    "                            svc_params,\n",
    "                            n_iter=75,\n",
    "                            cv=5,\n",
    "                            n_jobs=-1,\n",
    "                            verbose=True,\n",
    "                            random_state=42)\n",
    "\n",
    "svc_rs.fit(X_train, y_train)"
   ]
  },
  {
   "cell_type": "markdown",
   "metadata": {},
   "source": [
    "#### Evaluation"
   ]
  },
  {
   "cell_type": "code",
   "execution_count": 43,
   "metadata": {},
   "outputs": [
    {
     "data": {
      "text/html": [
       "<div>\n",
       "<style scoped>\n",
       "    .dataframe tbody tr th:only-of-type {\n",
       "        vertical-align: middle;\n",
       "    }\n",
       "\n",
       "    .dataframe tbody tr th {\n",
       "        vertical-align: top;\n",
       "    }\n",
       "\n",
       "    .dataframe thead th {\n",
       "        text-align: right;\n",
       "    }\n",
       "</style>\n",
       "<table border=\"1\" class=\"dataframe\">\n",
       "  <thead>\n",
       "    <tr style=\"text-align: right;\">\n",
       "      <th></th>\n",
       "      <th>Train Accuracy</th>\n",
       "      <th>Test Accuracy</th>\n",
       "      <th>Overfittedness</th>\n",
       "      <th>Best Params</th>\n",
       "    </tr>\n",
       "  </thead>\n",
       "  <tbody>\n",
       "    <tr>\n",
       "      <th>LogisticRegression</th>\n",
       "      <td>1.000000</td>\n",
       "      <td>0.574011</td>\n",
       "      <td>0.4260</td>\n",
       "      <td>NaN</td>\n",
       "    </tr>\n",
       "    <tr>\n",
       "      <th>LassoLogisticRegression</th>\n",
       "      <td>1.000000</td>\n",
       "      <td>0.549153</td>\n",
       "      <td>0.4508</td>\n",
       "      <td>{'lasso__C': 1.3035612413334605}</td>\n",
       "    </tr>\n",
       "    <tr>\n",
       "      <th>RidgeLogisticRegression</th>\n",
       "      <td>1.000000</td>\n",
       "      <td>0.522034</td>\n",
       "      <td>0.4780</td>\n",
       "      <td>{'ridge__C': 6.009974959585542}</td>\n",
       "    </tr>\n",
       "    <tr>\n",
       "      <th>MultinomialNaiveBayes</th>\n",
       "      <td>0.753394</td>\n",
       "      <td>0.576271</td>\n",
       "      <td>0.1771</td>\n",
       "      <td>{'nb__alpha': 1.0166804751089014}</td>\n",
       "    </tr>\n",
       "    <tr>\n",
       "      <th>DecisionTree</th>\n",
       "      <td>0.663650</td>\n",
       "      <td>0.540113</td>\n",
       "      <td>0.1235</td>\n",
       "      <td>{'dt__max_depth': 67.35017691080559, 'dt__min_...</td>\n",
       "    </tr>\n",
       "    <tr>\n",
       "      <th>RandomForest</th>\n",
       "      <td>0.618401</td>\n",
       "      <td>0.554802</td>\n",
       "      <td>0.0636</td>\n",
       "      <td>{'rf__max_depth': 23.793516254194166, 'rf__max...</td>\n",
       "    </tr>\n",
       "    <tr>\n",
       "      <th>Gradient Boost</th>\n",
       "      <td>0.436652</td>\n",
       "      <td>0.437288</td>\n",
       "      <td>-0.0006</td>\n",
       "      <td>{'gb__learning_rate': 0.27620585618011995, 'gb...</td>\n",
       "    </tr>\n",
       "    <tr>\n",
       "      <th>AdaBoost</th>\n",
       "      <td>0.689668</td>\n",
       "      <td>0.577401</td>\n",
       "      <td>0.1123</td>\n",
       "      <td>{'ab__learning_rate': 0.0412459590679447, 'ab_...</td>\n",
       "    </tr>\n",
       "    <tr>\n",
       "      <th>SupportVectorMachine</th>\n",
       "      <td>0.990573</td>\n",
       "      <td>0.552542</td>\n",
       "      <td>0.4380</td>\n",
       "      <td>{'svc__C': 1.5580863867032468, 'svc__gamma': '...</td>\n",
       "    </tr>\n",
       "  </tbody>\n",
       "</table>\n",
       "</div>"
      ],
      "text/plain": [
       "                         Train Accuracy  Test Accuracy  Overfittedness  \\\n",
       "LogisticRegression             1.000000       0.574011          0.4260   \n",
       "LassoLogisticRegression        1.000000       0.549153          0.4508   \n",
       "RidgeLogisticRegression        1.000000       0.522034          0.4780   \n",
       "MultinomialNaiveBayes          0.753394       0.576271          0.1771   \n",
       "DecisionTree                   0.663650       0.540113          0.1235   \n",
       "RandomForest                   0.618401       0.554802          0.0636   \n",
       "Gradient Boost                 0.436652       0.437288         -0.0006   \n",
       "AdaBoost                       0.689668       0.577401          0.1123   \n",
       "SupportVectorMachine           0.990573       0.552542          0.4380   \n",
       "\n",
       "                                                               Best Params  \n",
       "LogisticRegression                                                     NaN  \n",
       "LassoLogisticRegression                   {'lasso__C': 1.3035612413334605}  \n",
       "RidgeLogisticRegression                    {'ridge__C': 6.009974959585542}  \n",
       "MultinomialNaiveBayes                    {'nb__alpha': 1.0166804751089014}  \n",
       "DecisionTree             {'dt__max_depth': 67.35017691080559, 'dt__min_...  \n",
       "RandomForest             {'rf__max_depth': 23.793516254194166, 'rf__max...  \n",
       "Gradient Boost           {'gb__learning_rate': 0.27620585618011995, 'gb...  \n",
       "AdaBoost                 {'ab__learning_rate': 0.0412459590679447, 'ab_...  \n",
       "SupportVectorMachine     {'svc__C': 1.5580863867032468, 'svc__gamma': '...  "
      ]
     },
     "execution_count": 43,
     "metadata": {},
     "output_type": "execute_result"
    }
   ],
   "source": [
    "add_accuracy(svc_rs, 'SupportVectorMachine')\n",
    "model_accuracy"
   ]
  },
  {
   "cell_type": "code",
   "execution_count": 44,
   "metadata": {},
   "outputs": [
    {
     "data": {
      "image/png": "[encoded data removed]",
      "text/plain": [
       "<Figure size 576x576 with 2 Axes>"
      ]
     },
     "metadata": {
      "needs_background": "light"
     },
     "output_type": "display_data"
    }
   ],
   "source": [
    "confusion_matrix(svc_rs.best_estimator_, 'Support Vector Machine')"
   ]
  },
  {
   "cell_type": "markdown",
   "metadata": {},
   "source": [
    "With the Support Vector Machine, we have returned to extreme overfitting, with no substantial deviation in accuracy. The SVC again overcategorizes r/asoiaf, performing weakest on r/gameofthrones."
   ]
  },
  {
   "cell_type": "markdown",
   "metadata": {},
   "source": [
    "### Voting Ensemble"
   ]
  },
  {
   "cell_type": "markdown",
   "metadata": {},
   "source": [
    "While we initially intended to use the Gradient Boosted Model as part of the final ensemble, along with all the others, it is so egregiously bad (and we lack the time to fix it) that we are simply going to discard it. "
   ]
  },
  {
   "cell_type": "markdown",
   "metadata": {},
   "source": [
    "#### Fitting"
   ]
  },
  {
   "cell_type": "markdown",
   "metadata": {},
   "source": [
    "We ran into an interesting issue with passing our best parameters for each model to the Voting Classifier. Namely, the prepended \\[identifier\\]\\_\\_ pattern caused issues, so we came up with a function to convert the keys of our .best_parameter\\_ dictionaries into their base forms with regex."
   ]
  },
  {
   "cell_type": "code",
   "execution_count": 45,
   "metadata": {},
   "outputs": [],
   "source": [
    "def fix_parameters(dictionary):\n",
    "    new_dictionary = {\n",
    "        re.sub(r'[a-z]+_{2}', '', item): value for item, value in dictionary.items()\n",
    "    }\n",
    "    return(new_dictionary)"
   ]
  },
  {
   "cell_type": "code",
   "execution_count": 46,
   "metadata": {},
   "outputs": [],
   "source": [
    "parameter_dicts = [lasso_rs.best_params_, ridge_rs.best_params_, nb_rs.best_params_,\n",
    "                   dt_rs.best_params_, rf_rs.best_params_, ab_rs.best_params_,\n",
    "                   svc_rs.best_params_]"
   ]
  },
  {
   "cell_type": "code",
   "execution_count": 47,
   "metadata": {},
   "outputs": [],
   "source": [
    "for i, p_dict in enumerate(parameter_dicts):\n",
    "    parameter_dicts[i] = fix_parameters(p_dict)"
   ]
  },
  {
   "cell_type": "code",
   "execution_count": 48,
   "metadata": {},
   "outputs": [
    {
     "data": {
      "text/plain": [
       "Pipeline(memory=None,\n",
       "         steps=[('tfid',\n",
       "                 TfidfVectorizer(analyzer='word', binary=False,\n",
       "                                 decode_error='strict',\n",
       "                                 dtype=<class 'numpy.float64'>,\n",
       "                                 encoding='utf-8', input='content',\n",
       "                                 lowercase=True, max_df=0.325,\n",
       "                                 max_features=6500, min_df=5,\n",
       "                                 ngram_range=(1, 2), norm='l2',\n",
       "                                 preprocessor=None, smooth_idf=True,\n",
       "                                 stop_words=['less', 'series', 'least', 'or',\n",
       "                                             'with', 'sixty', 'battle', 'di...\n",
       "                                                                  n_estimators=500,\n",
       "                                                                  random_state=None)),\n",
       "                                              ('svc',\n",
       "                                               SVC(C=1.5580863867032468,\n",
       "                                                   break_ties=False,\n",
       "                                                   cache_size=200,\n",
       "                                                   class_weight=None, coef0=0.0,\n",
       "                                                   decision_function_shape='ovr',\n",
       "                                                   degree=3, gamma='auto',\n",
       "                                                   kernel='rbf', max_iter=-1,\n",
       "                                                   probability=False,\n",
       "                                                   random_state=None,\n",
       "                                                   shrinking=True, tol=0.001,\n",
       "                                                   verbose=False))],\n",
       "                                  flatten_transform=True, n_jobs=None,\n",
       "                                  voting='hard', weights=None))],\n",
       "         verbose=False)"
      ]
     },
     "execution_count": 48,
     "metadata": {},
     "output_type": "execute_result"
    }
   ],
   "source": [
    "vc_pipe = Pipeline([('tfid', TfidfVectorizer(\n",
    "    max_df=.325,\n",
    "    max_features=6500,\n",
    "    min_df=5,\n",
    "    ngram_range=(1, 2),\n",
    "    stop_words=stop_words)),\n",
    "    ('ss', StandardScaler(with_mean=False)),\n",
    "    ('vote', VotingClassifier([('logit', LogisticRegression(penalty='none',\n",
    "                                                            solver='lbfgs',\n",
    "                                                            max_iter=1000,)),\n",
    "                               ('lasso', LogisticRegression(penalty='l1',\n",
    "                                                            solver='liblinear',\n",
    "                                                            **parameter_dicts[0])),\n",
    "                               ('ridge', LogisticRegression(penalty='l1',\n",
    "                                                            solver='liblinear',\n",
    "                                                            **parameter_dicts[1])),\n",
    "                               ('nb', MultinomialNB(**parameter_dicts[2])),\n",
    "                               ('dt', DecisionTreeClassifier(\n",
    "                                   **parameter_dicts[3])),\n",
    "                               ('rf', RandomForestClassifier(\n",
    "                                   **parameter_dicts[4])),\n",
    "                               ('ab', AdaBoostClassifier(\n",
    "                                   **parameter_dicts[5])),\n",
    "                               ('svc', SVC(**parameter_dicts[6]))]))])\n",
    "\n",
    "vc_pipe.fit(X_train, y_train)"
   ]
  },
  {
   "cell_type": "markdown",
   "metadata": {},
   "source": [
    "#### Evaluation"
   ]
  },
  {
   "cell_type": "code",
   "execution_count": 49,
   "metadata": {},
   "outputs": [],
   "source": [
    "model_accuracy.loc['VotingClassifier',\n",
    "                   'Train Accuracy'] = vc_pipe.score(X_train, y_train)\n",
    "\n",
    "model_accuracy.loc['VotingClassifier',\n",
    "                   'Test Accuracy'] = vc_pipe.score(X_test, y_test)\n",
    "\n",
    "model_accuracy.loc['VotingClassifier', 'Overfittedness'] = round(\n",
    "    vc_pipe.score(X_train, y_train) - vc_pipe.score(X_test, y_test), 4)"
   ]
  },
  {
   "cell_type": "code",
   "execution_count": 50,
   "metadata": {},
   "outputs": [
    {
     "data": {
      "text/html": [
       "<div>\n",
       "<style scoped>\n",
       "    .dataframe tbody tr th:only-of-type {\n",
       "        vertical-align: middle;\n",
       "    }\n",
       "\n",
       "    .dataframe tbody tr th {\n",
       "        vertical-align: top;\n",
       "    }\n",
       "\n",
       "    .dataframe thead th {\n",
       "        text-align: right;\n",
       "    }\n",
       "</style>\n",
       "<table border=\"1\" class=\"dataframe\">\n",
       "  <thead>\n",
       "    <tr style=\"text-align: right;\">\n",
       "      <th></th>\n",
       "      <th>Train Accuracy</th>\n",
       "      <th>Test Accuracy</th>\n",
       "      <th>Overfittedness</th>\n",
       "      <th>Best Params</th>\n",
       "    </tr>\n",
       "  </thead>\n",
       "  <tbody>\n",
       "    <tr>\n",
       "      <th>LogisticRegression</th>\n",
       "      <td>1.000000</td>\n",
       "      <td>0.574011</td>\n",
       "      <td>0.4260</td>\n",
       "      <td>NaN</td>\n",
       "    </tr>\n",
       "    <tr>\n",
       "      <th>LassoLogisticRegression</th>\n",
       "      <td>1.000000</td>\n",
       "      <td>0.549153</td>\n",
       "      <td>0.4508</td>\n",
       "      <td>{'lasso__C': 1.3035612413334605}</td>\n",
       "    </tr>\n",
       "    <tr>\n",
       "      <th>RidgeLogisticRegression</th>\n",
       "      <td>1.000000</td>\n",
       "      <td>0.522034</td>\n",
       "      <td>0.4780</td>\n",
       "      <td>{'ridge__C': 6.009974959585542}</td>\n",
       "    </tr>\n",
       "    <tr>\n",
       "      <th>MultinomialNaiveBayes</th>\n",
       "      <td>0.753394</td>\n",
       "      <td>0.576271</td>\n",
       "      <td>0.1771</td>\n",
       "      <td>{'nb__alpha': 1.0166804751089014}</td>\n",
       "    </tr>\n",
       "    <tr>\n",
       "      <th>DecisionTree</th>\n",
       "      <td>0.663650</td>\n",
       "      <td>0.540113</td>\n",
       "      <td>0.1235</td>\n",
       "      <td>{'dt__max_depth': 67.35017691080559, 'dt__min_...</td>\n",
       "    </tr>\n",
       "    <tr>\n",
       "      <th>RandomForest</th>\n",
       "      <td>0.618401</td>\n",
       "      <td>0.554802</td>\n",
       "      <td>0.0636</td>\n",
       "      <td>{'rf__max_depth': 23.793516254194166, 'rf__max...</td>\n",
       "    </tr>\n",
       "    <tr>\n",
       "      <th>Gradient Boost</th>\n",
       "      <td>0.436652</td>\n",
       "      <td>0.437288</td>\n",
       "      <td>-0.0006</td>\n",
       "      <td>{'gb__learning_rate': 0.27620585618011995, 'gb...</td>\n",
       "    </tr>\n",
       "    <tr>\n",
       "      <th>AdaBoost</th>\n",
       "      <td>0.689668</td>\n",
       "      <td>0.577401</td>\n",
       "      <td>0.1123</td>\n",
       "      <td>{'ab__learning_rate': 0.0412459590679447, 'ab_...</td>\n",
       "    </tr>\n",
       "    <tr>\n",
       "      <th>SupportVectorMachine</th>\n",
       "      <td>0.990573</td>\n",
       "      <td>0.552542</td>\n",
       "      <td>0.4380</td>\n",
       "      <td>{'svc__C': 1.5580863867032468, 'svc__gamma': '...</td>\n",
       "    </tr>\n",
       "    <tr>\n",
       "      <th>VotingClassifier</th>\n",
       "      <td>0.991327</td>\n",
       "      <td>0.598870</td>\n",
       "      <td>0.3925</td>\n",
       "      <td>NaN</td>\n",
       "    </tr>\n",
       "  </tbody>\n",
       "</table>\n",
       "</div>"
      ],
      "text/plain": [
       "                         Train Accuracy  Test Accuracy  Overfittedness  \\\n",
       "LogisticRegression             1.000000       0.574011          0.4260   \n",
       "LassoLogisticRegression        1.000000       0.549153          0.4508   \n",
       "RidgeLogisticRegression        1.000000       0.522034          0.4780   \n",
       "MultinomialNaiveBayes          0.753394       0.576271          0.1771   \n",
       "DecisionTree                   0.663650       0.540113          0.1235   \n",
       "RandomForest                   0.618401       0.554802          0.0636   \n",
       "Gradient Boost                 0.436652       0.437288         -0.0006   \n",
       "AdaBoost                       0.689668       0.577401          0.1123   \n",
       "SupportVectorMachine           0.990573       0.552542          0.4380   \n",
       "VotingClassifier               0.991327       0.598870          0.3925   \n",
       "\n",
       "                                                               Best Params  \n",
       "LogisticRegression                                                     NaN  \n",
       "LassoLogisticRegression                   {'lasso__C': 1.3035612413334605}  \n",
       "RidgeLogisticRegression                    {'ridge__C': 6.009974959585542}  \n",
       "MultinomialNaiveBayes                    {'nb__alpha': 1.0166804751089014}  \n",
       "DecisionTree             {'dt__max_depth': 67.35017691080559, 'dt__min_...  \n",
       "RandomForest             {'rf__max_depth': 23.793516254194166, 'rf__max...  \n",
       "Gradient Boost           {'gb__learning_rate': 0.27620585618011995, 'gb...  \n",
       "AdaBoost                 {'ab__learning_rate': 0.0412459590679447, 'ab_...  \n",
       "SupportVectorMachine     {'svc__C': 1.5580863867032468, 'svc__gamma': '...  \n",
       "VotingClassifier                                                       NaN  "
      ]
     },
     "execution_count": 50,
     "metadata": {},
     "output_type": "execute_result"
    }
   ],
   "source": [
    "model_accuracy"
   ]
  },
  {
   "cell_type": "code",
   "execution_count": 51,
   "metadata": {},
   "outputs": [
    {
     "data": {
      "image/png": "[encoded data removed]",
      "text/plain": [
       "<Figure size 576x576 with 2 Axes>"
      ]
     },
     "metadata": {
      "needs_background": "light"
     },
     "output_type": "display_data"
    }
   ],
   "source": [
    "confusion_matrix(vc_pipe, 'Voting Classifier')"
   ]
  },
  {
   "cell_type": "markdown",
   "metadata": {},
   "source": [
    "Overall, our ensemble outperformed our two best models (AdaBoost and the Decision Tree), on test set accuracy, slightly improving our accuracy despite inclusion of many poor/underfit models. We did manage to mostly equalize the class bias of most of our models (a very consistent issue).\n",
    "\n",
    "With additional experimentation, it's quite likely that we could isolate a more robust subset of input models for the final ensemble if we removed some of the particularly overfit ones. "
   ]
  },
  {
   "cell_type": "markdown",
   "metadata": {},
   "source": [
    "## Model Evaluation"
   ]
  },
  {
   "cell_type": "markdown",
   "metadata": {},
   "source": [
    "We have already looked at each of our model performances individually, but it may be helpful to visualize their differences more "
   ]
  },
  {
   "cell_type": "code",
   "execution_count": 52,
   "metadata": {},
   "outputs": [],
   "source": [
    "model_accuracy.loc['BaselineModel', 'Train Accuracy'] = np.mean(\n",
    "    baseline_train_preds == y_train)\n",
    "\n",
    "model_accuracy.loc['BaselineModel', 'Test Accuracy'] = np.mean(\n",
    "    baseline_test_preds == y_test)\n",
    "\n",
    "model_accuracy.loc['BaselineModel', 'Overfittedness'] = np.mean(\n",
    "    baseline_train_preds == y_train) - np.mean(baseline_test_preds == y_test)"
   ]
  },
  {
   "cell_type": "code",
   "execution_count": 53,
   "metadata": {},
   "outputs": [
    {
     "data": {
      "text/html": [
       "<div>\n",
       "<style scoped>\n",
       "    .dataframe tbody tr th:only-of-type {\n",
       "        vertical-align: middle;\n",
       "    }\n",
       "\n",
       "    .dataframe tbody tr th {\n",
       "        vertical-align: top;\n",
       "    }\n",
       "\n",
       "    .dataframe thead th {\n",
       "        text-align: right;\n",
       "    }\n",
       "</style>\n",
       "<table border=\"1\" class=\"dataframe\">\n",
       "  <thead>\n",
       "    <tr style=\"text-align: right;\">\n",
       "      <th></th>\n",
       "      <th>Train Accuracy</th>\n",
       "      <th>Test Accuracy</th>\n",
       "      <th>Overfittedness</th>\n",
       "      <th>Best Params</th>\n",
       "    </tr>\n",
       "  </thead>\n",
       "  <tbody>\n",
       "    <tr>\n",
       "      <th>LogisticRegression</th>\n",
       "      <td>1.000000</td>\n",
       "      <td>0.574011</td>\n",
       "      <td>0.426000</td>\n",
       "      <td>NaN</td>\n",
       "    </tr>\n",
       "    <tr>\n",
       "      <th>LassoLogisticRegression</th>\n",
       "      <td>1.000000</td>\n",
       "      <td>0.549153</td>\n",
       "      <td>0.450800</td>\n",
       "      <td>{'lasso__C': 1.3035612413334605}</td>\n",
       "    </tr>\n",
       "    <tr>\n",
       "      <th>RidgeLogisticRegression</th>\n",
       "      <td>1.000000</td>\n",
       "      <td>0.522034</td>\n",
       "      <td>0.478000</td>\n",
       "      <td>{'ridge__C': 6.009974959585542}</td>\n",
       "    </tr>\n",
       "    <tr>\n",
       "      <th>MultinomialNaiveBayes</th>\n",
       "      <td>0.753394</td>\n",
       "      <td>0.576271</td>\n",
       "      <td>0.177100</td>\n",
       "      <td>{'nb__alpha': 1.0166804751089014}</td>\n",
       "    </tr>\n",
       "    <tr>\n",
       "      <th>DecisionTree</th>\n",
       "      <td>0.663650</td>\n",
       "      <td>0.540113</td>\n",
       "      <td>0.123500</td>\n",
       "      <td>{'dt__max_depth': 67.35017691080559, 'dt__min_...</td>\n",
       "    </tr>\n",
       "    <tr>\n",
       "      <th>RandomForest</th>\n",
       "      <td>0.618401</td>\n",
       "      <td>0.554802</td>\n",
       "      <td>0.063600</td>\n",
       "      <td>{'rf__max_depth': 23.793516254194166, 'rf__max...</td>\n",
       "    </tr>\n",
       "    <tr>\n",
       "      <th>Gradient Boost</th>\n",
       "      <td>0.436652</td>\n",
       "      <td>0.437288</td>\n",
       "      <td>-0.000600</td>\n",
       "      <td>{'gb__learning_rate': 0.27620585618011995, 'gb...</td>\n",
       "    </tr>\n",
       "    <tr>\n",
       "      <th>AdaBoost</th>\n",
       "      <td>0.689668</td>\n",
       "      <td>0.577401</td>\n",
       "      <td>0.112300</td>\n",
       "      <td>{'ab__learning_rate': 0.0412459590679447, 'ab_...</td>\n",
       "    </tr>\n",
       "    <tr>\n",
       "      <th>SupportVectorMachine</th>\n",
       "      <td>0.990573</td>\n",
       "      <td>0.552542</td>\n",
       "      <td>0.438000</td>\n",
       "      <td>{'svc__C': 1.5580863867032468, 'svc__gamma': '...</td>\n",
       "    </tr>\n",
       "    <tr>\n",
       "      <th>VotingClassifier</th>\n",
       "      <td>0.991327</td>\n",
       "      <td>0.598870</td>\n",
       "      <td>0.392500</td>\n",
       "      <td>NaN</td>\n",
       "    </tr>\n",
       "    <tr>\n",
       "      <th>BaselineModel</th>\n",
       "      <td>0.436652</td>\n",
       "      <td>0.437288</td>\n",
       "      <td>-0.000637</td>\n",
       "      <td>NaN</td>\n",
       "    </tr>\n",
       "  </tbody>\n",
       "</table>\n",
       "</div>"
      ],
      "text/plain": [
       "                         Train Accuracy  Test Accuracy  Overfittedness  \\\n",
       "LogisticRegression             1.000000       0.574011        0.426000   \n",
       "LassoLogisticRegression        1.000000       0.549153        0.450800   \n",
       "RidgeLogisticRegression        1.000000       0.522034        0.478000   \n",
       "MultinomialNaiveBayes          0.753394       0.576271        0.177100   \n",
       "DecisionTree                   0.663650       0.540113        0.123500   \n",
       "RandomForest                   0.618401       0.554802        0.063600   \n",
       "Gradient Boost                 0.436652       0.437288       -0.000600   \n",
       "AdaBoost                       0.689668       0.577401        0.112300   \n",
       "SupportVectorMachine           0.990573       0.552542        0.438000   \n",
       "VotingClassifier               0.991327       0.598870        0.392500   \n",
       "BaselineModel                  0.436652       0.437288       -0.000637   \n",
       "\n",
       "                                                               Best Params  \n",
       "LogisticRegression                                                     NaN  \n",
       "LassoLogisticRegression                   {'lasso__C': 1.3035612413334605}  \n",
       "RidgeLogisticRegression                    {'ridge__C': 6.009974959585542}  \n",
       "MultinomialNaiveBayes                    {'nb__alpha': 1.0166804751089014}  \n",
       "DecisionTree             {'dt__max_depth': 67.35017691080559, 'dt__min_...  \n",
       "RandomForest             {'rf__max_depth': 23.793516254194166, 'rf__max...  \n",
       "Gradient Boost           {'gb__learning_rate': 0.27620585618011995, 'gb...  \n",
       "AdaBoost                 {'ab__learning_rate': 0.0412459590679447, 'ab_...  \n",
       "SupportVectorMachine     {'svc__C': 1.5580863867032468, 'svc__gamma': '...  \n",
       "VotingClassifier                                                       NaN  \n",
       "BaselineModel                                                          NaN  "
      ]
     },
     "execution_count": 53,
     "metadata": {},
     "output_type": "execute_result"
    }
   ],
   "source": [
    "model_accuracy"
   ]
  },
  {
   "cell_type": "markdown",
   "metadata": {},
   "source": [
    "#### Model Training Accuracy"
   ]
  },
  {
   "cell_type": "code",
   "execution_count": 54,
   "metadata": {},
   "outputs": [
    {
     "data": {
      "image/png": "[encoded data removed]",
      "text/plain": [
       "<Figure size 864x504 with 1 Axes>"
      ]
     },
     "metadata": {
      "needs_background": "light"
     },
     "output_type": "display_data"
    }
   ],
   "source": [
    "plt.figure(figsize=(12, 7))\n",
    "sns.barplot(x=model_accuracy.sort_values('Train Accuracy').index,\n",
    "            y=model_accuracy.sort_values('Train Accuracy')['Train Accuracy'],\n",
    "            ec='k',\n",
    "            linewidth=1,\n",
    "            palette='PuOr'\n",
    "            )\n",
    "plt.xticks(rotation='vertical', fontsize=14)\n",
    "plt.title('Model Training Set Accuracy', fontsize=18)\n",
    "plt.ylim(0, 1.1)\n",
    "plt.ylabel('Accuracy', fontsize=16)\n",
    "plt.xlabel('Model', fontsize=16)"
   ]
  },
  {
   "cell_type": "markdown",
   "metadata": {},
   "source": [
    "As we saw during modeling, many of our models drastically overfit to the training data. This extremely low bias is undesireable, as it reflects a lack of generalizability. So, our best models are all on the \"high bias\" end of this spectrum, particularly the AdaBoost and Naive Bayes models."
   ]
  },
  {
   "cell_type": "markdown",
   "metadata": {},
   "source": [
    "#### Model Test Accuracy"
   ]
  },
  {
   "cell_type": "code",
   "execution_count": 55,
   "metadata": {},
   "outputs": [
    {
     "data": {
      "image/png": "[encoded data removed]",
      "text/plain": [
       "<Figure size 864x504 with 1 Axes>"
      ]
     },
     "metadata": {
      "needs_background": "light"
     },
     "output_type": "display_data"
    }
   ],
   "source": [
    "plt.figure(figsize=(12, 7))\n",
    "sns.barplot(x=model_accuracy.sort_values('Test Accuracy').index,\n",
    "            y=model_accuracy.sort_values('Test Accuracy')['Test Accuracy'],\n",
    "            ec='k',\n",
    "            linewidth=1,\n",
    "            palette='PuOr'\n",
    "            )\n",
    "plt.xticks(rotation='vertical', fontsize=14)\n",
    "plt.ylim(0, 1.1)\n",
    "plt.title('Model Testing Set Accuracy', fontsize=18)\n",
    "plt.ylabel('Accuracy', fontsize=16)\n",
    "plt.xlabel('Model', fontsize=16)"
   ]
  },
  {
   "cell_type": "markdown",
   "metadata": {},
   "source": [
    "This metric is our true target; how well can our models classify unseen data? While our Unregularized  Logistic Regressions came close to the Ensemble, Naive Bayes, and AdaBoost models on training accuracy, its overfittedness will call its credibility into question:"
   ]
  },
  {
   "cell_type": "markdown",
   "metadata": {},
   "source": [
    "#### Model Overfittedness"
   ]
  },
  {
   "cell_type": "code",
   "execution_count": 56,
   "metadata": {
    "scrolled": false
   },
   "outputs": [
    {
     "data": {
      "image/png": "[encoded data removed]",
      "text/plain": [
       "<Figure size 864x504 with 1 Axes>"
      ]
     },
     "metadata": {
      "needs_background": "light"
     },
     "output_type": "display_data"
    }
   ],
   "source": [
    "plt.figure(figsize=(12, 7))\n",
    "sns.barplot(x=model_accuracy.sort_values('Overfittedness', ascending=False).index,\n",
    "            y=model_accuracy.sort_values('Overfittedness', ascending=False)[\n",
    "    'Overfittedness'],\n",
    "    ec='k',\n",
    "    linewidth=1,\n",
    "    palette='PuOr'\n",
    ")\n",
    "plt.xticks(rotation='vertical', fontsize=14)\n",
    "plt.title('Model Overfittedness', fontsize=18)\n",
    "plt.ylim(0, .5)\n",
    "plt.ylabel('Train Accuracy - Test Accuracy', fontsize=16)\n",
    "plt.xlabel('Model', fontsize=16)"
   ]
  },
  {
   "cell_type": "markdown",
   "metadata": {},
   "source": [
    "This chart is why we can feel confident with holding up AdaBoost and the Naive Bayes models as far-and-away our best models. While the Gradient Boosting Classifier was remarkably well-fit, it simply predicted the majority class just like our baseline model, making it worthless. In its defense, had this been a binary classification problem, it might actually be our best model, but inverting its predictions doesn't work quite as well with a three-way classification.\n",
    "\n",
    "It is likely that our ensemble model would be able to beat AdaBoost and the Naive Bayes on more metrics if we didn't throw so many weak and overfit models into it, but that is a test for another time."
   ]
  },
  {
   "cell_type": "markdown",
   "metadata": {},
   "source": [
    "#### Decision Tree Analysis"
   ]
  },
  {
   "cell_type": "code",
   "execution_count": 57,
   "metadata": {},
   "outputs": [
    {
     "data": {
      "text/plain": [
       "DecisionTreeClassifier(ccp_alpha=0.0, class_weight=None, criterion='gini',\n",
       "                       max_depth=67.35017691080559, max_features=None,\n",
       "                       max_leaf_nodes=None, min_impurity_decrease=0.0,\n",
       "                       min_impurity_split=None,\n",
       "                       min_samples_leaf=0.005061583846218687,\n",
       "                       min_samples_split=0.16080805141749865,\n",
       "                       min_weight_fraction_leaf=0.0, presort='deprecated',\n",
       "                       random_state=None, splitter='best')"
      ]
     },
     "execution_count": 57,
     "metadata": {},
     "output_type": "execute_result"
    }
   ],
   "source": [
    "dt_rs.best_estimator_.named_steps['dt']"
   ]
  },
  {
   "cell_type": "code",
   "execution_count": 58,
   "metadata": {},
   "outputs": [
    {
     "data": {
      "image/png": "[encoded data removed]",
      "text/plain": [
       "<Figure size 720x720 with 1 Axes>"
      ]
     },
     "metadata": {
      "needs_background": "light"
     },
     "output_type": "display_data"
    }
   ],
   "source": [
    "plt.figure(figsize=(10, 10))\n",
    "plot_tree(dt_rs.best_estimator_.named_steps['dt'],\n",
    "          max_depth=6,\n",
    "          feature_names=coef_names,\n",
    "          class_names=dt_rs.best_estimator_.classes_,\n",
    "          filled=True,\n",
    "          label='root')"
   ]
  },
  {
   "cell_type": "markdown",
   "metadata": {},
   "source": [
    "While the Decision Tree wasn't our best model, it was perhaps our best easily-interpretable, so we wanted to visualize its primary choices.\n",
    "\n",
    "What we see are mostly filters to set aside instances of r/asoiaf, which, as we saw during EDA, had quite a number of distinctive terms rarely seen in the other two subreddits.\n",
    "\n",
    "Indeed, most of the major splits here focus on terms which showed up when we plotted the difference in frequency of words between subreddits, such as \"chapter\", the abbreviated names of book titles (e.g. \"adwd), and one of most distinctive words for r/freefolk, 'leak,' which we know is related to r/freefolk's founding purpose as a space to discuss leaks surrounding the development of the television show."
   ]
  }
 ],
 "metadata": {
  "kernelspec": {
   "display_name": "Python 3",
   "language": "python",
   "name": "python3"
  },
  "language_info": {
   "codemirror_mode": {
    "name": "ipython",
    "version": 3
   },
   "file_extension": ".py",
   "mimetype": "text/x-python",
   "name": "python",
   "nbconvert_exporter": "python",
   "pygments_lexer": "ipython3",
   "version": "3.7.6"
  },
  "toc": {
   "base_numbering": 1,
   "nav_menu": {},
   "number_sections": true,
   "sideBar": true,
   "skip_h1_title": false,
   "title_cell": "Table of Contents",
   "title_sidebar": "Contents",
   "toc_cell": false,
   "toc_position": {},
   "toc_section_display": true,
   "toc_window_display": false
  }
 },
 "nbformat": 4,
 "nbformat_minor": 4
}
